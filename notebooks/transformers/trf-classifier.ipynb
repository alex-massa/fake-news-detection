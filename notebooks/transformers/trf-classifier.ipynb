{
 "cells": [
  {
   "cell_type": "code",
   "execution_count": null,
   "id": "5b09bf4a-99ad-42c3-9f6f-64a2a48c94aa",
   "metadata": {},
   "outputs": [],
   "source": [
    "%run ./../data/load-dataset.ipynb\n",
    "%run ./../utils/_callbacks.ipynb\n",
    "%run ./../transformers/_load-trf-data.ipynb\n",
    "%matplotlib inline"
   ]
  },
  {
   "cell_type": "code",
   "execution_count": null,
   "id": "814f1a52-7c0b-4fa4-ad4e-83b43d1c88ba",
   "metadata": {},
   "outputs": [],
   "source": [
    "import numpy as np\n",
    "import tensorflow as tf\n",
    "import matplotlib.pyplot as plt\n",
    "from sklearn.model_selection import train_test_split\n",
    "from sklearn.metrics import ConfusionMatrixDisplay\n",
    "from tensorflow.keras import Model\n",
    "from tensorflow.keras.layers import Input, Dense\n",
    "from tensorflow.keras.optimizers import Adam, RMSprop\n",
    "from tensorflow.keras.regularizers import l1, l2, l1_l2"
   ]
  },
  {
   "cell_type": "code",
   "execution_count": null,
   "id": "b21a630b-3bc8-43d9-a983-026e00b87277",
   "metadata": {},
   "outputs": [],
   "source": [
    "ITERS = 5\n",
    "\n",
    "RANDOM_SEED = 0\n",
    "tf.keras.utils.set_random_seed(RANDOM_SEED)"
   ]
  },
  {
   "cell_type": "code",
   "execution_count": null,
   "id": "034c34f4-0f50-4c7b-9788-75366601c192",
   "metadata": {},
   "outputs": [],
   "source": [
    "corpus, labels = df[[proc_doc_col, label_col]].T.values\n",
    "X = trf_data\n",
    "y = labels.astype(int)\n",
    "\n",
    "X_train, X_test, y_train, y_test = train_test_split(X, y, test_size=.25, random_state=RANDOM_SEED)\n",
    "X_train, X_val, y_train, y_val = train_test_split(X_train, y_train, test_size=.3, random_state=RANDOM_SEED)\n",
    "\n",
    "X_train, X_val, X_test = dict(input_word_ids=(_ := X_train.swapaxes(0, 1))[0], input_mask=_[1], input_type_ids=_[2]), \\\n",
    "                         dict(input_word_ids=(_ := X_val.swapaxes(0, 1))[0], input_mask=_[1], input_type_ids=_[2]), \\\n",
    "                         dict(input_word_ids=(_ := X_test.swapaxes(0, 1))[0], input_mask=_[1], input_type_ids=_[2])\n",
    "y_train, y_val, y_test = tf.constant(y_train), tf.constant(y_val), tf.constant(y_test)"
   ]
  },
  {
   "cell_type": "code",
   "execution_count": null,
   "id": "62951966-16c3-4ec0-977e-f14eac5335fa",
   "metadata": {},
   "outputs": [],
   "source": [
    "input_layer = dict(input_word_ids=Input(shape=(trf_data.shape[-1], ), dtype=tf.int32),\n",
    "                   input_mask=Input(shape=(trf_data.shape[-1], ), dtype=tf.int32),\n",
    "                   input_type_ids=Input(shape=(trf_data.shape[-1], ), dtype=tf.int32))\n",
    "trf_output = trf_model(input_layer)['pooled_output']\n",
    "output_layer = Dense(1, activation=tf.nn.sigmoid)(trf_output)\n",
    "\n",
    "model = Model(input_layer, output_layer)\n",
    "optimizer = RMSprop(1e-6)\n",
    "model.compile(optimizer=optimizer, loss='binary_crossentropy', metrics=['binary_accuracy'])\n",
    "model.summary()"
   ]
  },
  {
   "cell_type": "code",
   "execution_count": null,
   "id": "b602cd50-23b0-455a-9b72-5b5cf4a96d46",
   "metadata": {},
   "outputs": [],
   "source": [
    "test_hist = KerasEpochCallback(end_func=model.evaluate, end_args=(X_test, y_test), end_kwargs={'verbose': False})\n",
    "train_hist = model.fit(X_train, y_train, validation_data=(X_val, y_val),\n",
    "                       epochs=ITERS, batch_size=16, shuffle=True, callbacks=[test_hist])\n",
    "\n",
    "train_metrics = np.array(list(zip(train_hist.history['loss'], train_hist.history['binary_accuracy'])))\n",
    "val_metrics = np.array(list(zip(train_hist.history['val_loss'], train_hist.history['val_binary_accuracy'])))\n",
    "test_metrics = np.array(test_hist.end_results)\n",
    "\n",
    "results = [{\"Training Loss\": train_loss, \"Training Accuracy\": train_acc,\n",
    "            \"Validation Loss\": val_loss, \"Validation Accuracy\": val_acc,\n",
    "            \"Test Loss\": test_loss, \"Test Accuracy\": test_acc} \n",
    "           for (train_loss, train_acc), (val_loss, val_acc), (test_loss, test_acc) \n",
    "           in zip(train_metrics, val_metrics, test_metrics)]\n",
    "\n",
    "results_df = pd.DataFrame(results)\n",
    "results_df.index += 1\n",
    "results_df.style.highlight_min(subset=[\"Training Accuracy\", \"Validation Accuracy\", \"Test Accuracy\"], color='lightcoral') \\\n",
    "                .highlight_max(subset=[\"Training Accuracy\", \"Validation Accuracy\", \"Test Accuracy\"], color='lightgreen') \\\n",
    "                .highlight_min(subset=[\"Training Loss\", \"Validation Loss\", \"Test Loss\"], color='lightgreen') \\\n",
    "                .highlight_max(subset=[\"Training Loss\", \"Validation Loss\", \"Test Loss\"], color='lightcoral')"
   ]
  },
  {
   "cell_type": "code",
   "execution_count": null,
   "id": "183505a7-0e72-41e4-a5c3-58451b9c177a",
   "metadata": {},
   "outputs": [],
   "source": [
    "ax = plt.gca()\n",
    "ax.plot(np.arange(0, ITERS), train_metrics.T[0], c='#1f77b4', label=\"Training\")\n",
    "ax.plot(np.arange(0, ITERS), val_metrics.T[0], c='#d62728', label=\"Validation\")\n",
    "ax.plot(np.arange(0, ITERS), test_metrics.T[0], c='#2ca02c', label=\"Test\")\n",
    "ax.legend()\n",
    "plt.xticks(np.arange(0, ITERS), np.arange(1, ITERS + 1))\n",
    "plt.title(\"Loss\")\n",
    "plt.tight_layout()"
   ]
  },
  {
   "cell_type": "code",
   "execution_count": null,
   "id": "843245ad-4511-4290-8b92-66b0d67499cc",
   "metadata": {},
   "outputs": [],
   "source": [
    "ax = plt.gca()\n",
    "ax.plot(np.arange(0, ITERS), train_metrics.T[1], c='#1f77b4', label=\"Training\")\n",
    "ax.plot(np.arange(0, ITERS), val_metrics.T[1], c='#d62728', label=\"Validation\")\n",
    "ax.plot(np.arange(0, ITERS), test_metrics.T[1], c='#2ca02c', label=\"Test\")\n",
    "ax.legend()\n",
    "plt.xticks(np.arange(0, ITERS), np.arange(1, ITERS + 1))\n",
    "plt.title(\"Accuracy\")\n",
    "plt.tight_layout()"
   ]
  },
  {
   "cell_type": "code",
   "execution_count": null,
   "id": "6599bcbb-1674-44ba-8909-91d99732f118",
   "metadata": {},
   "outputs": [],
   "source": [
    "true_preds = model.predict(X_test).flatten()\n",
    "y_preds = true_preds.round()\n",
    "ConfusionMatrixDisplay.from_predictions(y_preds, y_test, normalize='true', colorbar=False,\n",
    "                                        cmap=plt.cm.Blues, display_labels=(\"reliable\", \"unreliable\"))"
   ]
  }
 ],
 "metadata": {
  "kernelspec": {
   "display_name": "Python 3 (ipykernel)",
   "language": "python",
   "name": "python3"
  },
  "language_info": {
   "codemirror_mode": {
    "name": "ipython",
    "version": 3
   },
   "file_extension": ".py",
   "mimetype": "text/x-python",
   "name": "python",
   "nbconvert_exporter": "python",
   "pygments_lexer": "ipython3",
   "version": "3.10.4"
  }
 },
 "nbformat": 4,
 "nbformat_minor": 5
}
