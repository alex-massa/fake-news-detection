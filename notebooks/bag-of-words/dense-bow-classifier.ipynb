{
 "cells": [
  {
   "cell_type": "code",
   "execution_count": null,
   "id": "e621669b",
   "metadata": {},
   "outputs": [],
   "source": [
    "%run ./../data/load-dataset.ipynb\n",
    "%run ./../various/basic-neural-network.ipynb\n",
    "%matplotlib inline"
   ]
  },
  {
   "cell_type": "code",
   "execution_count": null,
   "id": "cea296cb",
   "metadata": {},
   "outputs": [],
   "source": [
    "import numpy as np\n",
    "import matplotlib.pyplot as plt\n",
    "from tqdm import tqdm\n",
    "from sklearn.model_selection import train_test_split\n",
    "from sklearn.metrics import ConfusionMatrixDisplay"
   ]
  },
  {
   "cell_type": "code",
   "execution_count": null,
   "id": "5a3633a0",
   "metadata": {},
   "outputs": [],
   "source": [
    "ITERS = 100\n",
    "\n",
    "RANDOM_SEED = 0"
   ]
  },
  {
   "cell_type": "code",
   "execution_count": null,
   "id": "bdc8920b",
   "metadata": {},
   "outputs": [],
   "source": [
    "def sparse_to_dense(sparse_bow_doc, dict_size):\n",
    "    dense_bow_doc = np.zeros(dict_size).astype(int)\n",
    "    dense_bow_doc[sparse_bow_doc.T[0]] = sparse_bow_doc.T[1]\n",
    "    return dense_bow_doc\n",
    "\n",
    "\n",
    "corpus, labels = df[[proc_doc_col, label_col]].T.values\n",
    "X = np.array([sparse_to_dense(np.array(dictionary.doc2bow(doc)), len(dictionary)) for doc in corpus])\n",
    "y = np.array([np.eye(2)[int(label)] for label in labels])\n",
    "train_samples, test_samples, train_labels, test_labels = train_test_split(X, y, random_state=RANDOM_SEED)"
   ]
  },
  {
   "cell_type": "code",
   "execution_count": null,
   "id": "80d91554",
   "metadata": {},
   "outputs": [],
   "source": [
    "hidden_layer_size = 100\n",
    "iterations = ITERS + 1\n",
    "alpha = 1e-3\n",
    "batch_size = 32  # set to 1 for stochastic gradient descent\n",
    "hid_activation = Activation.RELU\n",
    "out_activation = Activation.SIGMOID\n",
    "dropout = 0.5\n",
    "normalize = True\n",
    "skip_remaining = True\n",
    "is_generator = True\n",
    "random_seed = RANDOM_SEED\n",
    "\n",
    "model = BasicNeuralNetwork(hidden_layer_size, epochs=iterations, alpha=alpha,\n",
    "                           batch_size=batch_size, skip_remaining=skip_remaining,\n",
    "                           hid_activation=hid_activation, out_activation=out_activation, \n",
    "                           dropout=dropout, normalize=normalize,\n",
    "                           is_generator=is_generator, random_seed=random_seed)\n",
    "\n",
    "data = []\n",
    "for _ in tqdm(model.fit(train_samples, train_labels), disable=SILENT, total=iterations):\n",
    "    train_preds, test_preds = model.predict(train_samples), model.predict(test_samples)\n",
    "    train_loss, train_accuracy = model.evaluate(train_preds, train_labels)\n",
    "    test_loss, test_accuracy = model.evaluate(test_preds, test_labels)\n",
    "    data.append({'Train Predictions': train_preds, 'Test Predictions': test_preds,\n",
    "                 'Train Loss (MSE)': train_loss, 'Test Loss (MSE)': test_loss, \n",
    "                 'Train Accuracy': train_accuracy, 'Test Accuracy': test_accuracy})\n",
    "\n",
    "results = pd.DataFrame(data)\n",
    "results[['Train Loss (MSE)', 'Train Accuracy', 'Test Loss (MSE)', 'Test Accuracy']][::10].style \\\n",
    "            .highlight_min(subset=['Train Accuracy', 'Test Accuracy'], color='lightcoral') \\\n",
    "            .highlight_max(subset=['Train Accuracy', 'Test Accuracy'], color='lightgreen') \\\n",
    "            .highlight_min(subset=['Train Loss (MSE)', 'Test Loss (MSE)'], color='lightgreen') \\\n",
    "            .highlight_max(subset=['Train Loss (MSE)', 'Test Loss (MSE)'], color='lightcoral')"
   ]
  },
  {
   "cell_type": "code",
   "execution_count": null,
   "id": "c0863008",
   "metadata": {},
   "outputs": [],
   "source": [
    "normalize = 'true'\n",
    "\n",
    "true_preds, true_labels = [np.argmax(pred) for pred in test_preds], \\\n",
    "                          [np.argmax(label) for label in test_labels]\n",
    "ConfusionMatrixDisplay.from_predictions(true_labels, true_preds, normalize=normalize,\n",
    "                                        cmap=plt.cm.Blues, display_labels=('reliable', 'unreliable'))"
   ]
  }
 ],
 "metadata": {
  "kernelspec": {
   "display_name": "Python 3 (ipykernel)",
   "language": "python",
   "name": "python3"
  },
  "language_info": {
   "codemirror_mode": {
    "name": "ipython",
    "version": 3
   },
   "file_extension": ".py",
   "mimetype": "text/x-python",
   "name": "python",
   "nbconvert_exporter": "python",
   "pygments_lexer": "ipython3",
   "version": "3.9.8"
  }
 },
 "nbformat": 4,
 "nbformat_minor": 5
}
