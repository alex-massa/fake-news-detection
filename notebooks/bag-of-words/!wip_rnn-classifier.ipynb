{
 "cells": [
  {
   "cell_type": "code",
   "execution_count": null,
   "id": "02aa3f2b",
   "metadata": {},
   "outputs": [],
   "source": [
    "%run ./../data/load-dataset.ipynb\n",
    "%run ./../various/_epoch-callback.ipynb\n",
    "%matplotlib inline"
   ]
  },
  {
   "cell_type": "code",
   "execution_count": null,
   "id": "3918f318",
   "metadata": {},
   "outputs": [],
   "source": [
    "import numpy as np\n",
    "import matplotlib.pyplot as plt\n",
    "import tensorflow as tf\n",
    "from tqdm import tqdm\n",
    "from sklearn.model_selection import train_test_split\n",
    "from sklearn.metrics import ConfusionMatrixDisplay\n",
    "from tensorflow.keras.preprocessing.sequence import pad_sequences\n",
    "from tensorflow.keras.models import Sequential\n",
    "from tensorflow.keras.layers import Input, Embedding, RNN, GRU, LSTM, Dense, Dropout"
   ]
  },
  {
   "cell_type": "code",
   "execution_count": null,
   "id": "8f1c47d5",
   "metadata": {},
   "outputs": [],
   "source": [
    "ITERS = 10\n",
    "MAX_LENGTH = MIN_LENGTH + 200\n",
    "\n",
    "RANDOM_SEED = 0"
   ]
  },
  {
   "cell_type": "code",
   "execution_count": null,
   "id": "3772d238",
   "metadata": {},
   "outputs": [],
   "source": [
    "corpus, labels = df[[proc_doc_col, label_col]].T.values\n",
    "X = np.array(pad_sequences([dictionary.doc2idx(doc) for doc in corpus],\n",
    "                           maxlen=MAX_LENGTH, truncating='post'))\n",
    "y = np.array([np.eye(2)[int(label)] for label in labels])\n",
    "train_samples, test_samples, train_labels, test_labels = train_test_split(X, y, random_state=RANDOM_SEED)"
   ]
  },
  {
   "cell_type": "code",
   "execution_count": null,
   "id": "67212794",
   "metadata": {},
   "outputs": [],
   "source": [
    "model = Sequential()\n",
    "model.add(Input(shape=MAX_LENGTH, dtype=tf.int32))\n",
    "model.add(Embedding(input_dim=len(dictionary), output_dim=100, mask_zero=False))\n",
    "model.add(GRU(128))\n",
    "model.add(Dropout(0.5))\n",
    "model.add(Dense(2, activation=tf.nn.sigmoid))\n",
    "model.compile(optimizer='adam', loss='binary_crossentropy', metrics=['accuracy'])\n",
    "\n",
    "training_set_hist = KerasEpochCallback(end_func=model.evaluate,\n",
    "                                       end_args=(train_samples, train_labels), \n",
    "                                       end_kwargs={'verbose': False})\n",
    "test_set_hist = KerasEpochCallback(end_func=model.evaluate, \n",
    "                                   end_args=(test_samples, test_labels), \n",
    "                                   end_kwargs={'verbose': False})\n",
    "model.summary()"
   ]
  },
  {
   "cell_type": "code",
   "execution_count": null,
   "id": "979a4b2c",
   "metadata": {},
   "outputs": [],
   "source": [
    "training_hist = model.fit(train_samples, train_labels, epochs=ITERS, batch_size=32,\n",
    "                          callbacks=[training_set_hist, test_set_hist])\n",
    "\n",
    "training_metrics = np.array(list(zip(training_hist.history['loss'], training_hist.history['accuracy'])))\n",
    "training_set_metrics = np.array(training_set_hist.end_results)\n",
    "test_set_metrics = np.array(test_set_hist.end_results)\n",
    "\n",
    "results = [{'Training Loss': training_loss, 'Training Accuracy': training_acc,\n",
    "            'Training Set Loss': training_set_loss, 'Training Set Accuracy': training_set_acc,\n",
    "            'Test Set Loss': test_set_loss, 'Test Set Accuracy': test_set_acc} \n",
    "           for (training_loss, training_acc), \n",
    "               (training_set_loss, training_set_acc), \n",
    "               (test_set_loss, test_set_acc) \n",
    "           in zip(training_metrics, training_set_metrics, test_set_metrics)]\n",
    "\n",
    "results_df = pd.DataFrame(results)\n",
    "results_df.index += 1\n",
    "results_df[['Training Loss', 'Training Accuracy', \n",
    "            'Training Set Loss', 'Training Set Accuracy', \n",
    "            'Test Set Loss', 'Test Set Accuracy']].style \\\n",
    "                .highlight_min(subset=['Training Accuracy', 'Training Set Accuracy', 'Test Set Accuracy'],\n",
    "                               color='lightcoral') \\\n",
    "                .highlight_max(subset=['Training Accuracy', 'Training Set Accuracy', 'Test Set Accuracy'],\n",
    "                               color='lightgreen') \\\n",
    "                .highlight_min(subset=['Training Loss', 'Training Set Loss', 'Test Set Loss'], \n",
    "                               color='lightgreen') \\\n",
    "                .highlight_max(subset=['Training Loss', 'Training Set Loss', 'Test Set Loss'], \n",
    "                               color='lightcoral')"
   ]
  },
  {
   "cell_type": "code",
   "execution_count": null,
   "id": "d211f323",
   "metadata": {},
   "outputs": [],
   "source": [
    "ax = plt.gca()\n",
    "ax.plot(np.arange(0, ITERS), training_metrics.T[0], '-', label=\"During Training\")\n",
    "ax.plot(np.arange(0, ITERS), training_set_metrics.T[0], '--', label=\"On Training Set\")\n",
    "ax.plot(np.arange(0, ITERS), test_set_metrics.T[0], ':', label=\"On Test Set\")\n",
    "ax.legend()\n",
    "plt.title(\"Loss\")\n",
    "plt.tight_layout()"
   ]
  },
  {
   "cell_type": "code",
   "execution_count": null,
   "id": "d770fff7",
   "metadata": {},
   "outputs": [],
   "source": [
    "ax = plt.gca()\n",
    "ax.plot(np.arange(0, ITERS), training_metrics.T[1], '-', label=\"During Training\")\n",
    "ax.plot(np.arange(0, ITERS), training_set_metrics.T[1], '--', label=\"On Training Set\")\n",
    "ax.plot(np.arange(0, ITERS), test_set_metrics.T[1], ':', label=\"On Test Set\")\n",
    "ax.legend()\n",
    "plt.title(\"Accuracy\")\n",
    "plt.tight_layout()"
   ]
  },
  {
   "cell_type": "code",
   "execution_count": null,
   "id": "0224c257",
   "metadata": {},
   "outputs": [],
   "source": [
    "test_preds = model.predict(test_samples)\n",
    "true_preds, true_labels = [np.argmax(pred) for pred in test_preds], \\\n",
    "                          [np.argmax(label) for label in test_labels]\n",
    "ConfusionMatrixDisplay.from_predictions(true_labels, true_preds, normalize='true',\n",
    "                                        cmap=plt.cm.Blues, display_labels=('reliable', 'unreliable'))"
   ]
  }
 ],
 "metadata": {
  "kernelspec": {
   "display_name": "Python 3 (ipykernel)",
   "language": "python",
   "name": "python3"
  },
  "language_info": {
   "codemirror_mode": {
    "name": "ipython",
    "version": 3
   },
   "file_extension": ".py",
   "mimetype": "text/x-python",
   "name": "python",
   "nbconvert_exporter": "python",
   "pygments_lexer": "ipython3",
   "version": "3.9.8"
  }
 },
 "nbformat": 4,
 "nbformat_minor": 5
}
