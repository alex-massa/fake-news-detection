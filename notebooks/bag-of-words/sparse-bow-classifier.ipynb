{
 "cells": [
  {
   "cell_type": "code",
   "execution_count": null,
   "id": "767826dd",
   "metadata": {},
   "outputs": [],
   "source": [
    "%run ./../data/load-dataset.ipynb\n",
    "%run ./../various/_epoch-callback.ipynb\n",
    "%matplotlib inline"
   ]
  },
  {
   "cell_type": "code",
   "execution_count": null,
   "id": "093f6418",
   "metadata": {},
   "outputs": [],
   "source": [
    "import numpy as np\n",
    "import tensorflow as tf\n",
    "import matplotlib.pyplot as plt\n",
    "from sklearn.model_selection import train_test_split\n",
    "from sklearn.metrics import ConfusionMatrixDisplay\n",
    "from tensorflow import SparseTensor\n",
    "from tensorflow.keras.models import Sequential\n",
    "from tensorflow.keras.layers import Input, Dense, Dropout"
   ]
  },
  {
   "cell_type": "code",
   "execution_count": null,
   "id": "9375f995",
   "metadata": {},
   "outputs": [],
   "source": [
    "BINARY = False\n",
    "ITERS = 10\n",
    "\n",
    "TOP_WORDS = None\n",
    "dictionary.filter_extremes(no_below=1, no_above=max(dictionary.cfs.values()), keep_n=TOP_WORDS)\n",
    "\n",
    "RANDOM_SEED = 0\n",
    "tf.keras.utils.set_random_seed(RANDOM_SEED)"
   ]
  },
  {
   "cell_type": "code",
   "execution_count": null,
   "id": "e8dc57ac",
   "metadata": {},
   "outputs": [],
   "source": [
    "corpus, labels = df[[proc_doc_col, label_col]].T.values\n",
    "X = [dictionary.doc2bow(doc) for doc in corpus]\n",
    "y = labels.astype(int)\n",
    "X, y = list((zip(*[(sample, label) for sample, label in zip(X, y) if len(sample) > 0])))\n",
    "train_samples, test_samples, train_labels, test_labels = train_test_split(X, y, random_state=RANDOM_SEED)\n",
    "\n",
    "_ = {(row, col): val if not BINARY else 1 for row, sample in enumerate(train_samples) for (col, val) in sample}\n",
    "train_samples = SparseTensor(indices=list(_.keys()), values=list(_.values()),\n",
    "                            dense_shape=(len(train_samples), len(dictionary)))\n",
    "del(_)\n",
    "\n",
    "_ = {(row, col): val if not BINARY else 1 for row, sample in enumerate(test_samples) for (col, val) in sample}\n",
    "test_samples = SparseTensor(indices=list(_.keys()), values=list(_.values()),\n",
    "                            dense_shape=(len(test_samples), len(dictionary)))\n",
    "del(_)\n",
    "\n",
    "train_labels, test_labels = tf.constant(train_labels), tf.constant(test_labels)"
   ]
  },
  {
   "cell_type": "code",
   "execution_count": null,
   "id": "487fe670",
   "metadata": {
    "scrolled": false
   },
   "outputs": [],
   "source": [
    "model = Sequential([\n",
    "    Input(shape=len(dictionary), sparse=True, dtype=tf.int32),\n",
    "    Dense(128, activation=tf.nn.relu),\n",
    "    Dropout(0.9),\n",
    "    Dense(1, activation=tf.nn.sigmoid)\n",
    "])\n",
    "model.compile(optimizer='adam', loss='binary_crossentropy', metrics=['binary_accuracy'])\n",
    "\n",
    "training_set_hist = KerasEpochCallback(end_func=model.evaluate,\n",
    "                                       end_args=(train_samples, train_labels), \n",
    "                                       end_kwargs={'verbose': False})\n",
    "test_set_hist = KerasEpochCallback(end_func=model.evaluate,\n",
    "                                   end_args=(test_samples, test_labels), \n",
    "                                   end_kwargs={'verbose': False})\n",
    "model.summary()"
   ]
  },
  {
   "cell_type": "code",
   "execution_count": null,
   "id": "ddbf5887",
   "metadata": {
    "scrolled": true
   },
   "outputs": [],
   "source": [
    "training_hist = model.fit(train_samples, train_labels, epochs=ITERS, batch_size=32,\n",
    "                          callbacks=[training_set_hist, test_set_hist])\n",
    "\n",
    "training_metrics = np.array(list(zip(training_hist.history['loss'], training_hist.history['binary_accuracy'])))\n",
    "training_set_metrics = np.array(training_set_hist.end_results)\n",
    "test_set_metrics = np.array(test_set_hist.end_results)\n",
    "\n",
    "results = [{'Training Loss': training_loss, 'Training Accuracy': training_acc,\n",
    "            'Training Set Loss': training_set_loss, 'Training Set Accuracy': training_set_acc,\n",
    "            'Test Set Loss': test_set_loss, 'Test Set Accuracy': test_set_acc} \n",
    "           for (training_loss, training_acc), \n",
    "               (training_set_loss, training_set_acc), \n",
    "               (test_set_loss, test_set_acc) \n",
    "           in zip(training_metrics, training_set_metrics, test_set_metrics)]\n",
    "\n",
    "results_df = pd.DataFrame(results)\n",
    "results_df.index += 1\n",
    "results_df[['Training Loss', 'Training Accuracy', \n",
    "            'Training Set Loss', 'Training Set Accuracy', \n",
    "            'Test Set Loss', 'Test Set Accuracy']].style \\\n",
    "                .highlight_min(subset=['Training Accuracy', 'Training Set Accuracy', 'Test Set Accuracy'],\n",
    "                               color='lightcoral') \\\n",
    "                .highlight_max(subset=['Training Accuracy', 'Training Set Accuracy', 'Test Set Accuracy'],\n",
    "                               color='lightgreen') \\\n",
    "                .highlight_min(subset=['Training Loss', 'Training Set Loss', 'Test Set Loss'], \n",
    "                               color='lightgreen') \\\n",
    "                .highlight_max(subset=['Training Loss', 'Training Set Loss', 'Test Set Loss'], \n",
    "                               color='lightcoral')"
   ]
  },
  {
   "cell_type": "code",
   "execution_count": null,
   "id": "98977712",
   "metadata": {
    "scrolled": true
   },
   "outputs": [],
   "source": [
    "ax = plt.gca()\n",
    "ax.plot(np.arange(0, ITERS), training_metrics.T[0], c='#1f77b4', label=\"During Training\")\n",
    "ax.plot(np.arange(0, ITERS), training_set_metrics.T[0], c='#d62728', label=\"On Training Set\")\n",
    "ax.plot(np.arange(0, ITERS), test_set_metrics.T[0], c='#2ca02c', label=\"On Test Set\")\n",
    "ax.legend()\n",
    "plt.xticks(np.arange(0, ITERS), np.arange(1, ITERS + 1))\n",
    "plt.title(\"Loss\")\n",
    "plt.tight_layout()"
   ]
  },
  {
   "cell_type": "code",
   "execution_count": null,
   "id": "c686b5fe",
   "metadata": {},
   "outputs": [],
   "source": [
    "ax = plt.gca()\n",
    "ax.plot(np.arange(0, ITERS), training_metrics.T[1], c='#1f77b4', label=\"During Training\")\n",
    "ax.plot(np.arange(0, ITERS), training_set_metrics.T[1], c='#d62728', label=\"On Training Set\")\n",
    "ax.plot(np.arange(0, ITERS), test_set_metrics.T[1], c='#2ca02c', label=\"On Test Set\")\n",
    "ax.legend()\n",
    "plt.xticks(np.arange(0, ITERS), np.arange(1, ITERS + 1))\n",
    "plt.title(\"Accuracy\")\n",
    "plt.tight_layout()"
   ]
  },
  {
   "cell_type": "code",
   "execution_count": null,
   "id": "92d27eb2",
   "metadata": {},
   "outputs": [],
   "source": [
    "true_preds = model.predict(test_samples).flatten()\n",
    "test_preds = true_preds.round()\n",
    "ConfusionMatrixDisplay.from_predictions(test_preds, test_labels, normalize='true', colorbar=False,\n",
    "                                        cmap=plt.cm.Blues, display_labels=('reliable', 'unreliable'))"
   ]
  }
 ],
 "metadata": {
  "kernelspec": {
   "display_name": "Python 3 (ipykernel)",
   "language": "python",
   "name": "python3"
  },
  "language_info": {
   "codemirror_mode": {
    "name": "ipython",
    "version": 3
   },
   "file_extension": ".py",
   "mimetype": "text/x-python",
   "name": "python",
   "nbconvert_exporter": "python",
   "pygments_lexer": "ipython3",
   "version": "3.9.8"
  }
 },
 "nbformat": 4,
 "nbformat_minor": 5
}
