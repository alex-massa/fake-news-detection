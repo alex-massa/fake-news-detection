{
 "cells": [
  {
   "cell_type": "code",
   "execution_count": null,
   "id": "767826dd",
   "metadata": {},
   "outputs": [],
   "source": [
    "%run ./../data/load-dataset.ipynb\n",
    "%run ./../various/_epoch-callback.ipynb\n",
    "%matplotlib inline"
   ]
  },
  {
   "cell_type": "code",
   "execution_count": null,
   "id": "093f6418",
   "metadata": {},
   "outputs": [],
   "source": [
    "import numpy as np\n",
    "import tensorflow as tf\n",
    "import matplotlib.pyplot as plt\n",
    "from sklearn.model_selection import train_test_split\n",
    "from sklearn.metrics import ConfusionMatrixDisplay\n",
    "from tensorflow import SparseTensor\n",
    "from tensorflow.keras import Input\n",
    "from tensorflow.keras.models import Sequential\n",
    "from tensorflow.keras.layers import Dense, Dropout"
   ]
  },
  {
   "cell_type": "code",
   "execution_count": null,
   "id": "9375f995",
   "metadata": {},
   "outputs": [],
   "source": [
    "ITERS = 10\n",
    "\n",
    "RANDOM_SEED = 0"
   ]
  },
  {
   "cell_type": "code",
   "execution_count": null,
   "id": "e8dc57ac",
   "metadata": {},
   "outputs": [],
   "source": [
    "corpus, labels = df[[proc_doc_col, label_col]].T.values\n",
    "X = [dictionary.doc2bow(doc) for doc in corpus]\n",
    "y = np.array([np.eye(2)[int(label)] for label in labels])\n",
    "train_samples, test_samples, train_labels, test_labels = train_test_split(X, y, random_state=RANDOM_SEED)"
   ]
  },
  {
   "cell_type": "code",
   "execution_count": null,
   "id": "36ef6009",
   "metadata": {},
   "outputs": [],
   "source": [
    "_ = {(row, col): val for row, sample in enumerate(train_samples) for (col, val) in sample}\n",
    "train_tensor = SparseTensor(indices=list(_.keys()), values=list(_.values()),\n",
    "                            dense_shape=(len(train_samples), len(dictionary)))\n",
    "_ = {(row, col): val for row, sample in enumerate(test_samples) for (col, val) in sample}\n",
    "test_tensor = SparseTensor(indices=list(_.keys()), values=list(_.values()),\n",
    "                           dense_shape=(len(test_samples), len(dictionary)))\n",
    "del(_)"
   ]
  },
  {
   "cell_type": "code",
   "execution_count": null,
   "id": "487fe670",
   "metadata": {
    "scrolled": false
   },
   "outputs": [],
   "source": [
    "model = Sequential()\n",
    "model.add(Input(shape=len(dictionary), sparse=True))\n",
    "model.add(Dense(128, activation=tf.nn.relu))\n",
    "model.add(Dropout(0.5))\n",
    "model.add(Dense(2, activation=tf.nn.sigmoid))\n",
    "model.compile(optimizer='adam', loss='binary_crossentropy', metrics=['accuracy'])\n",
    "\n",
    "training_set_hist = KerasEpochCallback(end_func=model.evaluate,\n",
    "                                       end_args=(train_tensor, train_labels), \n",
    "                                       end_kwargs={'verbose': False})\n",
    "test_set_hist = KerasEpochCallback(end_func=model.evaluate,\n",
    "                                   end_args=(test_tensor, test_labels), \n",
    "                                   end_kwargs={'verbose': False})\n",
    "model.summary()"
   ]
  },
  {
   "cell_type": "code",
   "execution_count": null,
   "id": "ddbf5887",
   "metadata": {},
   "outputs": [],
   "source": [
    "training_hist = model.fit(train_tensor, train_labels, epochs=ITERS, batch_size=32,\n",
    "                          callbacks=[training_set_hist, test_set_hist])\n",
    "\n",
    "training_metrics = np.array(list(zip(training_hist.history['loss'], training_hist.history['accuracy'])))\n",
    "training_set_metrics = np.array(training_set_hist.end_results)\n",
    "test_set_metrics = np.array(test_set_hist.end_results)\n",
    "\n",
    "results = [{'Training Loss': training_loss, 'Training Accuracy': training_acc,\n",
    "            'Training Set Loss': training_set_loss, 'Training Set Accuracy': training_set_acc,\n",
    "            'Test Set Loss': test_set_loss, 'Test Set Accuracy': test_set_acc} \n",
    "           for (training_loss, training_acc), \n",
    "               (training_set_loss, training_set_acc), \n",
    "               (test_set_loss, test_set_acc) \n",
    "           in zip(training_metrics, training_set_metrics, test_set_metrics)]\n",
    "\n",
    "results_df = pd.DataFrame(results)\n",
    "results_df.index += 1\n",
    "results_df[['Training Loss', 'Training Accuracy', \n",
    "            'Training Set Loss', 'Training Set Accuracy', \n",
    "            'Test Set Loss', 'Test Set Accuracy']].style \\\n",
    "                .highlight_min(subset=['Training Accuracy', 'Training Set Accuracy', 'Test Set Accuracy'],\n",
    "                               color='lightcoral') \\\n",
    "                .highlight_max(subset=['Training Accuracy', 'Training Set Accuracy', 'Test Set Accuracy'],\n",
    "                               color='lightgreen') \\\n",
    "                .highlight_min(subset=['Training Loss', 'Training Set Loss', 'Test Set Loss'], \n",
    "                               color='lightgreen') \\\n",
    "                .highlight_max(subset=['Training Loss', 'Training Set Loss', 'Test Set Loss'], \n",
    "                               color='lightcoral')"
   ]
  },
  {
   "cell_type": "code",
   "execution_count": null,
   "id": "98977712",
   "metadata": {},
   "outputs": [],
   "source": [
    "ax = plt.gca()\n",
    "ax.plot(np.arange(0, ITERS), training_metrics.T[0], '-', label=\"During Training\")\n",
    "ax.plot(np.arange(0, ITERS), training_set_metrics.T[0], '--', label=\"On Training Set\")\n",
    "ax.plot(np.arange(0, ITERS), test_set_metrics.T[0], ':', label=\"On Test Set\")\n",
    "ax.legend()\n",
    "plt.title(\"Loss\")\n",
    "plt.tight_layout()"
   ]
  },
  {
   "cell_type": "code",
   "execution_count": null,
   "id": "c686b5fe",
   "metadata": {},
   "outputs": [],
   "source": [
    "ax = plt.gca()\n",
    "ax.plot(np.arange(0, ITERS), training_metrics.T[1], '-', label=\"During Training\")\n",
    "ax.plot(np.arange(0, ITERS), training_set_metrics.T[1], '--', label=\"On Training Set\")\n",
    "ax.plot(np.arange(0, ITERS), test_set_metrics.T[1], ':', label=\"On Test Set\")\n",
    "ax.legend()\n",
    "plt.title(\"Accuracy\")\n",
    "plt.tight_layout()"
   ]
  },
  {
   "cell_type": "code",
   "execution_count": null,
   "id": "92d27eb2",
   "metadata": {},
   "outputs": [],
   "source": [
    "test_preds = model.predict(test_tensor)\n",
    "true_preds, true_labels = [np.argmax(pred) for pred in test_preds], \\\n",
    "                          [np.argmax(label) for label in test_labels]\n",
    "ConfusionMatrixDisplay.from_predictions(true_labels, true_preds, normalize='true',\n",
    "                                        cmap=plt.cm.Blues, display_labels=('reliable', 'unreliable'))"
   ]
  }
 ],
 "metadata": {
  "kernelspec": {
   "display_name": "Python 3 (ipykernel)",
   "language": "python",
   "name": "python3"
  },
  "language_info": {
   "codemirror_mode": {
    "name": "ipython",
    "version": 3
   },
   "file_extension": ".py",
   "mimetype": "text/x-python",
   "name": "python",
   "nbconvert_exporter": "python",
   "pygments_lexer": "ipython3",
   "version": "3.9.8"
  }
 },
 "nbformat": 4,
 "nbformat_minor": 5
}
