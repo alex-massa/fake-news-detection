{
 "cells": [
  {
   "cell_type": "code",
   "execution_count": null,
   "id": "767826dd",
   "metadata": {},
   "outputs": [],
   "source": [
    "%run ./../data/load-dataset.ipynb\n",
    "%run ./../utils/_callbacks.ipynb\n",
    "%matplotlib inline"
   ]
  },
  {
   "cell_type": "code",
   "execution_count": null,
   "id": "093f6418",
   "metadata": {},
   "outputs": [],
   "source": [
    "import numpy as np\n",
    "import tensorflow as tf\n",
    "import matplotlib.pyplot as plt\n",
    "from sklearn.model_selection import train_test_split\n",
    "from sklearn.metrics import ConfusionMatrixDisplay\n",
    "from tensorflow import SparseTensor\n",
    "from tensorflow.keras.models import Sequential\n",
    "from tensorflow.keras.layers import Input, Dense, Dropout\n",
    "from tensorflow.keras.optimizers import SGD"
   ]
  },
  {
   "cell_type": "code",
   "execution_count": null,
   "id": "9375f995",
   "metadata": {},
   "outputs": [],
   "source": [
    "ITERS = 10\n",
    "\n",
    "BINARY = False\n",
    "\n",
    "TOP_WORDS = None\n",
    "dictionary.filter_extremes(no_below=1, no_above=1, keep_n=TOP_WORDS)\n",
    "\n",
    "RANDOM_SEED = 0\n",
    "tf.keras.utils.set_random_seed(RANDOM_SEED)"
   ]
  },
  {
   "cell_type": "code",
   "execution_count": null,
   "id": "c979b229",
   "metadata": {},
   "outputs": [],
   "source": [
    "corpus, labels = df[[proc_doc_col, label_col]].T.values\n",
    "X = [dictionary.doc2bow(doc) for doc in corpus]\n",
    "y = labels.astype(int)\n",
    "\n",
    "X, y = list((zip(*[(sample, label) for sample, label in zip(X, y) if len(sample) > 0])))\n",
    "\n",
    "if BINARY:\n",
    "    X = [[(col, 1) for col, val in sample] for sample in X]\n",
    "\n",
    "X_train, X_test, y_train, y_test = train_test_split(X, y, test_size=.25, random_state=RANDOM_SEED)\n",
    "X_train, X_val, y_train, y_val = train_test_split(X_train, y_train, test_size=.3, random_state=RANDOM_SEED)\n",
    "\n",
    "_ = {(row, col): val for row, sample in enumerate(X_train) for (col, val) in sample}\n",
    "X_train = SparseTensor(indices=list(_.keys()), values=list(_.values()), dense_shape=(len(X_train), len(dictionary)))\n",
    "del(_)\n",
    "\n",
    "_ = {(row, col): val for row, sample in enumerate(X_val) for (col, val) in sample}\n",
    "X_val = SparseTensor(indices=list(_.keys()), values=list(_.values()), dense_shape=(len(X_val), len(dictionary)))\n",
    "del(_)\n",
    "\n",
    "_ = {(row, col): val for row, sample in enumerate(X_test) for (col, val) in sample}\n",
    "X_test = SparseTensor(indices=list(_.keys()), values=list(_.values()), dense_shape=(len(X_test), len(dictionary)))\n",
    "del(_)\n",
    "\n",
    "y_train, y_val, y_test = tf.constant(y_train), tf.constant(y_val), tf.constant(y_test)"
   ]
  },
  {
   "cell_type": "code",
   "execution_count": null,
   "id": "012594a5-099c-439e-831c-99ee0279e6ac",
   "metadata": {},
   "outputs": [],
   "source": [
    "model = Sequential([\n",
    "    Input(shape=len(dictionary), sparse=True, dtype=tf.int32),\n",
    "    Dense(8, activation=tf.nn.relu),\n",
    "    Dropout(0.5),\n",
    "    Dense(1, activation=tf.nn.sigmoid)\n",
    "])\n",
    "optimizer = SGD(1e-3)\n",
    "model.compile(optimizer=optimizer, loss='binary_crossentropy', metrics=['binary_accuracy'])\n",
    "model.summary()"
   ]
  },
  {
   "cell_type": "code",
   "execution_count": null,
   "id": "e223b7f8-ab5d-4d5f-9384-cc7df0f306b4",
   "metadata": {},
   "outputs": [],
   "source": [
    "test_hist = KerasEpochCallback(end_func=model.evaluate, end_args=(X_test, y_test), end_kwargs={'verbose': False})\n",
    "train_hist = model.fit(X_train, y_train, validation_data=(X_val, y_val),\n",
    "                       epochs=ITERS, batch_size=16, shuffle=True, callbacks=[test_hist])\n",
    "\n",
    "train_metrics = np.array(list(zip(train_hist.history['loss'], train_hist.history['binary_accuracy'])))\n",
    "val_metrics = np.array(list(zip(train_hist.history['val_loss'], train_hist.history['val_binary_accuracy'])))\n",
    "test_metrics = np.array(test_hist.end_results)\n",
    "\n",
    "results = [{\"Training Loss\": train_loss, \"Training Accuracy\": train_acc,\n",
    "            \"Validation Loss\": val_loss, \"Validation Accuracy\": val_acc,\n",
    "            \"Test Loss\": test_loss, \"Test Accuracy\": test_acc} \n",
    "           for (train_loss, train_acc), (val_loss, val_acc), (test_loss, test_acc) \n",
    "           in zip(train_metrics, val_metrics, test_metrics)]\n",
    "\n",
    "results_df = pd.DataFrame(results)\n",
    "results_df.index += 1\n",
    "results_df.style.highlight_min(subset=[\"Training Accuracy\", \"Validation Accuracy\", \"Test Accuracy\"], color='lightcoral') \\\n",
    "                .highlight_max(subset=[\"Training Accuracy\", \"Validation Accuracy\", \"Test Accuracy\"], color='lightgreen') \\\n",
    "                .highlight_min(subset=[\"Training Loss\", \"Validation Loss\", \"Test Loss\"], color='lightgreen') \\\n",
    "                .highlight_max(subset=[\"Training Loss\", \"Validation Loss\", \"Test Loss\"], color='lightcoral')"
   ]
  },
  {
   "cell_type": "code",
   "execution_count": null,
   "id": "98977712",
   "metadata": {},
   "outputs": [],
   "source": [
    "ax = plt.gca()\n",
    "ax.plot(np.arange(0, ITERS), train_metrics.T[0], c='#1f77b4', label=\"Training\")\n",
    "ax.plot(np.arange(0, ITERS), val_metrics.T[0], c='#d62728', label=\"Validation\")\n",
    "ax.plot(np.arange(0, ITERS), test_metrics.T[0], c='#2ca02c', label=\"Test\")\n",
    "ax.legend()\n",
    "plt.xticks(np.arange(0, ITERS), np.arange(1, ITERS + 1))\n",
    "plt.title(\"Loss\")\n",
    "plt.tight_layout()"
   ]
  },
  {
   "cell_type": "code",
   "execution_count": null,
   "id": "c686b5fe",
   "metadata": {},
   "outputs": [],
   "source": [
    "ax = plt.gca()\n",
    "ax.plot(np.arange(0, ITERS), train_metrics.T[1], c='#1f77b4', label=\"Training\")\n",
    "ax.plot(np.arange(0, ITERS), val_metrics.T[1], c='#d62728', label=\"Validation\")\n",
    "ax.plot(np.arange(0, ITERS), test_metrics.T[1], c='#2ca02c', label=\"Test\")\n",
    "ax.legend()\n",
    "plt.xticks(np.arange(0, ITERS), np.arange(1, ITERS + 1))\n",
    "plt.title(\"Accuracy\")\n",
    "plt.tight_layout()"
   ]
  },
  {
   "cell_type": "code",
   "execution_count": null,
   "id": "92d27eb2",
   "metadata": {
    "scrolled": true
   },
   "outputs": [],
   "source": [
    "true_preds = model.predict(X_test).flatten()\n",
    "y_preds = true_preds.round()\n",
    "ConfusionMatrixDisplay.from_predictions(y_preds, y_test, normalize='true', colorbar=False,\n",
    "                                        cmap=plt.cm.Blues, display_labels=(\"reliable\", \"unreliable\"))"
   ]
  }
 ],
 "metadata": {
  "kernelspec": {
   "display_name": "Python 3 (ipykernel)",
   "language": "python",
   "name": "python3"
  },
  "language_info": {
   "codemirror_mode": {
    "name": "ipython",
    "version": 3
   },
   "file_extension": ".py",
   "mimetype": "text/x-python",
   "name": "python",
   "nbconvert_exporter": "python",
   "pygments_lexer": "ipython3",
   "version": "3.10.4"
  }
 },
 "nbformat": 4,
 "nbformat_minor": 5
}
