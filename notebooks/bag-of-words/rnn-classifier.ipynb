{
 "cells": [
  {
   "cell_type": "code",
   "execution_count": 1,
   "id": "02aa3f2b",
   "metadata": {},
   "outputs": [
    {
     "name": "stderr",
     "output_type": "stream",
     "text": [
      "2022-02-19 03:01:06,686 - __main__ - INFO - Loading dataset from disk...\n",
      "2022-02-19 03:01:18,445 - __main__ - INFO - Dataset loaded.\n",
      "2022-02-19 03:01:18,447 - __main__ - INFO - Preprocessing the dataset...\n",
      "2022-02-19 03:06:34,151 - __main__ - INFO - Dataset preprocessed.\n",
      "2022-02-19 03:06:34,151 - __main__ - INFO - Subsampling the dataset...\n",
      "2022-02-19 03:06:34,828 - __main__ - INFO - Dataset subsampled.\n",
      "2022-02-19 03:06:56,687 - __main__ - INFO - Saving preprocessed dataset to disk...\n",
      "2022-02-19 03:07:03,528 - __main__ - INFO - Preprocessed dataset saved to disk.\n"
     ]
    }
   ],
   "source": [
    "%run ./../data/load-dataset.ipynb\n",
    "%run ./../various/_epoch_callback.ipynb\n",
    "%matplotlib inline"
   ]
  },
  {
   "cell_type": "code",
   "execution_count": 2,
   "id": "3918f318",
   "metadata": {},
   "outputs": [],
   "source": [
    "import numpy as np\n",
    "import matplotlib.pyplot as plt\n",
    "import tensorflow as tf\n",
    "from tqdm import tqdm\n",
    "from sklearn.model_selection import train_test_split\n",
    "from sklearn.metrics import ConfusionMatrixDisplay\n",
    "from tensorflow.keras.models import Sequential\n",
    "from tensorflow.keras.layers import Input, Embedding, RNN, GRU, LSTM, Dense, Dropout, ReLU"
   ]
  },
  {
   "cell_type": "code",
   "execution_count": 3,
   "id": "8f1c47d5",
   "metadata": {},
   "outputs": [],
   "source": [
    "ITERS = 10\n",
    "MAX_LENGTH = MIN_LENGTH + 200\n",
    "\n",
    "RANDOM_SEED = 0\n",
    "if RANDOM_SEED is not None:\n",
    "    import os\n",
    "    os.environ['PYTHONHASHSEED'] = str(RANDOM_SEED)\n",
    "    tf.random.set_seed(RANDOM_SEED)"
   ]
  },
  {
   "cell_type": "code",
   "execution_count": 4,
   "id": "6aa74852",
   "metadata": {},
   "outputs": [],
   "source": [
    "corpus, labels = df[[proc_doc_col, label_col]].T.values\n",
    "X = np.array([[0] * (MAX_LENGTH - len(_ := doc[:MAX_LENGTH])) \\\n",
    "             + [dictionary.token2id[token] for token in _] for doc in corpus])\n",
    "#X = [[dictionary.token2id[token] for token in doc] for doc in corpus]\n",
    "y = np.array([np.eye(2)[int(label)] for label in labels])\n",
    "train_samples, test_samples, train_labels, test_labels = train_test_split(X, y, random_state=RANDOM_SEED)\n",
    "#train_samples, test_samples = tf.ragged.constant(train_samples), tf.ragged.constant(test_samples)"
   ]
  },
  {
   "cell_type": "code",
   "execution_count": 5,
   "id": "39f3381f",
   "metadata": {},
   "outputs": [
    {
     "name": "stdout",
     "output_type": "stream",
     "text": [
      "Epoch 1/10\n",
      "1172/1172 [==============================] - 101s 84ms/step - loss: 0.5962 - accuracy: 0.6545\n",
      "Epoch 2/10\n",
      "1172/1172 [==============================] - 98s 84ms/step - loss: 0.3296 - accuracy: 0.8565\n",
      "Epoch 3/10\n",
      "1172/1172 [==============================] - 98s 84ms/step - loss: 0.1240 - accuracy: 0.9554\n",
      "Epoch 4/10\n",
      "1172/1172 [==============================] - 98s 84ms/step - loss: 0.0382 - accuracy: 0.9887\n",
      "Epoch 5/10\n",
      "1172/1172 [==============================] - 98s 84ms/step - loss: 0.0213 - accuracy: 0.9944\n",
      "Epoch 6/10\n",
      "1172/1172 [==============================] - 98s 84ms/step - loss: 0.0158 - accuracy: 0.9958\n",
      "Epoch 7/10\n",
      "1172/1172 [==============================] - 98s 84ms/step - loss: 0.0144 - accuracy: 0.9958\n",
      "Epoch 8/10\n",
      "1172/1172 [==============================] - 98s 84ms/step - loss: 0.0126 - accuracy: 0.9957\n",
      "Epoch 9/10\n",
      "1172/1172 [==============================] - 98s 84ms/step - loss: 0.0104 - accuracy: 0.9969\n",
      "Epoch 10/10\n",
      "1172/1172 [==============================] - 98s 84ms/step - loss: 0.0096 - accuracy: 0.9972\n"
     ]
    }
   ],
   "source": [
    "model = Sequential()\n",
    "model.add(Embedding(input_dim=len(dictionary), output_dim=300))\n",
    "model.add(GRU(128))\n",
    "model.add(Dropout(0.5))\n",
    "model.add(Dense(2, activation=tf.nn.sigmoid))\n",
    "model.compile(optimizer='adam', loss='binary_crossentropy', metrics=['accuracy'])\n",
    "\n",
    "train_eval_hist = KerasEpochCallback(end_func=model.evaluate,\n",
    "                                     end_args=(train_samples, train_labels), \n",
    "                                     end_kwargs={'verbose': False})\n",
    "test_eval_hist = KerasEpochCallback(end_func=model.evaluate, \n",
    "                                    end_args=(test_samples, test_labels), \n",
    "                                    end_kwargs={'verbose': False})\n",
    "model_hist = model.fit(train_samples, train_labels, epochs=ITERS, batch_size=32,\n",
    "                       callbacks=[train_eval_hist, test_eval_hist])"
   ]
  },
  {
   "cell_type": "code",
   "execution_count": 6,
   "id": "fad4c327",
   "metadata": {},
   "outputs": [
    {
     "data": {
      "text/html": [
       "<style type=\"text/css\">\n",
       "#T_c0a1f_row0_col0, #T_c0a1f_row0_col1, #T_c0a1f_row0_col2, #T_c0a1f_row0_col3, #T_c0a1f_row8_col4, #T_c0a1f_row9_col5 {\n",
       "  background-color: lightcoral;\n",
       "}\n",
       "#T_c0a1f_row1_col4, #T_c0a1f_row1_col5, #T_c0a1f_row8_col2, #T_c0a1f_row8_col3, #T_c0a1f_row9_col0, #T_c0a1f_row9_col1 {\n",
       "  background-color: lightgreen;\n",
       "}\n",
       "</style>\n",
       "<table id=\"T_c0a1f_\">\n",
       "  <thead>\n",
       "    <tr>\n",
       "      <th class=\"blank level0\" >&nbsp;</th>\n",
       "      <th class=\"col_heading level0 col0\" >Training Loss</th>\n",
       "      <th class=\"col_heading level0 col1\" >Training Accuracy</th>\n",
       "      <th class=\"col_heading level0 col2\" >Train Loss</th>\n",
       "      <th class=\"col_heading level0 col3\" >Train Accuracy</th>\n",
       "      <th class=\"col_heading level0 col4\" >Test Loss</th>\n",
       "      <th class=\"col_heading level0 col5\" >Test Accuracy</th>\n",
       "    </tr>\n",
       "  </thead>\n",
       "  <tbody>\n",
       "    <tr>\n",
       "      <th id=\"T_c0a1f_level0_row0\" class=\"row_heading level0 row0\" >1</th>\n",
       "      <td id=\"T_c0a1f_row0_col0\" class=\"data row0 col0\" >0.596182</td>\n",
       "      <td id=\"T_c0a1f_row0_col1\" class=\"data row0 col1\" >0.654507</td>\n",
       "      <td id=\"T_c0a1f_row0_col2\" class=\"data row0 col2\" >0.350213</td>\n",
       "      <td id=\"T_c0a1f_row0_col3\" class=\"data row0 col3\" >0.855467</td>\n",
       "      <td id=\"T_c0a1f_row0_col4\" class=\"data row0 col4\" >0.465592</td>\n",
       "      <td id=\"T_c0a1f_row0_col5\" class=\"data row0 col5\" >0.775520</td>\n",
       "    </tr>\n",
       "    <tr>\n",
       "      <th id=\"T_c0a1f_level0_row1\" class=\"row_heading level0 row1\" >2</th>\n",
       "      <td id=\"T_c0a1f_row1_col0\" class=\"data row1 col0\" >0.329584</td>\n",
       "      <td id=\"T_c0a1f_row1_col1\" class=\"data row1 col1\" >0.856453</td>\n",
       "      <td id=\"T_c0a1f_row1_col2\" class=\"data row1 col2\" >0.156297</td>\n",
       "      <td id=\"T_c0a1f_row1_col3\" class=\"data row1 col3\" >0.967467</td>\n",
       "      <td id=\"T_c0a1f_row1_col4\" class=\"data row1 col4\" >0.445136</td>\n",
       "      <td id=\"T_c0a1f_row1_col5\" class=\"data row1 col5\" >0.786960</td>\n",
       "    </tr>\n",
       "    <tr>\n",
       "      <th id=\"T_c0a1f_level0_row2\" class=\"row_heading level0 row2\" >3</th>\n",
       "      <td id=\"T_c0a1f_row2_col0\" class=\"data row2 col0\" >0.124016</td>\n",
       "      <td id=\"T_c0a1f_row2_col1\" class=\"data row2 col1\" >0.955360</td>\n",
       "      <td id=\"T_c0a1f_row2_col2\" class=\"data row2 col2\" >0.033181</td>\n",
       "      <td id=\"T_c0a1f_row2_col3\" class=\"data row2 col3\" >0.993253</td>\n",
       "      <td id=\"T_c0a1f_row2_col4\" class=\"data row2 col4\" >0.640552</td>\n",
       "      <td id=\"T_c0a1f_row2_col5\" class=\"data row2 col5\" >0.778960</td>\n",
       "    </tr>\n",
       "    <tr>\n",
       "      <th id=\"T_c0a1f_level0_row3\" class=\"row_heading level0 row3\" >4</th>\n",
       "      <td id=\"T_c0a1f_row3_col0\" class=\"data row3 col0\" >0.038185</td>\n",
       "      <td id=\"T_c0a1f_row3_col1\" class=\"data row3 col1\" >0.988747</td>\n",
       "      <td id=\"T_c0a1f_row3_col2\" class=\"data row3 col2\" >0.017731</td>\n",
       "      <td id=\"T_c0a1f_row3_col3\" class=\"data row3 col3\" >0.995493</td>\n",
       "      <td id=\"T_c0a1f_row3_col4\" class=\"data row3 col4\" >0.876589</td>\n",
       "      <td id=\"T_c0a1f_row3_col5\" class=\"data row3 col5\" >0.771280</td>\n",
       "    </tr>\n",
       "    <tr>\n",
       "      <th id=\"T_c0a1f_level0_row4\" class=\"row_heading level0 row4\" >5</th>\n",
       "      <td id=\"T_c0a1f_row4_col0\" class=\"data row4 col0\" >0.021290</td>\n",
       "      <td id=\"T_c0a1f_row4_col1\" class=\"data row4 col1\" >0.994427</td>\n",
       "      <td id=\"T_c0a1f_row4_col2\" class=\"data row4 col2\" >0.008232</td>\n",
       "      <td id=\"T_c0a1f_row4_col3\" class=\"data row4 col3\" >0.998053</td>\n",
       "      <td id=\"T_c0a1f_row4_col4\" class=\"data row4 col4\" >1.021829</td>\n",
       "      <td id=\"T_c0a1f_row4_col5\" class=\"data row4 col5\" >0.779760</td>\n",
       "    </tr>\n",
       "    <tr>\n",
       "      <th id=\"T_c0a1f_level0_row5\" class=\"row_heading level0 row5\" >6</th>\n",
       "      <td id=\"T_c0a1f_row5_col0\" class=\"data row5 col0\" >0.015787</td>\n",
       "      <td id=\"T_c0a1f_row5_col1\" class=\"data row5 col1\" >0.995760</td>\n",
       "      <td id=\"T_c0a1f_row5_col2\" class=\"data row5 col2\" >0.011335</td>\n",
       "      <td id=\"T_c0a1f_row5_col3\" class=\"data row5 col3\" >0.996560</td>\n",
       "      <td id=\"T_c0a1f_row5_col4\" class=\"data row5 col4\" >1.105120</td>\n",
       "      <td id=\"T_c0a1f_row5_col5\" class=\"data row5 col5\" >0.767920</td>\n",
       "    </tr>\n",
       "    <tr>\n",
       "      <th id=\"T_c0a1f_level0_row6\" class=\"row_heading level0 row6\" >7</th>\n",
       "      <td id=\"T_c0a1f_row6_col0\" class=\"data row6 col0\" >0.014396</td>\n",
       "      <td id=\"T_c0a1f_row6_col1\" class=\"data row6 col1\" >0.995840</td>\n",
       "      <td id=\"T_c0a1f_row6_col2\" class=\"data row6 col2\" >0.006558</td>\n",
       "      <td id=\"T_c0a1f_row6_col3\" class=\"data row6 col3\" >0.998080</td>\n",
       "      <td id=\"T_c0a1f_row6_col4\" class=\"data row6 col4\" >1.155596</td>\n",
       "      <td id=\"T_c0a1f_row6_col5\" class=\"data row6 col5\" >0.777200</td>\n",
       "    </tr>\n",
       "    <tr>\n",
       "      <th id=\"T_c0a1f_level0_row7\" class=\"row_heading level0 row7\" >8</th>\n",
       "      <td id=\"T_c0a1f_row7_col0\" class=\"data row7 col0\" >0.012631</td>\n",
       "      <td id=\"T_c0a1f_row7_col1\" class=\"data row7 col1\" >0.995733</td>\n",
       "      <td id=\"T_c0a1f_row7_col2\" class=\"data row7 col2\" >0.004268</td>\n",
       "      <td id=\"T_c0a1f_row7_col3\" class=\"data row7 col3\" >0.998773</td>\n",
       "      <td id=\"T_c0a1f_row7_col4\" class=\"data row7 col4\" >1.211420</td>\n",
       "      <td id=\"T_c0a1f_row7_col5\" class=\"data row7 col5\" >0.770320</td>\n",
       "    </tr>\n",
       "    <tr>\n",
       "      <th id=\"T_c0a1f_level0_row8\" class=\"row_heading level0 row8\" >9</th>\n",
       "      <td id=\"T_c0a1f_row8_col0\" class=\"data row8 col0\" >0.010438</td>\n",
       "      <td id=\"T_c0a1f_row8_col1\" class=\"data row8 col1\" >0.996880</td>\n",
       "      <td id=\"T_c0a1f_row8_col2\" class=\"data row8 col2\" >0.003134</td>\n",
       "      <td id=\"T_c0a1f_row8_col3\" class=\"data row8 col3\" >0.999093</td>\n",
       "      <td id=\"T_c0a1f_row8_col4\" class=\"data row8 col4\" >1.228063</td>\n",
       "      <td id=\"T_c0a1f_row8_col5\" class=\"data row8 col5\" >0.772160</td>\n",
       "    </tr>\n",
       "    <tr>\n",
       "      <th id=\"T_c0a1f_level0_row9\" class=\"row_heading level0 row9\" >10</th>\n",
       "      <td id=\"T_c0a1f_row9_col0\" class=\"data row9 col0\" >0.009571</td>\n",
       "      <td id=\"T_c0a1f_row9_col1\" class=\"data row9 col1\" >0.997227</td>\n",
       "      <td id=\"T_c0a1f_row9_col2\" class=\"data row9 col2\" >0.004936</td>\n",
       "      <td id=\"T_c0a1f_row9_col3\" class=\"data row9 col3\" >0.998427</td>\n",
       "      <td id=\"T_c0a1f_row9_col4\" class=\"data row9 col4\" >1.124316</td>\n",
       "      <td id=\"T_c0a1f_row9_col5\" class=\"data row9 col5\" >0.767280</td>\n",
       "    </tr>\n",
       "  </tbody>\n",
       "</table>\n"
      ],
      "text/plain": [
       "<pandas.io.formats.style.Styler at 0x24f88437d60>"
      ]
     },
     "execution_count": 6,
     "metadata": {},
     "output_type": "execute_result"
    }
   ],
   "source": [
    "training_metrics = np.array(list(zip(model_hist.history['loss'], model_hist.history['accuracy'])))\n",
    "train_eval_metrics = np.array(train_eval_hist.end_results)\n",
    "test_eval_metrics = np.array(test_eval_hist.end_results)\n",
    "\n",
    "data = []\n",
    "for i in range(len(training_metrics)):\n",
    "    training_loss, training_accuracy = training_metrics[i]\n",
    "    train_loss, train_accuracy = train_eval_metrics[i]\n",
    "    test_loss, test_accuracy = test_eval_metrics[i]\n",
    "    data.append({'Training Loss': training_loss, 'Training Accuracy': training_accuracy,\n",
    "                 'Train Loss': train_loss, 'Train Accuracy': train_accuracy,\n",
    "                 'Test Loss': test_loss, 'Test Accuracy': test_accuracy})\n",
    "\n",
    "results = pd.DataFrame(data)\n",
    "results.index += 1\n",
    "results[['Training Loss', 'Training Accuracy', \n",
    "         'Train Loss', 'Train Accuracy', \n",
    "         'Test Loss', 'Test Accuracy']].style \\\n",
    "            .highlight_min(subset=['Training Accuracy', 'Train Accuracy', 'Test Accuracy'], color='lightcoral') \\\n",
    "            .highlight_max(subset=['Training Accuracy', 'Train Accuracy', 'Test Accuracy'], color='lightgreen') \\\n",
    "            .highlight_min(subset=['Training Loss', 'Train Loss', 'Test Loss'], color='lightgreen') \\\n",
    "            .highlight_max(subset=['Training Loss', 'Train Loss', 'Test Loss'], color='lightcoral')"
   ]
  },
  {
   "cell_type": "code",
   "execution_count": 7,
   "id": "0224c257",
   "metadata": {},
   "outputs": [
    {
     "data": {
      "text/plain": [
       "<sklearn.metrics._plot.confusion_matrix.ConfusionMatrixDisplay at 0x24f88437f70>"
      ]
     },
     "execution_count": 7,
     "metadata": {},
     "output_type": "execute_result"
    },
    {
     "data": {
      "image/png": "[encoded data removed]",
      "text/plain": [
       "<Figure size 432x288 with 2 Axes>"
      ]
     },
     "metadata": {
      "needs_background": "light"
     },
     "output_type": "display_data"
    }
   ],
   "source": [
    "normalize = 'true'\n",
    "\n",
    "true_preds, true_labels = [np.argmax(pred) for pred in model.predict(test_samples)], \\\n",
    "                          [np.argmax(label) for label in test_labels]\n",
    "ConfusionMatrixDisplay.from_predictions(true_labels, true_preds, normalize=normalize,\n",
    "                                        cmap=plt.cm.Blues, display_labels=('reliable', 'unreliable'))"
   ]
  }
 ],
 "metadata": {
  "kernelspec": {
   "display_name": "Python 3 (ipykernel)",
   "language": "python",
   "name": "python3"
  },
  "language_info": {
   "codemirror_mode": {
    "name": "ipython",
    "version": 3
   },
   "file_extension": ".py",
   "mimetype": "text/x-python",
   "name": "python",
   "nbconvert_exporter": "python",
   "pygments_lexer": "ipython3",
   "version": "3.9.8"
  }
 },
 "nbformat": 4,
 "nbformat_minor": 5
}
