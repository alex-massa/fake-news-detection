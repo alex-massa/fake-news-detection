{
 "cells": [
  {
   "cell_type": "code",
   "execution_count": null,
   "id": "bbf85edc-aa3e-4b58-ac14-52eae25310c6",
   "metadata": {},
   "outputs": [],
   "source": [
    "import re\n",
    "from string import printable\n",
    "from gensim.utils import deaccent\n",
    "from gensim.parsing.preprocessing import lower_to_unicode, strip_tags, strip_punctuation, \\\n",
    "                                         strip_non_alphanum, split_alphanum, strip_numeric, strip_short, \\\n",
    "                                         remove_stopwords, stem_text, strip_multiple_whitespaces"
   ]
  },
  {
   "cell_type": "code",
   "execution_count": null,
   "id": "c94a167b-3709-4a55-bf24-e854c8270ad5",
   "metadata": {},
   "outputs": [],
   "source": [
    "replace = {\n",
    "    '‚': ',',\n",
    "    'ʼ': \"'\", '’': \"'\",\n",
    "    '“': '\"', '”': '\"',\n",
    "    '«': '\"', '»': '\"',\n",
    "    '‐': '-', '‑': '-', '‒': '-', '–': '-', '—': '-', '―': '-', '−': '-',\n",
    "    '․': '.', '‥': '..', '…': '...',\n",
    "    '‼': '!!', '⁇': '??', '⁈': '?!', '⁉': '!?',\n",
    "    '⁓': '~', '∼': '~',\n",
    "}\n",
    "replace = dict((re.escape(k), v) for k, v in replace.items())\n",
    "SUB_PATTERN = re.compile('|'.join(replace.keys()))"
   ]
  },
  {
   "cell_type": "code",
   "execution_count": null,
   "id": "44d43ecf-8add-4456-bc2e-effefd31eb92",
   "metadata": {},
   "outputs": [],
   "source": [
    "def apply_filters(x, filters):\n",
    "    for f in filters:\n",
    "        x = f(x)\n",
    "    return x"
   ]
  },
  {
   "cell_type": "code",
   "execution_count": null,
   "id": "4c421373-2e50-4e32-b0ff-e0b789e865e0",
   "metadata": {},
   "outputs": [],
   "source": [
    "sub_pattern = lambda x, pattern: pattern.sub(lambda m: replace[re.escape(m.group(0))], x)\n",
    "remove_unprintable = lambda x: ''.join(c for c in x if c in printable)"
   ]
  }
 ],
 "metadata": {
  "kernelspec": {
   "display_name": "Python 3 (ipykernel)",
   "language": "python",
   "name": "python3"
  },
  "language_info": {
   "codemirror_mode": {
    "name": "ipython",
    "version": 3
   },
   "file_extension": ".py",
   "mimetype": "text/x-python",
   "name": "python",
   "nbconvert_exporter": "python",
   "pygments_lexer": "ipython3",
   "version": "3.10.4"
  }
 },
 "nbformat": 4,
 "nbformat_minor": 5
}
