{
 "cells": [
  {
   "cell_type": "code",
   "execution_count": null,
   "id": "bd17237b-17a0-40d8-89e6-d04681ca66c7",
   "metadata": {},
   "outputs": [],
   "source": [
    "import logging"
   ]
  },
  {
   "cell_type": "code",
   "execution_count": null,
   "id": "27099add-a30c-401e-9eb7-c0641ab61a3c",
   "metadata": {},
   "outputs": [],
   "source": [
    "SILENT = False"
   ]
  },
  {
   "cell_type": "code",
   "execution_count": null,
   "id": "5510e723-171f-474e-afe7-cd127c46fe82",
   "metadata": {},
   "outputs": [],
   "source": [
    "if 'logger' not in locals():\n",
    "    logger = logging.getLogger(__name__)\n",
    "    handler = logging.StreamHandler()\n",
    "    formatter = logging.Formatter('%(asctime)s - %(name)s - %(levelname)s - %(message)s')\n",
    "    handler.setFormatter(formatter)\n",
    "    if not SILENT:\n",
    "        logger.setLevel(logging.DEBUG), handler.setLevel(logging.DEBUG)\n",
    "    logger.addHandler(handler)"
   ]
  }
 ],
 "metadata": {
  "kernelspec": {
   "display_name": "Python 3 (ipykernel)",
   "language": "python",
   "name": "python3"
  },
  "language_info": {
   "codemirror_mode": {
    "name": "ipython",
    "version": 3
   },
   "file_extension": ".py",
   "mimetype": "text/x-python",
   "name": "python",
   "nbconvert_exporter": "python",
   "pygments_lexer": "ipython3",
   "version": "3.10.4"
  }
 },
 "nbformat": 4,
 "nbformat_minor": 5
}
