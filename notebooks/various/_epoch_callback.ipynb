{
 "cells": [
  {
   "cell_type": "code",
   "execution_count": null,
   "id": "b7ca9abf",
   "metadata": {},
   "outputs": [],
   "source": [
    "from copy import deepcopy\n",
    "from gensim.models.callbacks import CallbackAny2Vec\n",
    "from keras.callbacks import Callback"
   ]
  },
  {
   "cell_type": "code",
   "execution_count": null,
   "id": "1d721332",
   "metadata": {},
   "outputs": [],
   "source": [
    "class GensimEpochCallback(CallbackAny2Vec):\n",
    "    def __init__(self, beg_func=None, beg_args=(), beg_kwargs={},\n",
    "                       end_func=None, end_args=(), end_kwargs={}):\n",
    "        self._epoch = 0\n",
    "        self._beg_results, self._end_results = [], []\n",
    "\n",
    "        self.__beg_func, self.__beg_args, self.__beg_kwargs = beg_func, beg_args, beg_kwargs\n",
    "        self.__end_func, self.__end_args, self.__end_kwargs = end_func, end_args, end_kwargs\n",
    "        \n",
    "    @property\n",
    "    def epoch(self):\n",
    "        return self._epoch\n",
    "    \n",
    "    @property\n",
    "    def beg_results(self):\n",
    "        return deepcopy(self._beg_results)\n",
    "    \n",
    "    @property\n",
    "    def end_results(self):\n",
    "        return deepcopy(self._end_results)\n",
    "\n",
    "    def on_epoch_begin(self, model):\n",
    "        if self.__beg_func is not None:\n",
    "            self._beg_results.append(self.__beg_func(*self.__beg_args, **self.__beg_kwargs)) \n",
    "\n",
    "    def on_epoch_end(self, model):\n",
    "        self._epoch += 1\n",
    "        if self.__end_func is not None:\n",
    "            self._end_results.append(self.__end_func(*self.__end_args, **self.__end_kwargs))"
   ]
  },
  {
   "cell_type": "code",
   "execution_count": null,
   "id": "1e521fd5",
   "metadata": {},
   "outputs": [],
   "source": [
    "class KerasEpochCallback(Callback):\n",
    "    def __init__(self, beg_func=None, beg_args=(), beg_kwargs={},\n",
    "                       end_func=None, end_args=(), end_kwargs={}):\n",
    "        self._epoch = 0\n",
    "        self._beg_results, self._end_results = [], []\n",
    "\n",
    "        self.__beg_func, self.__beg_args, self.__beg_kwargs = beg_func, beg_args, beg_kwargs\n",
    "        self.__end_func, self.__end_args, self.__end_kwargs = end_func, end_args, end_kwargs\n",
    "\n",
    "    @property\n",
    "    def epoch(self):\n",
    "        return self._epoch\n",
    "    \n",
    "    @property\n",
    "    def beg_results(self):\n",
    "        return deepcopy(self._beg_results)\n",
    "    \n",
    "    @property\n",
    "    def end_results(self):\n",
    "        return deepcopy(self._end_results)\n",
    "\n",
    "    def on_epoch_begin(self, epoch, logs=None):\n",
    "        if self.__beg_func is not None:\n",
    "            self._beg_results.append(self.__beg_func(*self.__beg_args, **self.__beg_kwargs)) \n",
    "\n",
    "    def on_epoch_end(self, epoch, logs=None):\n",
    "        self._epoch += 1\n",
    "        if self.__end_func is not None:\n",
    "            self._end_results.append(self.__end_func(*self.__end_args, **self.__end_kwargs))"
   ]
  }
 ],
 "metadata": {
  "kernelspec": {
   "display_name": "Python 3 (ipykernel)",
   "language": "python",
   "name": "python3"
  },
  "language_info": {
   "codemirror_mode": {
    "name": "ipython",
    "version": 3
   },
   "file_extension": ".py",
   "mimetype": "text/x-python",
   "name": "python",
   "nbconvert_exporter": "python",
   "pygments_lexer": "ipython3",
   "version": "3.9.8"
  }
 },
 "nbformat": 4,
 "nbformat_minor": 5
}
