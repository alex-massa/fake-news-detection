{
 "cells": [
  {
   "cell_type": "code",
   "execution_count": null,
   "id": "b7ca9abf",
   "metadata": {},
   "outputs": [],
   "source": [
    "from copy import deepcopy\n",
    "from gensim.models.callbacks import CallbackAny2Vec"
   ]
  },
  {
   "cell_type": "code",
   "execution_count": null,
   "id": "1d721332",
   "metadata": {},
   "outputs": [],
   "source": [
    "class EpochCallback(CallbackAny2Vec):\n",
    "    def __init__(self, \n",
    "                 begin_func=None, begin_args=[], begin_kwargs={},\n",
    "                 end_func=None, end_args=[], end_kwargs={}):\n",
    "        self._epoch = 0\n",
    "        self._begin_results, self._end_results = [], []\n",
    "        \n",
    "        self.__begin_func = begin_func\n",
    "        self.__begin_args = begin_args\n",
    "        self.__begin_kwargs = begin_kwargs\n",
    "        self.__end_func = end_func\n",
    "        self.__end_args = end_args\n",
    "        self.__end_kwargs = end_kwargs\n",
    "        \n",
    "    @property\n",
    "    def epoch(self):\n",
    "        return self._epoch\n",
    "    \n",
    "    @property\n",
    "    def begin_results(self):\n",
    "        return deepcopy(self._begin_results)\n",
    "    \n",
    "    @property\n",
    "    def end_results(self):\n",
    "        return deepcopy(self._end_results)\n",
    "\n",
    "    def on_epoch_begin(self, model):\n",
    "        if self.__begin_func is not None:\n",
    "            self._begin_results.append(self.__begin_func(*self.__begin_args, **self.__begin_kwargs)) \n",
    "\n",
    "    def on_epoch_end(self, model):\n",
    "        self._epoch += 1\n",
    "        if self.__end_func is not None:\n",
    "            self._end_results.append(self.__end_func(*self.__end_args, **self.__end_kwargs))"
   ]
  }
 ],
 "metadata": {
  "kernelspec": {
   "display_name": "Python 3 (ipykernel)",
   "language": "python",
   "name": "python3"
  },
  "language_info": {
   "codemirror_mode": {
    "name": "ipython",
    "version": 3
   },
   "file_extension": ".py",
   "mimetype": "text/x-python",
   "name": "python",
   "nbconvert_exporter": "python",
   "pygments_lexer": "ipython3",
   "version": "3.9.8"
  }
 },
 "nbformat": 4,
 "nbformat_minor": 5
}
