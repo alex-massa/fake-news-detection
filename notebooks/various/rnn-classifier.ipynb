{
 "cells": [
  {
   "cell_type": "code",
   "execution_count": null,
   "id": "2b8efa68",
   "metadata": {},
   "outputs": [],
   "source": [
    "%run ./../data/load-dataset.ipynb\n",
    "%run ./../various/_epoch-callback.ipynb\n",
    "%matplotlib inline"
   ]
  },
  {
   "cell_type": "code",
   "execution_count": null,
   "id": "662a07a1",
   "metadata": {},
   "outputs": [],
   "source": [
    "import numpy as np\n",
    "import matplotlib.pyplot as plt\n",
    "import tensorflow as tf\n",
    "from sklearn.model_selection import train_test_split\n",
    "from sklearn.metrics import ConfusionMatrixDisplay\n",
    "from tensorflow.keras.models import Sequential\n",
    "from tensorflow.keras.layers import Input, Embedding, SimpleRNN, LSTM, GRU, Bidirectional, Dense, Dropout\n",
    "from tensorflow.keras.regularizers import l1, l2, l1_l2"
   ]
  },
  {
   "cell_type": "code",
   "execution_count": null,
   "id": "0c102a9a",
   "metadata": {},
   "outputs": [],
   "source": [
    "ITERS = 10\n",
    "\n",
    "TOP_WORDS = None\n",
    "dictionary.filter_extremes(no_below=1, no_above=max(dictionary.cfs.values()), keep_n=TOP_WORDS)\n",
    "\n",
    "RANDOM_SEED = 0\n",
    "tf.keras.utils.set_random_seed(RANDOM_SEED)"
   ]
  },
  {
   "cell_type": "code",
   "execution_count": null,
   "id": "526afdbb",
   "metadata": {},
   "outputs": [],
   "source": [
    "corpus, labels = df[[proc_doc_col, label_col]].T.values\n",
    "X = [[idx for idx in dictionary.doc2idx(doc) if idx != -1] for doc in corpus]\n",
    "y = labels.astype(int)\n",
    "X, y = list((zip(*[(sample, label) for sample, label in zip(X, y) if len(sample) > 0])))\n",
    "\n",
    "sample_len = _ if (_ := int(np.median([len(doc) for doc in X]).round())) % 100 == 0 else _ + 100  - (_ % 100)\n",
    "X = [doc[:sample_len] for doc in X]\n",
    "\n",
    "X_train, X_test, y_train, y_test = train_test_split(X, y, test_size=.25, random_state=RANDOM_SEED)\n",
    "X_train, X_val, y_train, y_val = train_test_split(X, y, test_size=.3, random_state=RANDOM_SEED)\n",
    "X_train, X_val, X_test = tf.ragged.constant(X_train), tf.ragged.constant(X_val), tf.ragged.constant(X_test)\n",
    "y_train, y_val, y_test = tf.constant(y_train), tf.constant(y_val), tf.constant(y_test)"
   ]
  },
  {
   "cell_type": "code",
   "execution_count": null,
   "id": "831c36cf",
   "metadata": {},
   "outputs": [],
   "source": [
    "model = Sequential([\n",
    "    Input(shape=[None], ragged=True, dtype=tf.int32),\n",
    "    Embedding(input_dim=len(dictionary), output_dim=100, embeddings_regularizer=l2(1e-3)),\n",
    "    LSTM(100),\n",
    "    Dense(1, activation=tf.nn.sigmoid)\n",
    "])\n",
    "model.compile(optimizer='adam', loss='binary_crossentropy', metrics=['binary_accuracy'])\n",
    "\n",
    "val_hist = KerasEpochCallback(end_func=model.evaluate, end_args=(X_val, y_val), end_kwargs={'verbose': False})\n",
    "test_hist = KerasEpochCallback(end_func=model.evaluate, end_args=(X_test, y_test), end_kwargs={'verbose': False})\n",
    "\n",
    "model.summary()"
   ]
  },
  {
   "cell_type": "code",
   "execution_count": null,
   "id": "4c7ed579",
   "metadata": {
    "scrolled": false
   },
   "outputs": [],
   "source": [
    "train_hist = model.fit(X_train, y_train, epochs=ITERS, batch_size=16, callbacks=[val_hist, test_hist])\n",
    "train_metrics = np.array(list(zip(train_hist.history['loss'], train_hist.history['binary_accuracy'])))\n",
    "val_metrics = np.array(val_hist.end_results)\n",
    "test_metrics = np.array(test_hist.end_results)\n",
    "\n",
    "results = [{'Training Loss': train_loss, 'Training Accuracy': train_acc,\n",
    "            'Validation Loss': val_loss, 'Validation Accuracy': val_acc,\n",
    "            'Test Loss': test_loss, 'Test Accuracy': test_acc} \n",
    "           for (train_loss, train_acc), (val_loss, val_acc), (test_loss, test_acc) \n",
    "           in zip(train_metrics, val_metrics, test_metrics)]\n",
    "\n",
    "results_df = pd.DataFrame(results)\n",
    "results_df.index += 1\n",
    "results_df[['Training Loss', 'Training Accuracy', \n",
    "            'Validation Loss', 'Validation Accuracy', \n",
    "            'Test Loss', 'Test Accuracy']].style \\\n",
    "                .highlight_min(subset=['Training Accuracy', 'Validation Accuracy', 'Test Accuracy'],\n",
    "                               color='lightcoral') \\\n",
    "                .highlight_max(subset=['Training Accuracy', 'Validation Accuracy', 'Test Accuracy'],\n",
    "                               color='lightgreen') \\\n",
    "                .highlight_min(subset=['Training Loss', 'Validation Loss', 'Test Loss'], \n",
    "                               color='lightgreen') \\\n",
    "                .highlight_max(subset=['Training Loss', 'Validation Loss', 'Test Loss'], \n",
    "                               color='lightcoral')"
   ]
  },
  {
   "cell_type": "code",
   "execution_count": null,
   "id": "ce63ef09",
   "metadata": {},
   "outputs": [],
   "source": [
    "ax = plt.gca()\n",
    "ax.plot(np.arange(0, ITERS), train_metrics.T[0], c='#1f77b4', label=\"Training\")\n",
    "ax.plot(np.arange(0, ITERS), val_metrics.T[0], c='#d62728', label=\"Validation\")\n",
    "ax.plot(np.arange(0, ITERS), test_metrics.T[0], c='#2ca02c', label=\"Test\")\n",
    "ax.legend()\n",
    "plt.xticks(np.arange(0, ITERS), np.arange(1, ITERS + 1))\n",
    "plt.title(\"Loss\")\n",
    "plt.tight_layout()"
   ]
  },
  {
   "cell_type": "code",
   "execution_count": null,
   "id": "1b2c24a1",
   "metadata": {},
   "outputs": [],
   "source": [
    "ax = plt.gca()\n",
    "ax.plot(np.arange(0, ITERS), train_metrics.T[1], c='#1f77b4', label=\"Training\")\n",
    "ax.plot(np.arange(0, ITERS), val_metrics.T[1], c='#d62728', label=\"Validation\")\n",
    "ax.plot(np.arange(0, ITERS), test_metrics.T[1], c='#2ca02c', label=\"Test\")\n",
    "ax.legend()\n",
    "plt.xticks(np.arange(0, ITERS), np.arange(1, ITERS + 1))\n",
    "plt.title(\"Accuracy\")\n",
    "plt.tight_layout()"
   ]
  },
  {
   "cell_type": "code",
   "execution_count": null,
   "id": "c22ea4fe",
   "metadata": {},
   "outputs": [],
   "source": [
    "true_preds = model.predict(X_test).flatten()\n",
    "y_preds = true_preds.round()\n",
    "ConfusionMatrixDisplay.from_predictions(y_preds, y_test, normalize='true', colorbar=False,\n",
    "                                        cmap=plt.cm.Blues, display_labels=('reliable', 'unreliable'))"
   ]
  }
 ],
 "metadata": {
  "kernelspec": {
   "display_name": "Python 3 (ipykernel)",
   "language": "python",
   "name": "python3"
  },
  "language_info": {
   "codemirror_mode": {
    "name": "ipython",
    "version": 3
   },
   "file_extension": ".py",
   "mimetype": "text/x-python",
   "name": "python",
   "nbconvert_exporter": "python",
   "pygments_lexer": "ipython3",
   "version": "3.9.8"
  }
 },
 "nbformat": 4,
 "nbformat_minor": 5
}
