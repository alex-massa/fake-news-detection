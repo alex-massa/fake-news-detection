{
 "cells": [
  {
   "cell_type": "code",
   "execution_count": null,
   "id": "fce26ef3",
   "metadata": {},
   "outputs": [],
   "source": [
    "%run ./load-dataset.ipynb"
   ]
  },
  {
   "cell_type": "code",
   "execution_count": null,
   "id": "07e42dc8",
   "metadata": {},
   "outputs": [],
   "source": [
    "df[label_col].value_counts(), df[label_col].value_counts().plot(kind='pie', labels=('unrealiable', 'reliable'))"
   ]
  },
  {
   "cell_type": "code",
   "execution_count": null,
   "id": "56e376a5",
   "metadata": {},
   "outputs": [],
   "source": [
    "len(df), len(dictionary)"
   ]
  },
  {
   "cell_type": "code",
   "execution_count": null,
   "id": "b8614a9a",
   "metadata": {},
   "outputs": [],
   "source": [
    "dictionary.most_common(20), dictionary.most_common()[-20:]"
   ]
  },
  {
   "cell_type": "code",
   "execution_count": null,
   "id": "f3119c57",
   "metadata": {},
   "outputs": [],
   "source": [
    "token = 'soleimani'\n",
    "token_id = dictionary.token2id[token]\n",
    "dictionary.cfs[token_id], dictionary.dfs[token_id]"
   ]
  },
  {
   "cell_type": "code",
   "execution_count": null,
   "id": "5cd2618d",
   "metadata": {},
   "outputs": [],
   "source": [
    "df[source_name_col].nunique(), df.groupby([source_name_col]).size().sort_values(ascending=False)"
   ]
  },
  {
   "cell_type": "code",
   "execution_count": null,
   "id": "66c43bdf",
   "metadata": {},
   "outputs": [],
   "source": [
    "df.loc[df['author'] == 'Ben Shapiro'][[source_name_col, label_col]].groupby([source_name_col, label_col]).mean()"
   ]
  }
 ],
 "metadata": {
  "kernelspec": {
   "display_name": "Python 3 (ipykernel)",
   "language": "python",
   "name": "python3"
  },
  "language_info": {
   "codemirror_mode": {
    "name": "ipython",
    "version": 3
   },
   "file_extension": ".py",
   "mimetype": "text/x-python",
   "name": "python",
   "nbconvert_exporter": "python",
   "pygments_lexer": "ipython3",
   "version": "3.9.8"
  }
 },
 "nbformat": 4,
 "nbformat_minor": 5
}
