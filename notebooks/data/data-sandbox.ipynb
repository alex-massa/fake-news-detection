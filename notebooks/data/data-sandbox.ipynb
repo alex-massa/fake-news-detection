{
 "cells": [
  {
   "cell_type": "code",
   "execution_count": 1,
   "id": "fce26ef3",
   "metadata": {},
   "outputs": [
    {
     "name": "stderr",
     "output_type": "stream",
     "text": [
      "2022-02-04 21:31:01,348 - __main__ - INFO - Loading dataset from disk...\n",
      "2022-02-04 21:31:18,539 - __main__ - INFO - Dataset loaded.\n",
      "2022-02-04 21:31:18,542 - __main__ - INFO - Preprocessing the dataset...\n",
      "2022-02-04 21:43:03,821 - __main__ - INFO - Dataset preprocessed.\n",
      "2022-02-04 21:43:03,865 - __main__ - INFO - Subsampling the dataset...\n",
      "2022-02-04 21:43:10,237 - __main__ - INFO - Dataset subsampled.\n",
      "2022-02-04 21:43:49,860 - __main__ - INFO - Saving preprocessed dataset to disk...\n",
      "2022-02-04 21:44:09,796 - __main__ - INFO - Preprocessed dataset saved to disk.\n"
     ]
    }
   ],
   "source": [
    "%run ./load-dataset.ipynb"
   ]
  },
  {
   "cell_type": "code",
   "execution_count": 2,
   "id": "07e42dc8",
   "metadata": {},
   "outputs": [
    {
     "data": {
      "text/plain": [
       "(False    40000\n",
       " True     40000\n",
       " Name: label, dtype: int64,\n",
       " <AxesSubplot:ylabel='label'>)"
      ]
     },
     "execution_count": 2,
     "metadata": {},
     "output_type": "execute_result"
    },
    {
     "data": {
      "image/png": "[encoded data removed]",
      "text/plain": [
       "<Figure size 432x288 with 1 Axes>"
      ]
     },
     "metadata": {},
     "output_type": "display_data"
    }
   ],
   "source": [
    "df[label_col].value_counts(), df[label_col].value_counts().plot(kind='pie', labels=('unrealiable', 'reliable'))"
   ]
  },
  {
   "cell_type": "code",
   "execution_count": 3,
   "id": "56e376a5",
   "metadata": {},
   "outputs": [
    {
     "data": {
      "text/plain": [
       "(80000, 75501)"
      ]
     },
     "execution_count": 3,
     "metadata": {},
     "output_type": "execute_result"
    }
   ],
   "source": [
    "len(df), len(dictionary)"
   ]
  },
  {
   "cell_type": "code",
   "execution_count": 4,
   "id": "b8614a9a",
   "metadata": {},
   "outputs": [
    {
     "data": {
      "text/plain": [
       "([('trump', 251001),\n",
       "  ('president', 161732),\n",
       "  ('coronavirus', 141574),\n",
       "  ('state', 132585),\n",
       "  ('biden', 107810),\n",
       "  ('health', 102006),\n",
       "  ('covid', 92868),\n",
       "  ('government', 92045),\n",
       "  ('states', 88858),\n",
       "  ('day', 86366),\n",
       "  ('country', 85296),\n",
       "  ('going', 83950),\n",
       "  ('years', 83693),\n",
       "  ('public', 83232),\n",
       "  ('world', 79732),\n",
       "  ('pandemic', 78717),\n",
       "  ('police', 77687),\n",
       "  ('election', 77017),\n",
       "  ('know', 76458),\n",
       "  ('house', 76060)],\n",
       " [('empfindlich', 3),\n",
       "  ('platzen', 3),\n",
       "  ('mya', 3),\n",
       "  ('tchekmedyian', 3),\n",
       "  ('omnivorous', 3),\n",
       "  ('bundesweiten', 3),\n",
       "  ('berechnet', 3),\n",
       "  ('menschenrechtsverletzungen', 3),\n",
       "  ('gecker', 3),\n",
       "  ('riefen', 3),\n",
       "  ('koordiniert', 3),\n",
       "  ('zentrales', 3),\n",
       "  ('abrufbar', 3),\n",
       "  ('emeka', 2),\n",
       "  ('skandale', 2),\n",
       "  ('pappy', 2),\n",
       "  ('taktisch', 2),\n",
       "  ('howlett', 2),\n",
       "  ('unverzüglich', 2),\n",
       "  ('bemängelt', 2)])"
      ]
     },
     "execution_count": 4,
     "metadata": {},
     "output_type": "execute_result"
    }
   ],
   "source": [
    "dictionary.most_common(20), dictionary.most_common()[-20:]"
   ]
  },
  {
   "cell_type": "code",
   "execution_count": 5,
   "id": "f3119c57",
   "metadata": {},
   "outputs": [
    {
     "data": {
      "text/plain": [
       "(2500, 714)"
      ]
     },
     "execution_count": 5,
     "metadata": {},
     "output_type": "execute_result"
    }
   ],
   "source": [
    "token = 'soleimani'\n",
    "token_id = dictionary.token2id[token]\n",
    "dictionary.cfs[token_id], dictionary.dfs[token_id]"
   ]
  },
  {
   "cell_type": "code",
   "execution_count": 6,
   "id": "66c43bdf",
   "metadata": {},
   "outputs": [
    {
     "data": {
      "text/html": [
       "<div>\n",
       "<style scoped>\n",
       "    .dataframe tbody tr th:only-of-type {\n",
       "        vertical-align: middle;\n",
       "    }\n",
       "\n",
       "    .dataframe tbody tr th {\n",
       "        vertical-align: top;\n",
       "    }\n",
       "\n",
       "    .dataframe thead th {\n",
       "        text-align: right;\n",
       "    }\n",
       "</style>\n",
       "<table border=\"1\" class=\"dataframe\">\n",
       "  <thead>\n",
       "    <tr style=\"text-align: right;\">\n",
       "      <th></th>\n",
       "      <th></th>\n",
       "    </tr>\n",
       "    <tr>\n",
       "      <th>source</th>\n",
       "      <th>label</th>\n",
       "    </tr>\n",
       "  </thead>\n",
       "  <tbody>\n",
       "    <tr>\n",
       "      <th>nationalinterest</th>\n",
       "      <th>False</th>\n",
       "    </tr>\n",
       "    <tr>\n",
       "      <th>newsbusters</th>\n",
       "      <th>True</th>\n",
       "    </tr>\n",
       "  </tbody>\n",
       "</table>\n",
       "</div>"
      ],
      "text/plain": [
       "Empty DataFrame\n",
       "Columns: []\n",
       "Index: [(nationalinterest, False), (newsbusters, True)]"
      ]
     },
     "execution_count": 6,
     "metadata": {},
     "output_type": "execute_result"
    }
   ],
   "source": [
    "df.loc[df['author'] == 'Ben Shapiro'][[source_name_col, label_col]].groupby([source_name_col, label_col]).mean()"
   ]
  }
 ],
 "metadata": {
  "kernelspec": {
   "display_name": "Python 3 (ipykernel)",
   "language": "python",
   "name": "python3"
  },
  "language_info": {
   "codemirror_mode": {
    "name": "ipython",
    "version": 3
   },
   "file_extension": ".py",
   "mimetype": "text/x-python",
   "name": "python",
   "nbconvert_exporter": "python",
   "pygments_lexer": "ipython3",
   "version": "3.9.8"
  }
 },
 "nbformat": 4,
 "nbformat_minor": 5
}
