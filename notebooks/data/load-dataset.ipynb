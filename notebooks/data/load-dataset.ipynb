{
 "cells": [
  {
   "cell_type": "code",
   "execution_count": null,
   "id": "2d69f110",
   "metadata": {},
   "outputs": [],
   "source": [
    "import logging\n",
    "import pandas as pd\n",
    "from pathlib import Path\n",
    "from gensim.corpora import Dictionary\n",
    "from gensim.parsing.preprocessing import lower_to_unicode, strip_tags, strip_punctuation, \\\n",
    "                                         strip_non_alphanum, split_alphanum, strip_numeric, strip_short, \\\n",
    "                                         remove_stopwords, stem_text, strip_multiple_whitespaces"
   ]
  },
  {
   "cell_type": "code",
   "execution_count": null,
   "id": "6a6df1a6",
   "metadata": {},
   "outputs": [],
   "source": [
    "SOURCE_DATASET_META = {\n",
    "    2019: {\n",
    "        'whole': {\n",
    "            'labels_url': 'https://dataverse.harvard.edu/api/access/datafile/:persistentId?persistentId=doi:10.7910/DVN/O7FWPO/QV9KD9',\n",
    "            'updated_labels_url': None,\n",
    "            'labels_sep': '\\t',\n",
    "            'archive_url': 'https://dataverse.harvard.edu/api/access/datafile/4417513',\n",
    "            'source_name_col': 'source',\n",
    "            'source_label_col': 'aggregated_label',\n",
    "            'doc_col': 'content'\n",
    "        },\n",
    "    }, \n",
    "    2020: {\n",
    "        'whole': {\n",
    "            'labels_url': 'https://dataverse.harvard.edu/api/access/datafile/4366864',\n",
    "            'updated_labels_url': 'https://gist.githubusercontent.com/alex-massa/8f2fac7c18b23d2093e44c324976d17b/raw/a92d84b71907c3550f0251baa0f30c53b862c5d0/nela-gt-2020-updated-labels.tsv',\n",
    "            'labels_sep': '\\t',\n",
    "            'archive_url': 'https://dataverse.harvard.edu/api/access/datafile/4417502',\n",
    "            'source_name_col': 'source',\n",
    "            'source_label_col': 'label',\n",
    "            'doc_col': 'content'\n",
    "        },\n",
    "        'covid': {\n",
    "            'labels_url': 'https://dataverse.harvard.edu/api/access/datafile/4366864',\n",
    "            'updated_labels_url': 'https://gist.githubusercontent.com/alex-massa/8f2fac7c18b23d2093e44c324976d17b/raw/a92d84b71907c3550f0251baa0f30c53b862c5d0/nela-gt-2020-updated-labels.tsv',\n",
    "            'labels_sep': '\\t',\n",
    "            'archive_url': 'https://dataverse.harvard.edu/api/access/datafile/4417503',\n",
    "            'source_name_col': 'source',\n",
    "            'source_label_col': 'label',\n",
    "            'doc_col': 'content'\n",
    "        },\n",
    "        'elect': {\n",
    "            'labels_url': 'https://dataverse.harvard.edu/api/access/datafile/4366864',\n",
    "            'updated_labels_url': 'https://gist.githubusercontent.com/alex-massa/8f2fac7c18b23d2093e44c324976d17b/raw/a92d84b71907c3550f0251baa0f30c53b862c5d0/nela-gt-2020-updated-labels.tsv',\n",
    "            'labels_sep': '\\t',\n",
    "            'archive_url': 'https://dataverse.harvard.edu/api/access/datafile/4417504',\n",
    "            'source_name_col': 'source',\n",
    "            'source_label_col': 'label',\n",
    "            'doc_col': 'content'\n",
    "        }\n",
    "    },\n",
    "    2021: {\n",
    "        'whole': {\n",
    "            'labels_url': None,\n",
    "            'updated_labels_url': 'https://gist.githubusercontent.com/alex-massa/c38f3e0bfe2e23e6bc60687f775318f6/raw/3d30279b53ceeb98ff6c8546426c610c76bb0e1d/nela-gt-2021-updated-labels.tsv',\n",
    "            'labels_sep': '\\t',\n",
    "            'archive_url': 'https://dataverse.harvard.edu/api/access/datafile/6078140',\n",
    "            'source_name_col': 'source',\n",
    "            'source_label_col': 'label',\n",
    "            'doc_col': 'content'\n",
    "        }\n",
    "    }\n",
    "}"
   ]
  },
  {
   "cell_type": "code",
   "execution_count": null,
   "id": "14ed4b2d",
   "metadata": {},
   "outputs": [],
   "source": [
    "DATASET_DIR = './../../resources/dataset'\n",
    "DATASET_PATH = f'{DATASET_DIR}/dataset.csv'\n",
    "\n",
    "PROC_DATA_DIR = './../../resources/processed'\n",
    "PROC_DATASET_PATH = f'{PROC_DATA_DIR}/proc_dataset.pkl'\n",
    "DICTIONARY_PATH = f'{PROC_DATA_DIR}/dictionary.dict'"
   ]
  },
  {
   "cell_type": "code",
   "execution_count": null,
   "id": "5a3c18c5",
   "metadata": {},
   "outputs": [],
   "source": [
    "RAW_DATASET_DIR = f'{DATASET_DIR}/raw'\n",
    "\n",
    "SOURCE_FILES_ARCHIVE_NAME = 'raw.tar'\n",
    "SOURCE_FILES_ARCHIVE_PATH = f'{RAW_DATASET_DIR}/{SOURCE_FILES_ARCHIVE_NAME}'\n",
    "\n",
    "SOURCE_FILES_DIR_NAME = 'newsdata'\n",
    "SOURCE_FILES_DIR = f'{RAW_DATASET_DIR}/{SOURCE_FILES_DIR_NAME}'\n",
    "\n",
    "SOURCE_LABELS_FILE_NAME = 'labels.tsv'\n",
    "SOURCE_LABELS_PATH = f'{RAW_DATASET_DIR}/{SOURCE_LABELS_FILE_NAME}'"
   ]
  },
  {
   "cell_type": "code",
   "execution_count": null,
   "id": "0353eef7",
   "metadata": {},
   "outputs": [],
   "source": [
    "UPDATED_LABELS = True\n",
    "SELECTED_DATASET = SOURCE_DATASET_META[2021]['whole']\n",
    "SOURCE_LABELS_URL = SELECTED_DATASET['labels_url'] if not UPDATED_LABELS else SELECTED_DATASET['updated_labels_url']\n",
    "SOURCE_LABELS_SEP = SELECTED_DATASET['labels_sep']\n",
    "SOURCE_ARCHIVE_URL = SELECTED_DATASET['archive_url']\n",
    "\n",
    "MIN_LENGTH = 300\n",
    "MIN_UNIQUE = 50\n",
    "MIN_OCCURENCES = 10\n",
    "DOCUMENT_FILTERS = (lower_to_unicode, strip_tags, strip_punctuation, \n",
    "                    strip_non_alphanum, split_alphanum, strip_numeric, strip_short, \n",
    "                    remove_stopwords, strip_multiple_whitespaces)\n",
    "\n",
    "N_SAMPLES_TO_LOAD = 250000\n",
    "N_MAX_SAMPLES = 50000\n",
    "POS_FRAC = 0.5\n",
    "\n",
    "SILENT = False\n",
    "RANDOM_SEED = 0"
   ]
  },
  {
   "cell_type": "code",
   "execution_count": null,
   "id": "98d77ef6",
   "metadata": {},
   "outputs": [],
   "source": [
    "source_name_col, source_label_col = SELECTED_DATASET['source_name_col'], SELECTED_DATASET['source_label_col']\n",
    "doc_col = SELECTED_DATASET['doc_col']\n",
    "proc_doc_col, label_col = f'proc_{doc_col}', 'label'"
   ]
  },
  {
   "cell_type": "code",
   "execution_count": null,
   "id": "eefed755",
   "metadata": {},
   "outputs": [],
   "source": [
    "logger = logging.getLogger(__name__)\n",
    "handler = logging.StreamHandler()\n",
    "formatter = logging.Formatter('%(asctime)s - %(name)s - %(levelname)s - %(message)s')\n",
    "handler.setFormatter(formatter)\n",
    "if not SILENT:\n",
    "    logger.setLevel(logging.DEBUG), handler.setLevel(logging.DEBUG)\n",
    "logger.addHandler(handler)"
   ]
  },
  {
   "cell_type": "code",
   "execution_count": null,
   "id": "24325907",
   "metadata": {
    "scrolled": true
   },
   "outputs": [],
   "source": [
    "if not Path(PROC_DATASET_PATH).is_file() or not Path(DICTIONARY_PATH).is_file():\n",
    "    if not Path(DATASET_PATH).is_file():\n",
    "        %run ./../data/_generate-dataset.ipynb\n",
    "    %run ./../data/_preprocess-dataset.ipynb\n",
    "else:\n",
    "    df, dictionary = pd.read_pickle(PROC_DATASET_PATH), Dictionary.load(DICTIONARY_PATH)"
   ]
  }
 ],
 "metadata": {
  "kernelspec": {
   "display_name": "Python 3 (ipykernel)",
   "language": "python",
   "name": "python3"
  },
  "language_info": {
   "codemirror_mode": {
    "name": "ipython",
    "version": 3
   },
   "file_extension": ".py",
   "mimetype": "text/x-python",
   "name": "python",
   "nbconvert_exporter": "python",
   "pygments_lexer": "ipython3",
   "version": "3.9.8"
  }
 },
 "nbformat": 4,
 "nbformat_minor": 5
}
