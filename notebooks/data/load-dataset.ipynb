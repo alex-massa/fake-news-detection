{
 "cells": [
  {
   "cell_type": "code",
   "execution_count": null,
   "id": "11253f1d-4d77-47e8-9229-37f0cb26e9a5",
   "metadata": {},
   "outputs": [],
   "source": [
    "%run ./../data/_meta.ipynb"
   ]
  },
  {
   "cell_type": "code",
   "execution_count": null,
   "id": "2d69f110",
   "metadata": {},
   "outputs": [],
   "source": [
    "import pandas as pd\n",
    "from pathlib import Path\n",
    "from gensim.corpora import Dictionary"
   ]
  },
  {
   "cell_type": "code",
   "execution_count": null,
   "id": "5a3c18c5",
   "metadata": {},
   "outputs": [],
   "source": [
    "PROC_DATASET_PATH = f'{PROC_DATA_DIR}/proc_dataset.pkl'\n",
    "DICTIONARY_PATH = f'{PROC_DATA_DIR}/dictionary.dict'"
   ]
  },
  {
   "cell_type": "code",
   "execution_count": null,
   "id": "24325907",
   "metadata": {
    "scrolled": true
   },
   "outputs": [],
   "source": [
    "if not Path(PROC_DATASET_PATH).is_file() or not Path(DICTIONARY_PATH).is_file():\n",
    "    if not Path(DATASET_PATH).is_file():\n",
    "        %run ./../data/_generate-dataset.ipynb\n",
    "    %run ./../data/_preprocess-dataset.ipynb\n",
    "else:\n",
    "    df, dictionary = pd.read_pickle(PROC_DATASET_PATH), Dictionary.load(DICTIONARY_PATH)"
   ]
  }
 ],
 "metadata": {
  "kernelspec": {
   "display_name": "Python 3 (ipykernel)",
   "language": "python",
   "name": "python3"
  },
  "language_info": {
   "codemirror_mode": {
    "name": "ipython",
    "version": 3
   },
   "file_extension": ".py",
   "mimetype": "text/x-python",
   "name": "python",
   "nbconvert_exporter": "python",
   "pygments_lexer": "ipython3",
   "version": "3.10.4"
  }
 },
 "nbformat": 4,
 "nbformat_minor": 5
}
