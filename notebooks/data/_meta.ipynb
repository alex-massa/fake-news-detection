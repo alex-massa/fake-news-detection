{
 "cells": [
  {
   "cell_type": "code",
   "execution_count": null,
   "id": "b71f85dd-6b54-4feb-9b79-f68b4ef8d8f4",
   "metadata": {},
   "outputs": [],
   "source": [
    "RANDOM_SEED = 0"
   ]
  },
  {
   "cell_type": "code",
   "execution_count": null,
   "id": "f057bd20-7a25-49bb-9dfa-426d7d2d584b",
   "metadata": {},
   "outputs": [],
   "source": [
    "SOURCE_DATASET_META = {\n",
    "    2019: {\n",
    "        'labels_url': 'https://dataverse.harvard.edu/api/access/datafile/:persistentId?persistentId=doi:10.7910/DVN/O7FWPO/QV9KD9',\n",
    "        'updated_labels_url': 'https://gist.githubusercontent.com/alex-massa/7503bed2209f62ad29fa55962b1e885c/raw/a03cb444338190a1a9564a3cc23818fdc75f3b3f/nela-gt-2019-updated-labels.tsv',\n",
    "        'labels_sep': '\\t',\n",
    "        'neg_label_val': 0,\n",
    "        'pos_label_val': 2,\n",
    "        'archive_url': 'https://dataverse.harvard.edu/api/access/datafile/4417513',\n",
    "        'source_name_col': 'source',\n",
    "        'source_label_col': 'aggregated_label',\n",
    "        'doc_col': 'content',\n",
    "        'title_col': 'title',\n",
    "        'url_col': 'url',\n",
    "    }, \n",
    "    2020: {\n",
    "        'labels_url': 'https://dataverse.harvard.edu/api/access/datafile/4366864',\n",
    "        'updated_labels_url': 'https://gist.githubusercontent.com/alex-massa/7503bed2209f62ad29fa55962b1e885c/raw/fdd1337d281add9c926c55480f270b60697fc52f/nela-gt-2020-updated-labels.tsv',\n",
    "        'labels_sep': '\\t',\n",
    "        'neg_label_val': 0,\n",
    "        'pos_label_val': 2,\n",
    "        'archive_url': 'https://dataverse.harvard.edu/api/access/datafile/4417502',\n",
    "        'source_name_col': 'source',\n",
    "        'source_label_col': 'label',\n",
    "        'doc_col': 'content',\n",
    "        'title_col': 'title',\n",
    "        'url_col': 'url',\n",
    "    },\n",
    "    2021: {\n",
    "        'labels_url': 'https://dataverse.harvard.edu/api/access/datafile/6099292',\n",
    "        'updated_labels_url': 'https://gist.githubusercontent.com/alex-massa/7503bed2209f62ad29fa55962b1e885c/raw/7aa54589fe7292371a405509eb9c146722baec52/nela-gt-2021-updated-labels.tsv',\n",
    "        'labels_sep': '\\t',\n",
    "        'neg_label_val': 0,\n",
    "        'pos_label_val': 1,\n",
    "        'archive_url': 'https://dataverse.harvard.edu/api/access/datafile/6078140',\n",
    "        'source_name_col': 'source',\n",
    "        'source_label_col': 'label',\n",
    "        'doc_col': 'content',\n",
    "        'title_col': 'title',\n",
    "        'url_col': 'url',\n",
    "    }\n",
    "}"
   ]
  },
  {
   "cell_type": "code",
   "execution_count": null,
   "id": "c1d1d7cd-7b69-4de1-a61a-2596a5ccdbd6",
   "metadata": {},
   "outputs": [],
   "source": [
    "UNWANTED_SOURCES = [\n",
    "    'allianceforadvancedhealth',\n",
    "    'alliancefornaturalhealthbiasjunkscience',\n",
    "    'alternativemediatv',\n",
    "    'anti-impreialist',\n",
    "    'antiimpreialist',\n",
    "    'au',\n",
    "    'bbcuk',\n",
    "    'buzzfeednews',\n",
    "    'chicagosuntimes',\n",
    "    'collective-evolution',\n",
    "    'ezorigin',\n",
    "    'fivethirtyeight',\n",
    "    'freedombunker',\n",
    "    'huffingtonpost',\n",
    "    'live',\n",
    "    'news',\n",
    "    'nypost',\n",
    "    'nytimes',\n",
    "    'politcsuk',\n",
    "    'projects',\n",
    "    'radio',\n",
    "    'skynewspolitics',\n",
    "    'skynewsus',\n",
    "    'social',\n",
    "    'spiegel',\n",
    "    'telegraph',\n",
    "    'theguardianuk',\n",
    "    'thehuffingtonpostpoliticalsatire',\n",
    "    'thehuffingtonpostuk',\n",
    "    'themichellemalkinblog',\n",
    "    'wsj',\n",
    "]"
   ]
  },
  {
   "cell_type": "code",
   "execution_count": null,
   "id": "72b29a37-16da-4b4f-98d0-e6184873eff7",
   "metadata": {},
   "outputs": [],
   "source": [
    "RESOURCES_DIR = './../../resources'\n",
    "\n",
    "SOURCE_DATASET_DIR = f'{RESOURCES_DIR}/source'\n",
    "SOURCE_DATASET_PATH = f'{SOURCE_DATASET_DIR}/source_dataset.csv'\n",
    "\n",
    "RAW_DATASET_DIR = f'{SOURCE_DATASET_DIR}/raw'\n",
    "\n",
    "SOURCE_FILES_ARCHIVE_NAME = 'raw.tar'\n",
    "SOURCE_FILES_ARCHIVE_PATH = f'{RAW_DATASET_DIR}/{SOURCE_FILES_ARCHIVE_NAME}'\n",
    "\n",
    "SOURCE_FILES_DIR_NAME = 'newsdata'\n",
    "SOURCE_FILES_DIR = f'{RAW_DATASET_DIR}/{SOURCE_FILES_DIR_NAME}'\n",
    "\n",
    "SOURCE_LABELS_FILE_NAME = 'labels.tsv'\n",
    "SOURCE_LABELS_PATH = f'{RAW_DATASET_DIR}/{SOURCE_LABELS_FILE_NAME}'\n",
    "\n",
    "PROC_DATA_DIR = f'{RESOURCES_DIR}/processed'"
   ]
  },
  {
   "cell_type": "code",
   "execution_count": null,
   "id": "d40e12fe-d68d-448d-866b-cc214bf01db0",
   "metadata": {},
   "outputs": [],
   "source": [
    "UPDATED_LABELS = True\n",
    "SELECTED_DATASET = SOURCE_DATASET_META[2021]\n",
    "SOURCE_LABELS_URL = SELECTED_DATASET['labels_url'] if not UPDATED_LABELS else SELECTED_DATASET['updated_labels_url']\n",
    "SOURCE_LABELS_SEP = SELECTED_DATASET['labels_sep']\n",
    "SOURCE_NEG_LABEL_VAL = SELECTED_DATASET['neg_label_val']\n",
    "SOURCE_POS_LABEL_VAL = SELECTED_DATASET['pos_label_val']\n",
    "SOURCE_ARCHIVE_URL = SELECTED_DATASET['archive_url']"
   ]
  },
  {
   "cell_type": "code",
   "execution_count": null,
   "id": "f3078d48-8155-4002-b4d0-fdb399ed071e",
   "metadata": {},
   "outputs": [],
   "source": [
    "source_name_col, source_label_col = SELECTED_DATASET['source_name_col'], SELECTED_DATASET['source_label_col']\n",
    "doc_col, title_col, url_col = SELECTED_DATASET['doc_col'], SELECTED_DATASET['title_col'], SELECTED_DATASET['url_col']\n",
    "proc_doc_col, label_col = f'proc_{doc_col}', 'label'"
   ]
  }
 ],
 "metadata": {
  "kernelspec": {
   "display_name": "Python 3 (ipykernel)",
   "language": "python",
   "name": "python3"
  },
  "language_info": {
   "codemirror_mode": {
    "name": "ipython",
    "version": 3
   },
   "file_extension": ".py",
   "mimetype": "text/x-python",
   "name": "python",
   "nbconvert_exporter": "python",
   "pygments_lexer": "ipython3",
   "version": "3.10.4"
  }
 },
 "nbformat": 4,
 "nbformat_minor": 5
}
