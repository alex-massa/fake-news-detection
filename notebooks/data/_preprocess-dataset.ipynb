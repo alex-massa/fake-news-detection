{
 "cells": [
  {
   "cell_type": "code",
   "execution_count": null,
   "id": "706ed2d6",
   "metadata": {},
   "outputs": [],
   "source": [
    "import pandas as pd\n",
    "from tqdm import tqdm\n",
    "from gensim.parsing.preprocessing import preprocess_string"
   ]
  },
  {
   "cell_type": "code",
   "execution_count": null,
   "id": "80dea4fb",
   "metadata": {},
   "outputs": [],
   "source": [
    "logger.info(\"Loading dataset from disk...\")\n",
    "df = pd.read_csv(DATASET_PATH, nrows=N_SAMPLES_TO_LOAD)\n",
    "logger.info(\"Dataset loaded.\")"
   ]
  },
  {
   "cell_type": "code",
   "execution_count": null,
   "id": "f2aaa521",
   "metadata": {},
   "outputs": [],
   "source": [
    "logger.info(\"Preprocessing the dataset...\")\n",
    "\n",
    "# drop empty and duplicate documents\n",
    "df.dropna(subset=[doc_col], inplace=True)\n",
    "df.drop_duplicates(subset=[doc_col], keep='first', inplace=True)\n",
    "# preprocess documents using several filters, turning each document in a list of tokens\n",
    "df[proc_doc_col] = [preprocess_string(doc, filters=DOCUMENT_FILTERS) for doc in tqdm(df[doc_col], disable=SILENT)]\n",
    "\n",
    "# preliminarily drop documents deemed too short and those that don't contain enough unique words\n",
    "if MIN_LENGTH is not None:\n",
    "    df.drop([i for i, row in df.iterrows() if len(row[proc_doc_col]) < MIN_LENGTH], inplace=True)\n",
    "if MIN_UNIQUE is not None:\n",
    "    df.drop([i for i, row in df.iterrows() if len(set(row[proc_doc_col])) < MIN_UNIQUE], inplace=True)\n",
    "\n",
    "# make auxiliary dictionary from processed corpus\n",
    "dictionary = Dictionary(df[proc_doc_col])\n",
    "# filter tokens that appear in few documents from dictionary\n",
    "if MIN_OCCURENCES is not None:\n",
    "    dictionary.filter_extremes(no_below=MIN_OCCURENCES)\n",
    "# remove from processed corpus words that were removed from dictionary\n",
    "df[proc_doc_col] = [[dictionary[word_idx] for word_idx\n",
    "                     in dictionary.doc2idx(doc) if word_idx != -1]\n",
    "                     for doc in df[proc_doc_col]]\n",
    "\n",
    "# drop documents that contain few words that remained in the dictionary\n",
    "if MIN_LENGTH is not None:\n",
    "    df.drop([i for i, row in df.iterrows() \n",
    "             if len([word_idx for word_idx in dictionary.doc2idx(row[proc_doc_col]) \n",
    "                     if word_idx != -1]) < MIN_LENGTH], inplace=True)\n",
    "# drop documents that contain few unique words that remained in the dictionary\n",
    "if MIN_UNIQUE is not None:\n",
    "    df.drop([i for i, row in df.iterrows() \n",
    "             if len({word_idx for word_idx in dictionary.doc2idx(row[proc_doc_col]) \n",
    "                     if word_idx != -1}) < MIN_UNIQUE], inplace=True)\n",
    "\n",
    "# reset index to account for removed entries\n",
    "df.reset_index(drop=True, inplace=True)\n",
    "\n",
    "logger.info(\"Dataset preprocessed.\")"
   ]
  },
  {
   "cell_type": "code",
   "execution_count": null,
   "id": "a1a9f8ea",
   "metadata": {},
   "outputs": [],
   "source": [
    "logger.info(\"Subsampling the dataset...\")\n",
    "\n",
    "n_samples = min(len(df), N_MAX_SAMPLES)\n",
    "\n",
    "neg_label, pos_label = False, True\n",
    "neg_df, pos_df = df.loc[df[label_col] == neg_label], df.loc[df[label_col] == pos_label]\n",
    "\n",
    "n_neg = min(len(neg_df), int(n_samples * .5))\n",
    "n_pos = min(len(pos_df), int(n_samples * .5))\n",
    "\n",
    "neg_df, pos_df = neg_df.sample(n=n_neg, random_state=RANDOM_SEED), \\\n",
    "                 pos_df.sample(n=n_pos, random_state=RANDOM_SEED)\n",
    "df = pd.concat([neg_df, pos_df]).sample(frac=1, ignore_index=True, random_state=RANDOM_SEED)\n",
    "\n",
    "logger.info(\"Dataset subsampled.\")"
   ]
  },
  {
   "cell_type": "code",
   "execution_count": null,
   "id": "952bd1df",
   "metadata": {},
   "outputs": [],
   "source": [
    "# create dictionary from processed and subsampled corpus\n",
    "dictionary = Dictionary(df[proc_doc_col])"
   ]
  },
  {
   "cell_type": "code",
   "execution_count": null,
   "id": "70717bfe",
   "metadata": {},
   "outputs": [],
   "source": [
    "logger.info(\"Saving preprocessed dataset to disk...\")\n",
    "Path(PROC_DATA_DIR).mkdir(parents=True, exist_ok=True)\n",
    "df.to_pickle(PROC_DATASET_PATH), dictionary.save(DICTIONARY_PATH)\n",
    "logger.info(\"Preprocessed dataset saved to disk.\")"
   ]
  }
 ],
 "metadata": {
  "kernelspec": {
   "display_name": "Python 3 (ipykernel)",
   "language": "python",
   "name": "python3"
  },
  "language_info": {
   "codemirror_mode": {
    "name": "ipython",
    "version": 3
   },
   "file_extension": ".py",
   "mimetype": "text/x-python",
   "name": "python",
   "nbconvert_exporter": "python",
   "pygments_lexer": "ipython3",
   "version": "3.10.4"
  }
 },
 "nbformat": 4,
 "nbformat_minor": 5
}
