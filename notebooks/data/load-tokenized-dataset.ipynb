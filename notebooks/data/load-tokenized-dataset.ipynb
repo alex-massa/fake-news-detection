{
 "cells": [
  {
   "cell_type": "code",
   "execution_count": null,
   "id": "2153af53",
   "metadata": {},
   "outputs": [],
   "source": [
    "%run ./../data/load-dataset.ipynb"
   ]
  },
  {
   "cell_type": "code",
   "execution_count": null,
   "id": "ed325700",
   "metadata": {},
   "outputs": [],
   "source": [
    "import re\n",
    "import pandas as pd\n",
    "from string import printable\n",
    "from tqdm import tqdm\n",
    "from gensim.utils import deaccent\n",
    "from gensim.parsing.preprocessing import lower_to_unicode, strip_tags, strip_punctuation, \\\n",
    "                                         strip_non_alphanum, split_alphanum, strip_numeric, strip_short, \\\n",
    "                                         remove_stopwords, stem_text, strip_multiple_whitespaces\n",
    "from gensim.corpora import Dictionary\n",
    "from spacy.lang.en import English"
   ]
  },
  {
   "cell_type": "code",
   "execution_count": null,
   "id": "7d0d3f12",
   "metadata": {},
   "outputs": [],
   "source": [
    "TOKENIZED_DATASET_PATH = f'{PROC_DATA_DIR}/rnn_dataset.pkl'\n",
    "TOKENS_DICTIONARY_PATH = f'{PROC_DATA_DIR}/rnn_dictionary.dict'\n",
    "\n",
    "REPLACEMENT_TOK = '@'"
   ]
  },
  {
   "cell_type": "code",
   "execution_count": null,
   "id": "87cb051a",
   "metadata": {},
   "outputs": [],
   "source": [
    "def apply_filters(x, filters):\n",
    "    for f in filters:\n",
    "        x = f(x)\n",
    "    return x\n",
    "\n",
    "\n",
    "DOCUMENT_FILTERS = [deaccent, lower_to_unicode, strip_tags, strip_multiple_whitespaces]"
   ]
  },
  {
   "cell_type": "code",
   "execution_count": null,
   "id": "7b8c7c2d",
   "metadata": {},
   "outputs": [],
   "source": [
    "rep = {\n",
    "    '‚': ',',\n",
    "    'ʼ': \"'\", '’': \"'\",\n",
    "    '“': '\"', '”': '\"',\n",
    "    '«': '\"', '»': '\"',\n",
    "    '‐': '-', '‑': '-', '‒': '-', '–': '-', '—': '-', '―': '-', '−': '-',\n",
    "    '․': '.', '‥': '..', '…': '...',\n",
    "    '‼': '!!', '⁇': '??', '⁈': '?!', '⁉': '!?',\n",
    "    '⁓': '~', '∼': '~',\n",
    "}\n",
    "rep = dict((re.escape(k), v) for k, v in rep.items())\n",
    "pattern = re.compile('|'.join(rep.keys()))"
   ]
  },
  {
   "cell_type": "code",
   "execution_count": null,
   "id": "a051c2dc",
   "metadata": {},
   "outputs": [],
   "source": [
    "if not Path(TOKENIZED_DATASET_PATH).is_file():\n",
    "    df[proc_doc_col] = df[doc_col].values\n",
    "    tokenizer = English().tokenizer\n",
    "\n",
    "    logger.info(\"Preprocessing corpus...\")\n",
    "    df[proc_doc_col] = [apply_filters(doc, filters=DOCUMENT_FILTERS)\n",
    "                        for doc in tqdm(df[proc_doc_col], disable=SILENT)]\n",
    "\n",
    "    logger.info(\"Replacing special characters...\")\n",
    "    df[proc_doc_col] = [pattern.sub(lambda m: rep[re.escape(m.group(0))], doc)\n",
    "                        for doc in tqdm(df[proc_doc_col], disable=SILENT)]\n",
    "\n",
    "    logger.info(\"Removing unprintable characters...\")\n",
    "    df[proc_doc_col] = [''.join(c for c in doc if c in printable)\n",
    "                        for doc in tqdm(df[proc_doc_col], disable=SILENT)]\n",
    "\n",
    "    logger.info(\"Tokenizing corpus...\")\n",
    "    df[proc_doc_col] = [[t.text for t in tokenizer(doc) if not t.is_space]\n",
    "                        for doc in tqdm(df[proc_doc_col], disable=SILENT)]\n",
    "\n",
    "    dictionary = Dictionary(df[proc_doc_col])\n",
    "    dictionary.filter_extremes(no_below=MIN_OCCURENCES, no_above=1, keep_n=None)\n",
    "\n",
    "    logger.info(\"Replacing unfrequent tokens in corpus...\")\n",
    "    df[proc_doc_col] = [[t if t in dictionary.token2id else REPLACEMENT_TOK for t in doc]\n",
    "                        for doc in tqdm(df[proc_doc_col], disable=SILENT)]\n",
    "\n",
    "    dictionary = Dictionary(df[proc_doc_col])\n",
    "\n",
    "    logger.info(\"Saving tokenized dataset to disk...\")\n",
    "    df.to_pickle(TOKENIZED_DATASET_PATH), dictionary.save(TOKENS_DICTIONARY_PATH)\n",
    "    logger.info(\"Tokenized dataset saved to disk.\")\n",
    "else:\n",
    "    df, dictionary = pd.read_pickle(TOKENIZED_DATASET_PATH), Dictionary.load(TOKENS_DICTIONARY_PATH)"
   ]
  }
 ],
 "metadata": {
  "kernelspec": {
   "display_name": "Python 3 (ipykernel)",
   "language": "python",
   "name": "python3"
  },
  "language_info": {
   "codemirror_mode": {
    "name": "ipython",
    "version": 3
   },
   "file_extension": ".py",
   "mimetype": "text/x-python",
   "name": "python",
   "nbconvert_exporter": "python",
   "pygments_lexer": "ipython3",
   "version": "3.10.4"
  }
 },
 "nbformat": 4,
 "nbformat_minor": 5
}
