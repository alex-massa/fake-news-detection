{
 "cells": [
  {
   "cell_type": "code",
   "execution_count": null,
   "id": "2153af53",
   "metadata": {},
   "outputs": [],
   "source": [
    "%run ./../data/_meta.ipynb"
   ]
  },
  {
   "cell_type": "code",
   "execution_count": null,
   "id": "ed325700",
   "metadata": {},
   "outputs": [],
   "source": [
    "import pandas as pd\n",
    "from pathlib import Path\n",
    "from gensim.corpora import Dictionary"
   ]
  },
  {
   "cell_type": "code",
   "execution_count": null,
   "id": "7d0d3f12",
   "metadata": {},
   "outputs": [],
   "source": [
    "TOK_DATASET_PATH = f'{PROC_DATA_DIR}/tkn_dataset.pkl'\n",
    "TOK_DICTIONARY_PATH = f'{PROC_DATA_DIR}/tkn_dictionary.dict'\n",
    "\n",
    "REPLACEMENT_TOK = '@'"
   ]
  },
  {
   "cell_type": "code",
   "execution_count": null,
   "id": "1cc707b8-cc5f-4ed5-bcce-d4f763a552f4",
   "metadata": {},
   "outputs": [],
   "source": [
    "if not Path(TOK_DATASET_PATH).is_file():\n",
    "    %run ./../data/load-dataset.ipynb\n",
    "    %run ./../data/_preprocess-tokenized-dataset.ipynb\n",
    "else:\n",
    "    df, dictionary = pd.read_pickle(TOK_DATASET_PATH), Dictionary.load(TOK_DICTIONARY_PATH)"
   ]
  }
 ],
 "metadata": {
  "kernelspec": {
   "display_name": "Python 3 (ipykernel)",
   "language": "python",
   "name": "python3"
  },
  "language_info": {
   "codemirror_mode": {
    "name": "ipython",
    "version": 3
   },
   "file_extension": ".py",
   "mimetype": "text/x-python",
   "name": "python",
   "nbconvert_exporter": "python",
   "pygments_lexer": "ipython3",
   "version": "3.10.4"
  }
 },
 "nbformat": 4,
 "nbformat_minor": 5
}
