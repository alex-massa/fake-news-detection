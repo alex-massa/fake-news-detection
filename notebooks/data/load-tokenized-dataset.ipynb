{
 "cells": [
  {
   "cell_type": "code",
   "execution_count": null,
   "id": "2153af53",
   "metadata": {},
   "outputs": [],
   "source": [
    "%run ./../data/load-dataset.ipynb"
   ]
  },
  {
   "cell_type": "code",
   "execution_count": null,
   "id": "ed325700",
   "metadata": {},
   "outputs": [],
   "source": [
    "import spacy\n",
    "import pandas as pd\n",
    "from tqdm import tqdm\n",
    "from gensim.utils import deaccent\n",
    "from gensim.parsing.preprocessing import lower_to_unicode, strip_tags, strip_punctuation, \\\n",
    "                                         strip_non_alphanum, split_alphanum, strip_numeric, strip_short, \\\n",
    "                                         remove_stopwords, stem_text, strip_multiple_whitespaces\n",
    "from gensim.corpora import Dictionary"
   ]
  },
  {
   "cell_type": "code",
   "execution_count": null,
   "id": "7d0d3f12",
   "metadata": {},
   "outputs": [],
   "source": [
    "TOKENIZED_DATASET_PATH = f'{PROC_DATA_DIR}/rnn_dataset.pkl'\n",
    "TOKENS_DICTIONARY_PATH = f'{PROC_DATA_DIR}/rnn_dictionary.dict'\n",
    "\n",
    "DOCUMENT_FILTERS = [deaccent, lower_to_unicode, strip_tags, strip_numeric, stem_text, strip_multiple_whitespaces]\n",
    "#DOCUMENT_FILTERS = [deaccent, lower_to_unicode, strip_tags, strip_numeric, strip_multiple_whitespaces]"
   ]
  },
  {
   "cell_type": "code",
   "execution_count": null,
   "id": "87cb051a",
   "metadata": {},
   "outputs": [],
   "source": [
    "def apply_filters(x, filters):\n",
    "    for f in filters:\n",
    "        x = f(x)\n",
    "    return x"
   ]
  },
  {
   "cell_type": "code",
   "execution_count": null,
   "id": "79779845",
   "metadata": {},
   "outputs": [],
   "source": [
    "if not Path(TOKENIZED_DATASET_PATH).is_file():\n",
    "    corpus = df[doc_col].values\n",
    "    \n",
    "    logger.info(\"Preprocessing corpus...\")\n",
    "    df[proc_doc_col] = [apply_filters(doc, filters=DOCUMENT_FILTERS) for doc in tqdm(corpus)]\n",
    "    logger.info(\"Tokenizing corpus...\")\n",
    "    \n",
    "    nlp = spacy.load('en_core_web_sm', exclude=['tok2vec', 'tagger', 'parser', 'senter',\n",
    "                                                'attribute_ruler', 'lemmatizer', 'ner'])\n",
    "    df[proc_doc_col] = [[t.text for t in nlp(doc)] for doc in tqdm(df[proc_doc_col])]\n",
    "    '''\n",
    "    nlp = spacy.load('en_core_web_lg', exclude=['parser', 'senter', 'ner'])\n",
    "    #nlp = spacy.load('en_core_web_trf', exclude=['parser', 'ner'])\n",
    "    df[proc_doc_col] = [[t.lemma_ for t in nlp(doc)] for doc in tqdm(df[proc_doc_col])]\n",
    "    '''\n",
    "    \n",
    "    dictionary = Dictionary(df[proc_doc_col])\n",
    "\n",
    "    logger.info(\"Saving tokenized dataset to disk...\")\n",
    "    df.to_pickle(TOKENIZED_DATASET_PATH), dictionary.save(TOKENS_DICTIONARY_PATH)\n",
    "    logger.info(\"Tokenized dataset saved to disk.\")\n",
    "else:\n",
    "    df, dictionary = pd.read_pickle(TOKENIZED_DATASET_PATH), Dictionary.load(TOKENS_DICTIONARY_PATH)"
   ]
  },
  {
   "cell_type": "code",
   "execution_count": null,
   "id": "c1e518b5",
   "metadata": {},
   "outputs": [],
   "source": [
    "print(len(dictionary))"
   ]
  },
  {
   "cell_type": "raw",
   "id": "98818ee7",
   "metadata": {},
   "source": [
    "254065"
   ]
  },
  {
   "cell_type": "raw",
   "id": "2d1d6e8f",
   "metadata": {},
   "source": [
    "import spacy\n",
    "#nlp = spacy.load('en_core_web_trf', exclude=['parser', 'ner'])\n",
    "nlp = spacy.load('en_core_web_sm', exclude=['parser', 'senter', 'ner'])\n",
    "doc = \"\"\"\n",
    "    Russian Federation's president Vladimir Putin threatened the usage of the federal nuclear arsenal against countries considered unfriendly.\n",
    "\n",
    "    Such act has deeply concerned NATO members all around Europe and the United States's president Joe Biden stated that it won't go without consequences.\n",
    "\"\"\"\n",
    "[t.lemma_ for t in nlp(doc)]"
   ]
  }
 ],
 "metadata": {
  "kernelspec": {
   "display_name": "Python 3 (ipykernel)",
   "language": "python",
   "name": "python3"
  },
  "language_info": {
   "codemirror_mode": {
    "name": "ipython",
    "version": 3
   },
   "file_extension": ".py",
   "mimetype": "text/x-python",
   "name": "python",
   "nbconvert_exporter": "python",
   "pygments_lexer": "ipython3",
   "version": "3.10.4"
  }
 },
 "nbformat": 4,
 "nbformat_minor": 5
}
