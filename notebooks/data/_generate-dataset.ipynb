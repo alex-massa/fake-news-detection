{
 "cells": [
  {
   "cell_type": "code",
   "execution_count": null,
   "id": "c0f1eccf",
   "metadata": {},
   "outputs": [],
   "source": [
    "import requests\n",
    "import tarfile\n",
    "import numpy as np\n",
    "import pandas as pd\n",
    "from pathlib import Path, PurePath\n",
    "from tqdm import tqdm"
   ]
  },
  {
   "cell_type": "code",
   "execution_count": null,
   "id": "e5a3a1d8",
   "metadata": {},
   "outputs": [],
   "source": [
    "if not Path(RAW_DATASET_DIR).is_dir():\n",
    "    Path(RAW_DATASET_DIR).mkdir(parents=True, exist_ok=True)"
   ]
  },
  {
   "cell_type": "code",
   "execution_count": null,
   "id": "bd45c16c",
   "metadata": {},
   "outputs": [],
   "source": [
    "if not Path(SOURCE_LABELS_PATH).is_file():\n",
    "    logger.info(\"Downloading source labels file...\")\n",
    "    r = requests.get(SOURCE_LABELS_URL, stream=True)\n",
    "    total_size = int(r.headers.get('content-length', 0))\n",
    "    with open(SOURCE_LABELS_PATH, 'wb') as f:\n",
    "        progress_bar = tqdm(total=total_size, unit='iB', unit_scale=True, disable=SILENT)\n",
    "        for data in r.iter_content(1024):\n",
    "            progress_bar.update(len(data))\n",
    "            f.write(data)\n",
    "        progress_bar.close()"
   ]
  },
  {
   "cell_type": "code",
   "execution_count": null,
   "id": "4b949dec",
   "metadata": {},
   "outputs": [],
   "source": [
    "df_sources_labels = pd.read_csv(SOURCE_LABELS_PATH, sep=SOURCE_LABELS_SEP)\n",
    "logger.info(f\"Total sources before dropping mixed and unwanted: \\t {len(df_sources_labels)}\")\n",
    "df_sources_labels.drop([i for i, row in df_sources_labels.iterrows()\n",
    "                        if row[source_label_col] not in (SOURCE_NEG_LABEL_VAL, SOURCE_POS_LABEL_VAL)\n",
    "                        or row[source_name_col] in UNWANTED_SOURCES], inplace=True)\n",
    "logger.info(f\"Total sources after dropping mixed and unwanted:\\t {len(df_sources_labels)}\")\n",
    "used_sources = df_sources_labels[[source_name_col, source_label_col]].to_numpy()\n",
    "sources_dict = {source: True if label == SOURCE_POS_LABEL_VAL else False for source, label in used_sources}"
   ]
  },
  {
   "cell_type": "code",
   "execution_count": null,
   "id": "9bf1bd72",
   "metadata": {},
   "outputs": [],
   "source": [
    "if not Path(SOURCE_FILES_DIR).is_dir():\n",
    "    if not Path(SOURCE_FILES_ARCHIVE_PATH).is_file():\n",
    "        r = requests.get(SOURCE_ARCHIVE_URL, stream=True)\n",
    "        total_size = int(r.headers.get('content-length', 0))\n",
    "        logger.info(\"Downloading source files archive...\")\n",
    "        with open(SOURCE_FILES_ARCHIVE_PATH, 'wb') as f:\n",
    "            progress_bar = tqdm(total=total_size, unit='iB', unit_scale=True, disable=SILENT)\n",
    "            for data in r.iter_content(1024):\n",
    "                progress_bar.update(len(data))\n",
    "                f.write(data)\n",
    "            progress_bar.close()\n",
    "    logger.info(\"Extracting archive...\")\n",
    "    tar = tarfile.open(SOURCE_FILES_ARCHIVE_PATH, 'r')\n",
    "    to_extract = []\n",
    "    for member in tar:\n",
    "        if (_ := Path(member.path)).stem in sources_dict.keys() and _.suffix == '.json':\n",
    "            member.path = member.path.rsplit('/', 1)[1]\n",
    "            to_extract.append(member)\n",
    "    tar.extractall(members=to_extract, path=SOURCE_FILES_DIR)\n",
    "    tar.close()\n",
    "    logger.info(\"Archive extracted.\")"
   ]
  },
  {
   "cell_type": "code",
   "execution_count": null,
   "id": "7a5ececd",
   "metadata": {
    "scrolled": false
   },
   "outputs": [],
   "source": [
    "# loading extracted sources\n",
    "source_files = [f for f in Path(SOURCE_FILES_DIR).iterdir()\n",
    "                if f.is_file() and f.stem in sources_dict.keys()]\n",
    "logger.info(\"Loading source files...\")\n",
    "source_dfs = []\n",
    "for f in tqdm(source_files, disable=SILENT):\n",
    "    source_df = pd.read_json(f)\n",
    "    source_df[source_name_col] = [Path(f).stem] * len(source_df)\n",
    "    source_df[label_col] = [sources_dict[Path(f).stem]] * len(source_df)\n",
    "    source_dfs.append(source_df)\n",
    "dataset_df = pd.concat(source_dfs, ignore_index=True)\n",
    "dataset_df.drop_duplicates(subset=[doc_col], keep='first', inplace=True, ignore_index=True)"
   ]
  },
  {
   "cell_type": "code",
   "execution_count": null,
   "id": "9fb94df4",
   "metadata": {},
   "outputs": [],
   "source": [
    "logger.info(\"Storing files as a unified dataset...\")\n",
    "dataset_df = dataset_df.sample(frac=1, ignore_index=True, random_state=RANDOM_SEED)\n",
    "indices_chunks = np.array_split(dataset_df.index, 1000)\n",
    "for indices_chunk in tqdm(indices_chunks, disable=SILENT):\n",
    "    dataset_df_chunk = dataset_df.loc[indices_chunk]\n",
    "    if not Path(DATASET_PATH).is_file():\n",
    "        dataset_df_chunk.to_csv(DATASET_PATH, mode='w', index=False, header=True)\n",
    "    else:\n",
    "        dataset_df_chunk.to_csv(DATASET_PATH, mode='a', index=False, header=False)\n",
    "logger.info(\"Dataset stored to disk.\")"
   ]
  }
 ],
 "metadata": {
  "kernelspec": {
   "display_name": "Python 3 (ipykernel)",
   "language": "python",
   "name": "python3"
  },
  "language_info": {
   "codemirror_mode": {
    "name": "ipython",
    "version": 3
   },
   "file_extension": ".py",
   "mimetype": "text/x-python",
   "name": "python",
   "nbconvert_exporter": "python",
   "pygments_lexer": "ipython3",
   "version": "3.9.8"
  }
 },
 "nbformat": 4,
 "nbformat_minor": 5
}
