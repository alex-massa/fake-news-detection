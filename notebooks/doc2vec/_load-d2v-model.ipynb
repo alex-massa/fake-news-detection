{
 "cells": [
  {
   "cell_type": "code",
   "execution_count": null,
   "id": "df07387a",
   "metadata": {},
   "outputs": [],
   "source": [
    "%run ./../various/_epoch-callback.ipynb"
   ]
  },
  {
   "cell_type": "code",
   "execution_count": null,
   "id": "347587b0",
   "metadata": {},
   "outputs": [],
   "source": [
    "import os\n",
    "from pathlib import Path\n",
    "from tqdm import tqdm\n",
    "from gensim.models.doc2vec import Doc2Vec, TaggedDocument"
   ]
  },
  {
   "cell_type": "code",
   "execution_count": null,
   "id": "0881c82a",
   "metadata": {},
   "outputs": [],
   "source": [
    "D2V_MODEL_DIR = f'{PROC_DATA_DIR}/d2v'\n",
    "D2V_MODEL_PATH = f'{D2V_MODEL_DIR}/d2v_dataset.model'\n",
    "\n",
    "PV_DIM = 300\n",
    "MODEL_ITERS = 30"
   ]
  },
  {
   "cell_type": "code",
   "execution_count": null,
   "id": "2beaa219",
   "metadata": {},
   "outputs": [],
   "source": [
    "if RANDOM_SEED is not None:\n",
    "    os.environ['PYTHONHASHSEED'] = str(RANDOM_SEED)"
   ]
  },
  {
   "cell_type": "code",
   "execution_count": null,
   "id": "a0020a63",
   "metadata": {},
   "outputs": [],
   "source": [
    "corpus = [TaggedDocument(doc, [i]) for i, doc in enumerate(df[proc_doc_col])]\n",
    "workers = 1 if RANDOM_SEED is not None else 3\n",
    "\n",
    "if not Path(D2V_MODEL_PATH).is_file():\n",
    "    logger.info(\"Training Doc2Vec model...\")\n",
    "    with tqdm(total=MODEL_ITERS, disable=SILENT) as pbar:\n",
    "        d2v_model = Doc2Vec(min_count=1, epochs=MODEL_ITERS, vector_size=PV_DIM, \n",
    "                            workers=workers, seed=RANDOM_SEED)\n",
    "        #wf = {dictionary[idx]: dictionary.dfs[idx] for idx in dictionary}\n",
    "        #d2v_model.build_vocab_from_freq(wf, corpus_count=len(corpus))\n",
    "        d2v_model.build_vocab(corpus)\n",
    "\n",
    "        pbar_updater = GensimEpochCallback(end_func=pbar.update)\n",
    "        loss_tracker = GensimEpochCallback(end_func=d2v_model.get_latest_training_loss)\n",
    "\n",
    "        d2v_model.train(corpus, total_examples=d2v_model.corpus_count, \n",
    "                        epochs=d2v_model.epochs, compute_loss=True,\n",
    "                        callbacks=[pbar_updater, loss_tracker])\n",
    "\n",
    "    logger.debug(\"Logging training loss for each iteration\")\n",
    "    losses = loss_tracker.end_results\n",
    "    prev_loss = 0\n",
    "    for i, loss in enumerate(losses):\n",
    "        logger.debug(f\"{i + 1}: {loss - prev_loss}\")\n",
    "        prev_loss = loss\n",
    "\n",
    "    Path(D2V_MODEL_DIR).mkdir(parents=True, exist_ok=True)\n",
    "    logger.info(\"Storing Doc2Vec model to disk...\")\n",
    "    d2v_model.save(D2V_MODEL_PATH)\n",
    "else:\n",
    "    d2v_model = Doc2Vec.load(D2V_MODEL_PATH)"
   ]
  }
 ],
 "metadata": {
  "kernelspec": {
   "display_name": "Python 3 (ipykernel)",
   "language": "python",
   "name": "python3"
  },
  "language_info": {
   "codemirror_mode": {
    "name": "ipython",
    "version": 3
   },
   "file_extension": ".py",
   "mimetype": "text/x-python",
   "name": "python",
   "nbconvert_exporter": "python",
   "pygments_lexer": "ipython3",
   "version": "3.9.8"
  }
 },
 "nbformat": 4,
 "nbformat_minor": 5
}
