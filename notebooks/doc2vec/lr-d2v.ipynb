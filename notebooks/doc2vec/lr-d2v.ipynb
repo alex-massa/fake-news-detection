{
 "cells": [
  {
   "cell_type": "code",
   "execution_count": 1,
   "id": "ef7baa08-8188-4045-91ee-118c81634081",
   "metadata": {},
   "outputs": [],
   "source": [
    "%run ./../data/load-tokenized-dataset.ipynb\n",
    "%run ./../doc2vec/_load-d2v-model.ipynb\n",
    "%matplotlib inline"
   ]
  },
  {
   "cell_type": "code",
   "execution_count": 2,
   "id": "41f393c0-78b8-41b2-8b11-20ab49109a7f",
   "metadata": {},
   "outputs": [],
   "source": [
    "import numpy as np\n",
    "import matplotlib.pyplot as plt\n",
    "from collections import Counter\n",
    "from scipy.sparse import csr_matrix\n",
    "from sklearn.metrics import log_loss as loss_score\n",
    "from sklearn.metrics import accuracy_score\n",
    "from sklearn.preprocessing import normalize\n",
    "from sklearn.metrics import ConfusionMatrixDisplay\n",
    "from sklearn.model_selection import train_test_split\n",
    "from sklearn.linear_model import LogisticRegression"
   ]
  },
  {
   "cell_type": "code",
   "execution_count": 3,
   "id": "81410b2c-7ac0-4a65-b7a2-302a9ea0b071",
   "metadata": {},
   "outputs": [],
   "source": [
    "INFER = False\n",
    "NORMED = False\n",
    "\n",
    "RANDOM_SEED = 0"
   ]
  },
  {
   "cell_type": "code",
   "execution_count": 4,
   "id": "beb13cdb-7ad0-4810-9654-3d877a2cc80e",
   "metadata": {},
   "outputs": [],
   "source": [
    "corpus, labels = df[[proc_doc_col, label_col]].T.values\n",
    "X = d2v_model.dv.vectors if not INFER else [d2v_model.infer_vector(doc) for doc in tqdm(corpus, disable=SILENT)]\n",
    "y = labels.astype(int)\n",
    "\n",
    "if NORMED:\n",
    "    X = normalize(X, norm='l2', axis=1)\n",
    "\n",
    "X_train, X_test, y_train, y_test = train_test_split(X, y, test_size=.25, random_state=RANDOM_SEED)"
   ]
  },
  {
   "cell_type": "code",
   "execution_count": 5,
   "id": "71c48e00-97e5-4be5-9c96-6a03a740d336",
   "metadata": {},
   "outputs": [
    {
     "data": {
      "text/plain": [
       "(4.390616655456708, 0.87288)"
      ]
     },
     "execution_count": 5,
     "metadata": {},
     "output_type": "execute_result"
    }
   ],
   "source": [
    "model = LogisticRegression(n_jobs=-1)\n",
    "model.fit(X_train, y_train)\n",
    "y_preds = model.predict(X_test)\n",
    "loss, score = loss_score(y_test, y_preds), accuracy_score(y_test, y_preds)\n",
    "loss, score"
   ]
  },
  {
   "cell_type": "code",
   "execution_count": 6,
   "id": "d7d5834b-9669-4287-856a-6428010674c7",
   "metadata": {},
   "outputs": [
    {
     "data": {
      "text/plain": [
       "<sklearn.metrics._plot.confusion_matrix.ConfusionMatrixDisplay at 0x1ed98dab8e0>"
      ]
     },
     "execution_count": 6,
     "metadata": {},
     "output_type": "execute_result"
    },
    {
     "data": {
      "image/png": "[encoded data removed]",
      "text/plain": [
       "<Figure size 432x288 with 1 Axes>"
      ]
     },
     "metadata": {
      "needs_background": "light"
     },
     "output_type": "display_data"
    }
   ],
   "source": [
    "ConfusionMatrixDisplay.from_predictions(y_preds, y_test, normalize='true', colorbar=False,\n",
    "                                        cmap=plt.cm.Blues, display_labels=(\"reliable\", \"unreliable\"))"
   ]
  }
 ],
 "metadata": {
  "kernelspec": {
   "display_name": "Python 3 (ipykernel)",
   "language": "python",
   "name": "python3"
  },
  "language_info": {
   "codemirror_mode": {
    "name": "ipython",
    "version": 3
   },
   "file_extension": ".py",
   "mimetype": "text/x-python",
   "name": "python",
   "nbconvert_exporter": "python",
   "pygments_lexer": "ipython3",
   "version": "3.10.4"
  }
 },
 "nbformat": 4,
 "nbformat_minor": 5
}
