{
 "cells": [
  {
   "cell_type": "code",
   "execution_count": null,
   "id": "6c85d8e1",
   "metadata": {},
   "outputs": [],
   "source": [
    "%run ./../data/load-dataset.ipynb\n",
    "%run ./../doc2vec/_load-d2v-model.ipynb\n",
    "%matplotlib inline"
   ]
  },
  {
   "cell_type": "code",
   "execution_count": null,
   "id": "64e8451b",
   "metadata": {},
   "outputs": [],
   "source": [
    "import numpy as np\n",
    "import matplotlib.pyplot as plt\n",
    "from collections import Counter\n",
    "from sklearn.manifold import TSNE"
   ]
  },
  {
   "cell_type": "code",
   "execution_count": null,
   "id": "9cbf73bb",
   "metadata": {},
   "outputs": [],
   "source": [
    "RANDOM_SEED = 0"
   ]
  },
  {
   "cell_type": "code",
   "execution_count": null,
   "id": "120b6c1e",
   "metadata": {},
   "outputs": [],
   "source": [
    "doc_idx = 10\n",
    "sample_doc = df[proc_doc_col][doc_idx]\n",
    "\n",
    "inferred_dv = d2v_model.infer_vector(sample_doc)\n",
    "sims = d2v_model.dv.most_similar([inferred_dv], topn=len(d2v_model.dv))\n",
    "\n",
    "print(f\"Document [{doc_idx}]: «{df[doc_col][doc_idx][:1000]}…»\", '\\n')\n",
    "for i, label in [(0,            \"Most similar\"),\n",
    "                 (1,            \"Secondmost similar\"), \n",
    "                 (len(df) // 2, \"Median similar\"), \n",
    "                 (len(df) - 1,  \"Least similar\")]:\n",
    "    print(f\"{label} [{sims[i][0]}]: «{df[doc_col][sims[i][0]][:1000]}…»\", '\\n', f\"Similarity: {sims[i][1]}\", '\\n')"
   ]
  },
  {
   "cell_type": "raw",
   "id": "c9735eb8",
   "metadata": {},
   "source": [
    "ranks = []\n",
    "for doc_idx in range(len(df)):\n",
    "    inferred_vector = d2v_model.infer_vector(df[proc_doc_col][doc_idx])\n",
    "    sims = d2v_model.dv.most_similar([inferred_vector], topn=len(d2v_model.dv))\n",
    "    rank = [doc_id for doc_id in np.array(sims).T[0].astype(int)].index(doc_idx)\n",
    "    ranks.append(rank)\n",
    "counter = Counter(ranks)\n",
    "counter"
   ]
  },
  {
   "cell_type": "code",
   "execution_count": null,
   "id": "a25f3042",
   "metadata": {},
   "outputs": [],
   "source": [
    "n_docs = 500\n",
    "random_seed = RANDOM_SEED\n",
    "\n",
    "docs, labels = d2v_model.dv.vectors, df[label_col].values\n",
    "selected_idxs = np.random.default_rng(seed=random_seed).choice(range(len(docs)), size=n_docs)\n",
    "sample_docs = docs[selected_idxs]\n",
    "sample_labels = labels[selected_idxs]\n",
    "\n",
    "reduced_docs = TSNE(n_components=2, verbose=True, random_state=random_seed) \\\n",
    "                    .fit_transform(sample_docs)\n",
    "\n",
    "fig = plt.figure(figsize=(12, 12))\n",
    "ax = fig.gca()\n",
    "ax.scatter(*reduced_docs[[label for label in sample_labels]].T)\n",
    "ax.scatter(*reduced_docs[[not label for label in sample_labels]].T)"
   ]
  }
 ],
 "metadata": {
  "kernelspec": {
   "display_name": "Python 3 (ipykernel)",
   "language": "python",
   "name": "python3"
  },
  "language_info": {
   "codemirror_mode": {
    "name": "ipython",
    "version": 3
   },
   "file_extension": ".py",
   "mimetype": "text/x-python",
   "name": "python",
   "nbconvert_exporter": "python",
   "pygments_lexer": "ipython3",
   "version": "3.9.8"
  }
 },
 "nbformat": 4,
 "nbformat_minor": 5
}
