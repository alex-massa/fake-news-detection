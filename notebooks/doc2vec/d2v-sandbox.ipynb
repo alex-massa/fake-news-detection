{
 "cells": [
  {
   "cell_type": "code",
   "execution_count": 2,
   "id": "6c85d8e1",
   "metadata": {},
   "outputs": [],
   "source": [
    "%run ./../data/load-dataset.ipynb\n",
    "%run ./../doc2vec/load-d2v-model.ipynb"
   ]
  },
  {
   "cell_type": "code",
   "execution_count": 4,
   "id": "96f6f561",
   "metadata": {},
   "outputs": [
    {
     "data": {
      "text/plain": [
       "(80000, 80000)"
      ]
     },
     "execution_count": 4,
     "metadata": {},
     "output_type": "execute_result"
    }
   ],
   "source": [
    "len(d2v_model.dv), len(df)"
   ]
  },
  {
   "cell_type": "code",
   "execution_count": null,
   "id": "120b6c1e",
   "metadata": {},
   "outputs": [],
   "source": [
    "doc_idx = 10\n",
    "sample_doc = df[proc_doc_col][doc_idx]\n",
    "\n",
    "inferred_dv = d2v_model.infer_vector(sample_doc)\n",
    "sims = d2v_model.dv.most_similar([inferred_dv], topn=len(d2v_model.dv))\n",
    "\n",
    "print(f\"Document [{doc_idx}]: «{df[doc_col][doc_idx][:100]} [...]»\", '\\n')\n",
    "for i, label in [(0, \"Most similar\"), \n",
    "                 (1, \"Secondmost similar\"), \n",
    "                 (len(df) // 2, \"Median similar\"), \n",
    "                 (len(df) - 1, \"Least similar\")]:\n",
    "        print(f\"{label} [{sims[i][0]}]: «{df[doc_col][sims[i][0]][:100]} [...]»\", \n",
    "              '\\n', f\"Similarity: {sims[i][1]}\", '\\n')"
   ]
  },
  {
   "cell_type": "raw",
   "id": "a6c149ea",
   "metadata": {},
   "source": [
    "import numpy as np\n",
    "import collections\n",
    "\n",
    "ranks = []\n",
    "for doc_idx in range(len(df)):\n",
    "    inferred_vector = d2v_model.infer_vector(df[proc_doc_col][doc_idx])\n",
    "    sims = d2v_model.dv.most_similar([inferred_vector], topn=len(d2v_model.dv))\n",
    "    rank = [doc_id for doc_id in np.array(sims).T[0].astype(int)].index(doc_idx)\n",
    "    ranks.append(rank)\n",
    "counter = collections.Counter(ranks)\n",
    "counter"
   ]
  }
 ],
 "metadata": {
  "kernelspec": {
   "display_name": "Python 3 (ipykernel)",
   "language": "python",
   "name": "python3"
  },
  "language_info": {
   "codemirror_mode": {
    "name": "ipython",
    "version": 3
   },
   "file_extension": ".py",
   "mimetype": "text/x-python",
   "name": "python",
   "nbconvert_exporter": "python",
   "pygments_lexer": "ipython3",
   "version": "3.9.8"
  }
 },
 "nbformat": 4,
 "nbformat_minor": 5
}
