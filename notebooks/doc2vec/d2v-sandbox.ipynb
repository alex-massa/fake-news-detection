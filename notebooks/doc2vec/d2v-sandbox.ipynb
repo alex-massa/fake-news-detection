{
 "cells": [
  {
   "cell_type": "code",
   "execution_count": null,
   "id": "6c85d8e1",
   "metadata": {},
   "outputs": [],
   "source": [
    "%run ./../data/load-tokenized-dataset.ipynb\n",
    "%run ./../doc2vec/_load-d2v-model.ipynb\n",
    "%matplotlib inline"
   ]
  },
  {
   "cell_type": "code",
   "execution_count": null,
   "id": "64e8451b",
   "metadata": {},
   "outputs": [],
   "source": [
    "import numpy as np\n",
    "import tensorflow as tf\n",
    "import matplotlib.pyplot as plt\n",
    "from tensorboard.plugins import projector\n",
    "from sklearn.decomposition import PCA\n",
    "from collections import Counter"
   ]
  },
  {
   "cell_type": "code",
   "execution_count": null,
   "id": "9cbf73bb",
   "metadata": {},
   "outputs": [],
   "source": [
    "RANDOM_SEED = 0"
   ]
  },
  {
   "cell_type": "code",
   "execution_count": null,
   "id": "120b6c1e",
   "metadata": {},
   "outputs": [],
   "source": [
    "doc_idx = 10\n",
    "sample_doc = df[proc_doc_col][doc_idx]\n",
    "\n",
    "inferred_dv = d2v_model.infer_vector(sample_doc)\n",
    "sims = d2v_model.dv.most_similar([inferred_dv], topn=len(d2v_model.dv))\n",
    "\n",
    "print('\\033[1m', f\"Document [{doc_idx}]:\", '\\033[0m', '\\n', f\"«{df[doc_col][doc_idx][:1000]}…»\", '\\n')\n",
    "for i, label in [(0,            \"Most similar\"),\n",
    "                 (1,            \"Secondmost similar\"), \n",
    "                 (len(df) // 2, \"Median similar\"), \n",
    "                 (len(df) - 1,  \"Least similar\")]:\n",
    "    print('\\033[1m', f\"{label} [{sims[i][0]}, {sims[i][1]}]:\", '\\033[0m', '\\n', f\"«{df[doc_col][sims[i][0]][:1000]}…»\", '\\n')"
   ]
  },
  {
   "cell_type": "raw",
   "id": "c9735eb8",
   "metadata": {},
   "source": [
    "ranks = []\n",
    "for doc_idx in range(len(df)):\n",
    "    inferred_vector = d2v_model.infer_vector(df[proc_doc_col][doc_idx])\n",
    "    sims = d2v_model.dv.most_similar([inferred_vector], topn=len(d2v_model.dv))\n",
    "    rank = [doc_id for doc_id in np.array(sims).T[0].astype(int)].index(doc_idx)\n",
    "    ranks.append(rank)\n",
    "Counter(ranks)"
   ]
  },
  {
   "cell_type": "code",
   "execution_count": null,
   "id": "9a7a6f16",
   "metadata": {},
   "outputs": [],
   "source": [
    "docs, labels = d2v_model.dv.vectors, df[label_col].values\n",
    "\n",
    "reduced_docs = PCA(n_components=2, random_state=RANDOM_SEED).fit_transform(docs)\n",
    "\n",
    "fig = plt.figure(figsize=(12, 12))\n",
    "ax = fig.gca()\n",
    "ax.scatter(*reduced_docs[[label for label in labels]].T, alpha=.1, c='#1f77b4')\n",
    "ax.scatter(*reduced_docs[[not label for label in labels]].T, alpha=.1, c='#d62728')"
   ]
  },
  {
   "cell_type": "code",
   "execution_count": null,
   "id": "ded30364-f573-437f-906f-c439e1bd7a2a",
   "metadata": {},
   "outputs": [],
   "source": [
    "dv = d2v_model.dv.vectors\n",
    "tf.train.Checkpoint(embedding=tf.Variable(dv)).save(f'{D2V_MODEL_DIR}/embedding.ckpt')\n",
    "with open(f'{D2V_MODEL_DIR}/embedding.meta', 'w', encoding='utf-8') as f:\n",
    "    [f.write(str(int(label)) + '\\n') for label in df[label_col]]\n",
    "\n",
    "config = projector.ProjectorConfig()\n",
    "embedding = config.embeddings.add()\n",
    "embedding.tensor_name = 'embedding/.ATTRIBUTES/VARIABLE_VALUE'\n",
    "embedding.metadata_path = 'embedding.meta'\n",
    "projector.visualize_embeddings(D2V_MODEL_DIR, config)\n",
    "\n",
    "# select projector in dropdown menu\n",
    "%reload_ext tensorboard\n",
    "%tensorboard --logdir $D2V_MODEL_DIR"
   ]
  }
 ],
 "metadata": {
  "kernelspec": {
   "display_name": "Python 3 (ipykernel)",
   "language": "python",
   "name": "python3"
  },
  "language_info": {
   "codemirror_mode": {
    "name": "ipython",
    "version": 3
   },
   "file_extension": ".py",
   "mimetype": "text/x-python",
   "name": "python",
   "nbconvert_exporter": "python",
   "pygments_lexer": "ipython3",
   "version": "3.10.4"
  }
 },
 "nbformat": 4,
 "nbformat_minor": 5
}
