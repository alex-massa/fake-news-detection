{
 "cells": [
  {
   "cell_type": "code",
   "execution_count": null,
   "id": "b962fc62",
   "metadata": {},
   "outputs": [],
   "source": [
    "%run ./../data/load-dataset.ipynb"
   ]
  },
  {
   "cell_type": "code",
   "execution_count": null,
   "id": "347587b0",
   "metadata": {},
   "outputs": [],
   "source": [
    "import os\n",
    "from pathlib import Path\n",
    "from gensim.models.doc2vec import Doc2Vec, TaggedDocument"
   ]
  },
  {
   "cell_type": "code",
   "execution_count": null,
   "id": "0881c82a",
   "metadata": {},
   "outputs": [],
   "source": [
    "D2V_MODEL_PATH = f'{PROC_DATA_DIR}/d2v_dataset.model'\n",
    "\n",
    "MODEL_ITERS = 30 # 20 seems to produce good results\n",
    "VEC_DIMS = 300\n",
    "\n",
    "RANDOM_SEED = 0\n",
    "os.environ['PYTHONHASHSEED'] = f'{RANDOM_SEED}'"
   ]
  },
  {
   "cell_type": "code",
   "execution_count": null,
   "id": "a0020a63",
   "metadata": {},
   "outputs": [],
   "source": [
    "corpus = [TaggedDocument(doc, [i]) for i, doc in enumerate(df[proc_doc_col])]\n",
    "workers = 1 if RANDOM_SEED is not None else 3\n",
    "\n",
    "if not os.path.isfile(D2V_MODEL_PATH):\n",
    "    LOGGER.info(\"Training Doc2Vec model...\")\n",
    "    d2v_model = Doc2Vec(corpus, min_count=1, epochs=MODEL_ITERS, vector_size=VEC_DIMS,\n",
    "                        compute_loss=True, workers=workers, seed=RANDOM_SEED)\n",
    "    Path(PROC_DATA_DIR).mkdir(parents=True, exist_ok=True)\n",
    "    LOGGER.info(\"Storing Doc2Vec model to disk...\")\n",
    "    d2v_model.save(D2V_MODEL_PATH)\n",
    "else:\n",
    "    d2v_model = Doc2Vec.load(D2V_MODEL_PATH)"
   ]
  }
 ],
 "metadata": {
  "kernelspec": {
   "display_name": "Python 3 (ipykernel)",
   "language": "python",
   "name": "python3"
  },
  "language_info": {
   "codemirror_mode": {
    "name": "ipython",
    "version": 3
   },
   "file_extension": ".py",
   "mimetype": "text/x-python",
   "name": "python",
   "nbconvert_exporter": "python",
   "pygments_lexer": "ipython3",
   "version": "3.9.8"
  }
 },
 "nbformat": 4,
 "nbformat_minor": 5
}
