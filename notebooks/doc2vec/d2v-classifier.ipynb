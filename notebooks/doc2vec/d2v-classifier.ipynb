{
 "cells": [
  {
   "cell_type": "code",
   "execution_count": null,
   "id": "6e9e6f8d",
   "metadata": {
    "scrolled": true
   },
   "outputs": [],
   "source": [
    "%run ./../data/load-tokenized-dataset.ipynb\n",
    "%run ./../utils/_callbacks.ipynb\n",
    "%run ./../doc2vec/_load-d2v-model.ipynb\n",
    "%matplotlib inline"
   ]
  },
  {
   "cell_type": "code",
   "execution_count": null,
   "id": "30e561d0",
   "metadata": {},
   "outputs": [],
   "source": [
    "import numpy as np\n",
    "import tensorflow as tf\n",
    "import matplotlib.pyplot as plt\n",
    "from sklearn.preprocessing import normalize\n",
    "from sklearn.model_selection import train_test_split\n",
    "from sklearn.metrics import ConfusionMatrixDisplay\n",
    "from tensorflow.keras.models import Sequential\n",
    "from tensorflow.keras.layers import Dense, Dropout\n",
    "from tensorflow.keras.optimizers import Adam\n",
    "from tensorflow.keras.regularizers import l1, l2, l1_l2"
   ]
  },
  {
   "cell_type": "code",
   "execution_count": null,
   "id": "3cfe8711",
   "metadata": {},
   "outputs": [],
   "source": [
    "ITERS = 10\n",
    "\n",
    "INFER = False\n",
    "NORMED = True\n",
    "\n",
    "RANDOM_SEED = 0\n",
    "tf.keras.utils.set_random_seed(RANDOM_SEED)"
   ]
  },
  {
   "cell_type": "code",
   "execution_count": null,
   "id": "bd36069f-543e-444f-99ea-641a7043d7ec",
   "metadata": {},
   "outputs": [],
   "source": [
    "corpus, labels = df[[proc_doc_col, label_col]].T.values\n",
    "X = d2v_model.dv.vectors if not INFER else [d2v_model.infer_vector(doc) for doc in tqdm(corpus, disable=SILENT)]\n",
    "y = labels.astype(int)\n",
    "\n",
    "if NORMED:\n",
    "    X = normalize(X, norm='l2', axis=1)\n",
    "\n",
    "X_train, X_test, y_train, y_test = train_test_split(X, y, test_size=.25, random_state=RANDOM_SEED)\n",
    "X_train, X_val, y_train, y_val = train_test_split(X_train, y_train, test_size=.3, random_state=RANDOM_SEED)\n",
    "\n",
    "X_train, X_val, X_test = tf.constant(X_train), tf.constant(X_val), tf.constant(X_test)\n",
    "y_train, y_val, y_test = tf.constant(y_train), tf.constant(y_val), tf.constant(y_test)"
   ]
  },
  {
   "cell_type": "code",
   "execution_count": null,
   "id": "6c58f7cc",
   "metadata": {},
   "outputs": [],
   "source": [
    "model = Sequential([\n",
    "    Dense(128, input_dim=d2v_model.vector_size, activation=tf.nn.relu),\n",
    "    Dropout(0.5),\n",
    "    Dense(1, activation=tf.nn.sigmoid)\n",
    "])\n",
    "optimizer = Adam(1e-3)\n",
    "model.compile(optimizer=optimizer, loss='binary_crossentropy', metrics=['binary_accuracy'])\n",
    "model.summary()"
   ]
  },
  {
   "cell_type": "code",
   "execution_count": null,
   "id": "b9112a50",
   "metadata": {
    "scrolled": true
   },
   "outputs": [],
   "source": [
    "test_hist = KerasEpochCallback(end_func=model.evaluate, end_args=(X_test, y_test), end_kwargs={'verbose': False})\n",
    "train_hist = model.fit(X_train, y_train, validation_data=(X_val, y_val),\n",
    "                       epochs=ITERS, batch_size=16, shuffle=True, callbacks=[test_hist])\n",
    "\n",
    "train_metrics = np.array(list(zip(train_hist.history['loss'], train_hist.history['binary_accuracy'])))\n",
    "val_metrics = np.array(list(zip(train_hist.history['val_loss'], train_hist.history['val_binary_accuracy'])))\n",
    "test_metrics = np.array(test_hist.end_results)\n",
    "\n",
    "results = [{\"Training Loss\": train_loss, \"Training Accuracy\": train_acc,\n",
    "            \"Validation Loss\": val_loss, \"Validation Accuracy\": val_acc,\n",
    "            \"Test Loss\": test_loss, \"Test Accuracy\": test_acc} \n",
    "           for (train_loss, train_acc), (val_loss, val_acc), (test_loss, test_acc) \n",
    "           in zip(train_metrics, val_metrics, test_metrics)]\n",
    "\n",
    "results_df = pd.DataFrame(results)\n",
    "results_df.index += 1\n",
    "results_df.style.highlight_min(subset=[\"Training Accuracy\", \"Validation Accuracy\", \"Test Accuracy\"], color='lightcoral') \\\n",
    "                .highlight_max(subset=[\"Training Accuracy\", \"Validation Accuracy\", \"Test Accuracy\"], color='lightgreen') \\\n",
    "                .highlight_min(subset=[\"Training Loss\", \"Validation Loss\", \"Test Loss\"], color='lightgreen') \\\n",
    "                .highlight_max(subset=[\"Training Loss\", \"Validation Loss\", \"Test Loss\"], color='lightcoral')"
   ]
  },
  {
   "cell_type": "code",
   "execution_count": null,
   "id": "498c432d",
   "metadata": {},
   "outputs": [],
   "source": [
    "ax = plt.gca()\n",
    "ax.plot(np.arange(0, ITERS), train_metrics.T[0], c='#1f77b4', label=\"Training\")\n",
    "ax.plot(np.arange(0, ITERS), val_metrics.T[0], c='#d62728', label=\"Validation\")\n",
    "ax.plot(np.arange(0, ITERS), test_metrics.T[0], c='#2ca02c', label=\"Test\")\n",
    "ax.legend()\n",
    "plt.xticks(np.arange(0, ITERS), np.arange(1, ITERS + 1))\n",
    "plt.title(\"Loss\")\n",
    "plt.tight_layout()"
   ]
  },
  {
   "cell_type": "code",
   "execution_count": null,
   "id": "54486544",
   "metadata": {},
   "outputs": [],
   "source": [
    "ax = plt.gca()\n",
    "ax.plot(np.arange(0, ITERS), train_metrics.T[1], c='#1f77b4', label=\"Training\")\n",
    "ax.plot(np.arange(0, ITERS), val_metrics.T[1], c='#d62728', label=\"Validation\")\n",
    "ax.plot(np.arange(0, ITERS), test_metrics.T[1], c='#2ca02c', label=\"Test\")\n",
    "ax.legend()\n",
    "plt.xticks(np.arange(0, ITERS), np.arange(1, ITERS + 1))\n",
    "plt.title(\"Accuracy\")\n",
    "plt.tight_layout()"
   ]
  },
  {
   "cell_type": "code",
   "execution_count": null,
   "id": "a98e76fe",
   "metadata": {},
   "outputs": [],
   "source": [
    "true_preds = model.predict(X_test).flatten()\n",
    "y_preds = true_preds.round()\n",
    "ConfusionMatrixDisplay.from_predictions(y_preds, y_test, normalize='true', colorbar=False,\n",
    "                                        cmap=plt.cm.Blues, display_labels=(\"reliable\", \"unreliable\"))"
   ]
  }
 ],
 "metadata": {
  "kernelspec": {
   "display_name": "Python 3 (ipykernel)",
   "language": "python",
   "name": "python3"
  },
  "language_info": {
   "codemirror_mode": {
    "name": "ipython",
    "version": 3
   },
   "file_extension": ".py",
   "mimetype": "text/x-python",
   "name": "python",
   "nbconvert_exporter": "python",
   "pygments_lexer": "ipython3",
   "version": "3.10.4"
  }
 },
 "nbformat": 4,
 "nbformat_minor": 5
}
