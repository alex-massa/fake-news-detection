{
 "cells": [
  {
   "cell_type": "code",
   "execution_count": 1,
   "id": "23ab7ddc",
   "metadata": {},
   "outputs": [],
   "source": [
    "%run ./../data/load-dataset.ipynb\n",
    "%run ./../homegrown/basic-neural-network.ipynb\n",
    "%run ../doc2vec/load-d2v-model.ipynb"
   ]
  },
  {
   "cell_type": "code",
   "execution_count": 2,
   "id": "ace20f52",
   "metadata": {},
   "outputs": [],
   "source": [
    "import numpy as np\n",
    "import matplotlib.pyplot as plt\n",
    "from sklearn.model_selection import train_test_split\n",
    "from sklearn.metrics import ConfusionMatrixDisplay"
   ]
  },
  {
   "cell_type": "code",
   "execution_count": 3,
   "id": "3de8b9c8",
   "metadata": {},
   "outputs": [],
   "source": [
    "ITERS = 100\n",
    "\n",
    "RANDOM_SEED = 0"
   ]
  },
  {
   "cell_type": "code",
   "execution_count": 4,
   "id": "fb49a736",
   "metadata": {},
   "outputs": [],
   "source": [
    "corpus, labels = df[[proc_doc_col, label_col]].T.values\n",
    "X = np.array([d2v_model.dv[i] for i in range(len(corpus))])\n",
    "y = np.array([np.eye(2)[int(label)] for label in labels])\n",
    "train_samples, test_samples, train_labels, test_labels = train_test_split(X, y, random_state=RANDOM_SEED)"
   ]
  },
  {
   "cell_type": "code",
   "execution_count": 5,
   "id": "ab1b4901",
   "metadata": {},
   "outputs": [
    {
     "name": "stderr",
     "output_type": "stream",
     "text": [
      "100%|████████████████████████████████████████████████████████████████████████████████| 101/101 [01:52<00:00,  1.11s/it]\n"
     ]
    },
    {
     "data": {
      "text/html": [
       "<style type=\"text/css\">\n",
       "#T_7fb0c_row0_col0, #T_7fb0c_row0_col1, #T_7fb0c_row0_col3, #T_7fb0c_row10_col2 {\n",
       "  background-color: lightcoral;\n",
       "}\n",
       "#T_7fb0c_row1_col2, #T_7fb0c_row1_col3, #T_7fb0c_row10_col0, #T_7fb0c_row10_col1 {\n",
       "  background-color: lightgreen;\n",
       "}\n",
       "</style>\n",
       "<table id=\"T_7fb0c_\">\n",
       "  <thead>\n",
       "    <tr>\n",
       "      <th class=\"blank level0\" >&nbsp;</th>\n",
       "      <th class=\"col_heading level0 col0\" >Train Loss (MSE)</th>\n",
       "      <th class=\"col_heading level0 col1\" >Train Accuracy</th>\n",
       "      <th class=\"col_heading level0 col2\" >Test Loss (MSE)</th>\n",
       "      <th class=\"col_heading level0 col3\" >Test Accuracy</th>\n",
       "    </tr>\n",
       "  </thead>\n",
       "  <tbody>\n",
       "    <tr>\n",
       "      <th id=\"T_7fb0c_level0_row0\" class=\"row_heading level0 row0\" >0</th>\n",
       "      <td id=\"T_7fb0c_row0_col0\" class=\"data row0 col0\" >0.429749</td>\n",
       "      <td id=\"T_7fb0c_row0_col1\" class=\"data row0 col1\" >0.655117</td>\n",
       "      <td id=\"T_7fb0c_row0_col2\" class=\"data row0 col2\" >0.388390</td>\n",
       "      <td id=\"T_7fb0c_row0_col3\" class=\"data row0 col3\" >0.702650</td>\n",
       "    </tr>\n",
       "    <tr>\n",
       "      <th id=\"T_7fb0c_level0_row1\" class=\"row_heading level0 row1\" >10</th>\n",
       "      <td id=\"T_7fb0c_row1_col0\" class=\"data row1 col0\" >0.331304</td>\n",
       "      <td id=\"T_7fb0c_row1_col1\" class=\"data row1 col1\" >0.753100</td>\n",
       "      <td id=\"T_7fb0c_row1_col2\" class=\"data row1 col2\" >0.348347</td>\n",
       "      <td id=\"T_7fb0c_row1_col3\" class=\"data row1 col3\" >0.738300</td>\n",
       "    </tr>\n",
       "    <tr>\n",
       "      <th id=\"T_7fb0c_level0_row2\" class=\"row_heading level0 row2\" >20</th>\n",
       "      <td id=\"T_7fb0c_row2_col0\" class=\"data row2 col0\" >0.296152</td>\n",
       "      <td id=\"T_7fb0c_row2_col1\" class=\"data row2 col1\" >0.781767</td>\n",
       "      <td id=\"T_7fb0c_row2_col2\" class=\"data row2 col2\" >0.350305</td>\n",
       "      <td id=\"T_7fb0c_row2_col3\" class=\"data row2 col3\" >0.733600</td>\n",
       "    </tr>\n",
       "    <tr>\n",
       "      <th id=\"T_7fb0c_level0_row3\" class=\"row_heading level0 row3\" >30</th>\n",
       "      <td id=\"T_7fb0c_row3_col0\" class=\"data row3 col0\" >0.276126</td>\n",
       "      <td id=\"T_7fb0c_row3_col1\" class=\"data row3 col1\" >0.799150</td>\n",
       "      <td id=\"T_7fb0c_row3_col2\" class=\"data row3 col2\" >0.357833</td>\n",
       "      <td id=\"T_7fb0c_row3_col3\" class=\"data row3 col3\" >0.731650</td>\n",
       "    </tr>\n",
       "    <tr>\n",
       "      <th id=\"T_7fb0c_level0_row4\" class=\"row_heading level0 row4\" >40</th>\n",
       "      <td id=\"T_7fb0c_row4_col0\" class=\"data row4 col0\" >0.259179</td>\n",
       "      <td id=\"T_7fb0c_row4_col1\" class=\"data row4 col1\" >0.811217</td>\n",
       "      <td id=\"T_7fb0c_row4_col2\" class=\"data row4 col2\" >0.362495</td>\n",
       "      <td id=\"T_7fb0c_row4_col3\" class=\"data row4 col3\" >0.731150</td>\n",
       "    </tr>\n",
       "    <tr>\n",
       "      <th id=\"T_7fb0c_level0_row5\" class=\"row_heading level0 row5\" >50</th>\n",
       "      <td id=\"T_7fb0c_row5_col0\" class=\"data row5 col0\" >0.249129</td>\n",
       "      <td id=\"T_7fb0c_row5_col1\" class=\"data row5 col1\" >0.817383</td>\n",
       "      <td id=\"T_7fb0c_row5_col2\" class=\"data row5 col2\" >0.368639</td>\n",
       "      <td id=\"T_7fb0c_row5_col3\" class=\"data row5 col3\" >0.726300</td>\n",
       "    </tr>\n",
       "    <tr>\n",
       "      <th id=\"T_7fb0c_level0_row6\" class=\"row_heading level0 row6\" >60</th>\n",
       "      <td id=\"T_7fb0c_row6_col0\" class=\"data row6 col0\" >0.238615</td>\n",
       "      <td id=\"T_7fb0c_row6_col1\" class=\"data row6 col1\" >0.824500</td>\n",
       "      <td id=\"T_7fb0c_row6_col2\" class=\"data row6 col2\" >0.374627</td>\n",
       "      <td id=\"T_7fb0c_row6_col3\" class=\"data row6 col3\" >0.727500</td>\n",
       "    </tr>\n",
       "    <tr>\n",
       "      <th id=\"T_7fb0c_level0_row7\" class=\"row_heading level0 row7\" >70</th>\n",
       "      <td id=\"T_7fb0c_row7_col0\" class=\"data row7 col0\" >0.234356</td>\n",
       "      <td id=\"T_7fb0c_row7_col1\" class=\"data row7 col1\" >0.826600</td>\n",
       "      <td id=\"T_7fb0c_row7_col2\" class=\"data row7 col2\" >0.379983</td>\n",
       "      <td id=\"T_7fb0c_row7_col3\" class=\"data row7 col3\" >0.725850</td>\n",
       "    </tr>\n",
       "    <tr>\n",
       "      <th id=\"T_7fb0c_level0_row8\" class=\"row_heading level0 row8\" >80</th>\n",
       "      <td id=\"T_7fb0c_row8_col0\" class=\"data row8 col0\" >0.228932</td>\n",
       "      <td id=\"T_7fb0c_row8_col1\" class=\"data row8 col1\" >0.830717</td>\n",
       "      <td id=\"T_7fb0c_row8_col2\" class=\"data row8 col2\" >0.384428</td>\n",
       "      <td id=\"T_7fb0c_row8_col3\" class=\"data row8 col3\" >0.723450</td>\n",
       "    </tr>\n",
       "    <tr>\n",
       "      <th id=\"T_7fb0c_level0_row9\" class=\"row_heading level0 row9\" >90</th>\n",
       "      <td id=\"T_7fb0c_row9_col0\" class=\"data row9 col0\" >0.225472</td>\n",
       "      <td id=\"T_7fb0c_row9_col1\" class=\"data row9 col1\" >0.832333</td>\n",
       "      <td id=\"T_7fb0c_row9_col2\" class=\"data row9 col2\" >0.388167</td>\n",
       "      <td id=\"T_7fb0c_row9_col3\" class=\"data row9 col3\" >0.722750</td>\n",
       "    </tr>\n",
       "    <tr>\n",
       "      <th id=\"T_7fb0c_level0_row10\" class=\"row_heading level0 row10\" >100</th>\n",
       "      <td id=\"T_7fb0c_row10_col0\" class=\"data row10 col0\" >0.220285</td>\n",
       "      <td id=\"T_7fb0c_row10_col1\" class=\"data row10 col1\" >0.836050</td>\n",
       "      <td id=\"T_7fb0c_row10_col2\" class=\"data row10 col2\" >0.392828</td>\n",
       "      <td id=\"T_7fb0c_row10_col3\" class=\"data row10 col3\" >0.719700</td>\n",
       "    </tr>\n",
       "  </tbody>\n",
       "</table>\n"
      ],
      "text/plain": [
       "<pandas.io.formats.style.Styler at 0x239bb824f10>"
      ]
     },
     "execution_count": 5,
     "metadata": {},
     "output_type": "execute_result"
    }
   ],
   "source": [
    "hidden_layer_size = 100\n",
    "iterations = ITERS + 1\n",
    "alpha = 1e-3\n",
    "batch_size = 64  # set to 1 for stochastic gradient descent\n",
    "hid_activation = Activation.RELU\n",
    "out_activation = Activation.SIGMOID\n",
    "dropout = True\n",
    "as_probs = True\n",
    "skip_remaining = True\n",
    "yield_results = True\n",
    "silent = False\n",
    "random_seed = RANDOM_SEED\n",
    "\n",
    "model = BasicNeuralNetwork(hidden_layer_size, epochs=iterations, alpha=alpha,\n",
    "                           batch_size=batch_size, skip_remaining=skip_remaining,\n",
    "                           hid_activation=hid_activation, out_activation=out_activation, \n",
    "                           dropout=dropout, as_probs=as_probs, \n",
    "                           yield_results=yield_results, silent=silent, random_seed=random_seed)\n",
    "\n",
    "data = []\n",
    "predict_sentiment_gen = model.evaluate(train_samples, test_samples, train_labels, test_labels)\n",
    "for (train_preds, train_errors), (test_preds, test_errors) in predict_sentiment_gen:\n",
    "    train_loss = sum(train_errors) / len(train_samples)\n",
    "    train_correct = sum([np.argmax(pred) == np.argmax(label)\n",
    "                         for pred, label\n",
    "                         in zip(train_preds, train_labels)])\n",
    "    train_accuracy = train_correct / len(train_samples)\n",
    "    \n",
    "    test_loss = sum(test_errors) / len(test_samples)\n",
    "    test_correct = sum([np.argmax(pred) == np.argmax(label)\n",
    "                        for pred, label\n",
    "                        in zip(test_preds, test_labels)])\n",
    "    test_accuracy = test_correct / len(test_samples)\n",
    "    \n",
    "    data.append({'Train Predictions': train_preds, 'Train Errors': train_errors,\n",
    "                 'Train Loss (MSE)': train_loss, 'Train Accuracy': train_accuracy,\n",
    "                 'Test Predictions': test_preds, 'Test Errors': test_errors,\n",
    "                 'Test Loss (MSE)': test_loss, 'Test Accuracy': test_accuracy,\n",
    "                 'Correct (Train)': train_correct, 'Correct (Test)': test_correct})\n",
    "\n",
    "results = pd.DataFrame(data)\n",
    "results[['Train Loss (MSE)', 'Train Accuracy', 'Test Loss (MSE)', 'Test Accuracy']][::10].style \\\n",
    "            .highlight_min(subset=['Train Accuracy', 'Test Accuracy'], color='lightcoral') \\\n",
    "            .highlight_max(subset=['Train Accuracy', 'Test Accuracy'], color='lightgreen') \\\n",
    "            .highlight_min(subset=['Train Loss (MSE)', 'Test Loss (MSE)'], color='lightgreen') \\\n",
    "            .highlight_max(subset=['Train Loss (MSE)', 'Test Loss (MSE)'], color='lightcoral')"
   ]
  },
  {
   "cell_type": "code",
   "execution_count": 6,
   "id": "94ad537e",
   "metadata": {},
   "outputs": [
    {
     "data": {
      "text/plain": [
       "<sklearn.metrics._plot.confusion_matrix.ConfusionMatrixDisplay at 0x239cd11e1f0>"
      ]
     },
     "execution_count": 6,
     "metadata": {},
     "output_type": "execute_result"
    },
    {
     "data": {
      "image/png": "[encoded data removed]",
      "text/plain": [
       "<Figure size 432x288 with 2 Axes>"
      ]
     },
     "metadata": {
      "needs_background": "light"
     },
     "output_type": "display_data"
    }
   ],
   "source": [
    "normalize = 'true'\n",
    "\n",
    "true_preds, true_labels = [np.argmax(pred) for pred in test_preds], \\\n",
    "                          [np.argmax(label) for label in test_labels]\n",
    "ConfusionMatrixDisplay.from_predictions(true_labels, true_preds, normalize=normalize,\n",
    "                                        cmap=plt.cm.Blues, display_labels=('reliable', 'unreliable'))"
   ]
  }
 ],
 "metadata": {
  "kernelspec": {
   "display_name": "Python 3 (ipykernel)",
   "language": "python",
   "name": "python3"
  },
  "language_info": {
   "codemirror_mode": {
    "name": "ipython",
    "version": 3
   },
   "file_extension": ".py",
   "mimetype": "text/x-python",
   "name": "python",
   "nbconvert_exporter": "python",
   "pygments_lexer": "ipython3",
   "version": "3.9.8"
  }
 },
 "nbformat": 4,
 "nbformat_minor": 5
}
