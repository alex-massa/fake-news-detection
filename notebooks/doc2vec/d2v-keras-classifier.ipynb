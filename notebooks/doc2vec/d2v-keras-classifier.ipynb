{
 "cells": [
  {
   "cell_type": "code",
   "execution_count": 1,
   "id": "6e9e6f8d",
   "metadata": {},
   "outputs": [],
   "source": [
    "%run ./../data/load-dataset.ipynb\n",
    "%run ./../homegrown/basic-neural-network.ipynb\n",
    "%run ./../doc2vec/load-d2v-model.ipynb"
   ]
  },
  {
   "cell_type": "code",
   "execution_count": 2,
   "id": "30e561d0",
   "metadata": {},
   "outputs": [],
   "source": [
    "import numpy as np\n",
    "import matplotlib.pyplot as plt\n",
    "from sklearn.model_selection import train_test_split\n",
    "from sklearn.metrics import ConfusionMatrixDisplay"
   ]
  },
  {
   "cell_type": "code",
   "execution_count": 3,
   "id": "3cfe8711",
   "metadata": {},
   "outputs": [],
   "source": [
    "ITERS = 100\n",
    "\n",
    "RANDOM_SEED = 0"
   ]
  },
  {
   "cell_type": "code",
   "execution_count": 4,
   "id": "fbb82a98",
   "metadata": {},
   "outputs": [],
   "source": [
    "corpus, labels = df[[proc_doc_col, label_col]].T.values\n",
    "X = np.array([d2v_model.dv[i] for i in range(len(corpus))])\n",
    "y = np.array([np.eye(2)[int(label)] for label in labels])\n",
    "train_samples, test_samples, train_labels, test_labels = train_test_split(X, y, random_state=RANDOM_SEED)"
   ]
  },
  {
   "cell_type": "code",
   "execution_count": null,
   "id": "5beb1f15",
   "metadata": {},
   "outputs": [
    {
     "name": "stdout",
     "output_type": "stream",
     "text": [
      "Epoch 1/100\n",
      "1875/1875 [==============================] - 9s 4ms/step - loss: 0.6890 - accuracy: 0.5733\n",
      "Epoch 2/100\n",
      "1875/1875 [==============================] - 9s 5ms/step - loss: 0.6348 - accuracy: 0.6387: 0s - loss: 0.6357 - accura\n",
      "Epoch 3/100\n",
      "1875/1875 [==============================] - 9s 5ms/step - loss: 0.6102 - accuracy: 0.6690\n",
      "Epoch 4/100\n",
      "1875/1875 [==============================] - 9s 5ms/step - loss: 0.5972 - accuracy: 0.6793: 0s - loss:\n",
      "Epoch 5/100\n",
      "1875/1875 [==============================] - 10s 6ms/step - loss: 0.5887 - accuracy: 0.6882\n",
      "Epoch 6/100\n",
      "1875/1875 [==============================] - 11s 6ms/step - loss: 0.5831 - accuracy: 0.6904 0s - loss: 0.5832 - accuracy\n",
      "Epoch 7/100\n",
      "1875/1875 [==============================] - 9s 5ms/step - loss: 0.5765 - accuracy: 0.6982: 0s - loss: 0.5769 - ac\n",
      "Epoch 8/100\n",
      "1875/1875 [==============================] - 9s 5ms/step - loss: 0.5724 - accuracy: 0.7006\n",
      "Epoch 9/100\n",
      "1875/1875 [==============================] - 9s 5ms/step - loss: 0.5685 - accuracy: 0.7042\n",
      "Epoch 10/100\n",
      "1875/1875 [==============================] - ETA: 0s - loss: 0.5631 - accuracy: 0.70 - 9s 5ms/step - loss: 0.5632 - accuracy: 0.7077\n",
      "Epoch 11/100\n",
      "1875/1875 [==============================] - 9s 5ms/step - loss: 0.5616 - accuracy: 0.7078\n",
      "Epoch 12/100\n",
      "1875/1875 [==============================] - 9s 5ms/step - loss: 0.5560 - accuracy: 0.7112: 1s - loss: 0.5549 - accura - ETA: 0s -\n",
      "Epoch 13/100\n",
      "1875/1875 [==============================] - 9s 5ms/step - loss: 0.5549 - accuracy: 0.7147\n",
      "Epoch 14/100\n",
      "1875/1875 [==============================] - 9s 5ms/step - loss: 0.5497 - accuracy: 0.7175\n",
      "Epoch 15/100\n",
      "1875/1875 [==============================] - 9s 5ms/step - loss: 0.5479 - accuracy: 0.7178\n",
      "Epoch 16/100\n",
      "1875/1875 [==============================] - 9s 5ms/step - loss: 0.5447 - accuracy: 0.7205\n",
      "Epoch 17/100\n",
      "1082/1875 [================>.............] - ETA: 3s - loss: 0.5388 - accuracy: 0.7225"
     ]
    }
   ],
   "source": [
    "import tensorflow as tf\n",
    "from tensorflow.keras.models import Sequential\n",
    "from tensorflow.keras.layers import Dense, Dropout\n",
    "from tensorflow.keras.optimizers import SGD\n",
    "\n",
    "model = Sequential()\n",
    "model.add(Dense(256, input_dim=300, activation=tf.nn.relu))\n",
    "model.add(Dropout(0.5))\n",
    "model.add(Dense(256, activation=tf.nn.relu))\n",
    "model.add(Dropout(0.5))\n",
    "model.add(Dense(80, activation=tf.nn.relu))\n",
    "model.add(Dense(2, activation=tf.nn.softmax))\n",
    "# gradient descent optimizer\n",
    "solver = SGD(learning_rate=1e-3, decay=1e-6, momentum=0.9, nesterov=True)\n",
    "# configure the learning process of the model\n",
    "model.compile(optimizer=solver, loss='binary_crossentropy', metrics=['accuracy'])\n",
    "model.fit(train_samples, train_labels, epochs=ITERS, batch_size=32)\n",
    "model.evaluate(test_samples, test_labels, verbose=True)"
   ]
  },
  {
   "cell_type": "code",
   "execution_count": 6,
   "id": "37888570",
   "metadata": {},
   "outputs": [
    {
     "data": {
      "text/plain": [
       "<sklearn.metrics._plot.confusion_matrix.ConfusionMatrixDisplay at 0x23977143100>"
      ]
     },
     "execution_count": 6,
     "metadata": {},
     "output_type": "execute_result"
    },
    {
     "data": {
      "image/png": "[encoded data removed]",
      "text/plain": [
       "<Figure size 432x288 with 2 Axes>"
      ]
     },
     "metadata": {
      "needs_background": "light"
     },
     "output_type": "display_data"
    }
   ],
   "source": [
    "normalize = 'true'\n",
    "\n",
    "true_preds, true_labels = [np.argmax(pred) for pred in model.predict(test_samples)], \\\n",
    "                          [np.argmax(label) for label in test_labels]\n",
    "ConfusionMatrixDisplay.from_predictions(true_labels, true_preds, normalize=normalize,\n",
    "                                        cmap=plt.cm.Blues, display_labels=('reliable', 'unreliable'))"
   ]
  }
 ],
 "metadata": {
  "kernelspec": {
   "display_name": "Python 3 (ipykernel)",
   "language": "python",
   "name": "python3"
  },
  "language_info": {
   "codemirror_mode": {
    "name": "ipython",
    "version": 3
   },
   "file_extension": ".py",
   "mimetype": "text/x-python",
   "name": "python",
   "nbconvert_exporter": "python",
   "pygments_lexer": "ipython3",
   "version": "3.9.8"
  }
 },
 "nbformat": 4,
 "nbformat_minor": 5
}
