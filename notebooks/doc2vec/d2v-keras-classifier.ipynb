{
 "cells": [
  {
   "cell_type": "code",
   "execution_count": null,
   "id": "6e9e6f8d",
   "metadata": {},
   "outputs": [],
   "source": [
    "%run ./../data/load-dataset.ipynb\n",
    "%run ./../doc2vec/_load-d2v-model.ipynb\n",
    "%run ./../various/_epoch_callback.ipynb\n",
    "%matplotlib inline"
   ]
  },
  {
   "cell_type": "code",
   "execution_count": null,
   "id": "30e561d0",
   "metadata": {},
   "outputs": [],
   "source": [
    "import numpy as np\n",
    "import tensorflow as tf\n",
    "import matplotlib.pyplot as plt\n",
    "from sklearn.model_selection import train_test_split\n",
    "from sklearn.metrics import ConfusionMatrixDisplay\n",
    "from tensorflow.keras.models import Sequential\n",
    "from tensorflow.keras.layers import Dense, Dropout\n",
    "from tensorflow.keras.optimizers import SGD"
   ]
  },
  {
   "cell_type": "code",
   "execution_count": null,
   "id": "3cfe8711",
   "metadata": {},
   "outputs": [],
   "source": [
    "ITERS = 10\n",
    "\n",
    "RANDOM_SEED = 0\n",
    "if RANDOM_SEED is not None:\n",
    "    import os\n",
    "    os.environ['PYTHONHASHSEED'] = str(RANDOM_SEED)\n",
    "    tf.random.set_seed(RANDOM_SEED)"
   ]
  },
  {
   "cell_type": "code",
   "execution_count": null,
   "id": "fbb82a98",
   "metadata": {},
   "outputs": [],
   "source": [
    "corpus, labels = df[[proc_doc_col, label_col]].T.values\n",
    "X = np.array([d2v_model.dv[i] for i in range(len(corpus))])\n",
    "y = np.array([np.eye(2)[int(label)] for label in labels])\n",
    "train_samples, test_samples, train_labels, test_labels = train_test_split(X, y, random_state=RANDOM_SEED)"
   ]
  },
  {
   "cell_type": "code",
   "execution_count": null,
   "id": "6ef86592",
   "metadata": {},
   "outputs": [],
   "source": [
    "model = Sequential()\n",
    "model.add(Dense(100, input_dim=len(X.T), activation=tf.nn.relu))\n",
    "model.add(Dropout(0.5))\n",
    "model.add(Dense(2, activation=tf.nn.sigmoid))\n",
    "model.compile(optimizer='adam', loss='binary_crossentropy', metrics=['accuracy'])\n",
    "\n",
    "train_eval_hist = KerasEpochCallback(end_func=model.evaluate,\n",
    "                                     end_args=(train_samples, train_labels), \n",
    "                                     end_kwargs={'verbose': False})\n",
    "test_eval_hist = KerasEpochCallback(end_func=model.evaluate, ii\n",
    "                                    end_args=(test_samples, test_labels), \n",
    "                                    end_kwargs={'verbose': False})\n",
    "model_hist = model.fit(train_samples, train_labels, epochs=ITERS, batch_size=32,\n",
    "                       callbacks=[train_eval_hist, test_eval_hist])"
   ]
  },
  {
   "cell_type": "code",
   "execution_count": null,
   "id": "0e40c29f",
   "metadata": {},
   "outputs": [],
   "source": [
    "training_metrics = np.array(list(zip(model_hist.history['loss'], model_hist.history['accuracy'])))\n",
    "train_eval_metrics = np.array(train_eval_hist.end_results)\n",
    "test_eval_metrics = np.array(test_eval_hist.end_results)\n",
    "\n",
    "data = []\n",
    "for i in range(len(training_metrics)):\n",
    "    training_loss, training_accuracy = training_metrics[i]\n",
    "    train_loss, train_accuracy = train_eval_metrics[i]\n",
    "    test_loss, test_accuracy = test_eval_metrics[i]\n",
    "    data.append({'Training Loss': training_loss, 'Training Accuracy': training_accuracy,\n",
    "                 'Train Loss': train_loss, 'Train Accuracy': train_accuracy,\n",
    "                 'Test Loss': test_loss, 'Test Accuracy': test_accuracy})\n",
    "\n",
    "results = pd.DataFrame(data)\n",
    "results.index += 1\n",
    "results[['Training Loss', 'Training Accuracy', \n",
    "         'Train Loss', 'Train Accuracy', \n",
    "         'Test Loss', 'Test Accuracy']].style \\\n",
    "            .highlight_min(subset=['Training Accuracy', 'Train Accuracy', 'Test Accuracy'], color='lightcoral') \\\n",
    "            .highlight_max(subset=['Training Accuracy', 'Train Accuracy', 'Test Accuracy'], color='lightgreen') \\\n",
    "            .highlight_min(subset=['Training Loss', 'Train Loss', 'Test Loss'], color='lightgreen') \\\n",
    "            .highlight_max(subset=['Training Loss', 'Train Loss', 'Test Loss'], color='lightcoral')"
   ]
  },
  {
   "cell_type": "code",
   "execution_count": null,
   "id": "37888570",
   "metadata": {},
   "outputs": [],
   "source": [
    "normalize = 'true'\n",
    "\n",
    "true_preds, true_labels = [np.argmax(pred) for pred in model.predict(test_samples)], \\\n",
    "                          [np.argmax(label) for label in test_labels]\n",
    "ConfusionMatrixDisplay.from_predictions(true_labels, true_preds, normalize=normalize,\n",
    "                                        cmap=plt.cm.Blues, display_labels=('reliable', 'unreliable'))"
   ]
  }
 ],
 "metadata": {
  "kernelspec": {
   "display_name": "Python 3 (ipykernel)",
   "language": "python",
   "name": "python3"
  },
  "language_info": {
   "codemirror_mode": {
    "name": "ipython",
    "version": 3
   },
   "file_extension": ".py",
   "mimetype": "text/x-python",
   "name": "python",
   "nbconvert_exporter": "python",
   "pygments_lexer": "ipython3",
   "version": "3.9.8"
  }
 },
 "nbformat": 4,
 "nbformat_minor": 5
}
