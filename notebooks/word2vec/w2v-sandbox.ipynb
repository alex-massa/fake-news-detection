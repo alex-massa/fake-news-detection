{
 "cells": [
  {
   "cell_type": "code",
   "execution_count": null,
   "id": "208e84dc",
   "metadata": {
    "scrolled": true
   },
   "outputs": [],
   "source": [
    "%run ./../data/load-tokenized-dataset.ipynb\n",
    "%run ./../word2vec/_load-w2v-model.ipynb\n",
    "%matplotlib inline"
   ]
  },
  {
   "cell_type": "code",
   "execution_count": null,
   "id": "95440f89",
   "metadata": {},
   "outputs": [],
   "source": [
    "import numpy as np\n",
    "import tensorflow as tf\n",
    "from tensorboard.plugins import projector"
   ]
  },
  {
   "cell_type": "code",
   "execution_count": null,
   "id": "6fa1f757",
   "metadata": {
    "scrolled": true
   },
   "outputs": [],
   "source": [
    "w2v_model.wv.most_similar(positive=['elysee'], topn=10), \\\n",
    "w2v_model.wv.most_similar(positive=['crimea'], topn=10), \\\n",
    "w2v_model.wv.most_similar(positive=['nagorno'], topn=10), \\\n",
    "w2v_model.wv.most_similar(positive=['milan'], topn=10), \\\n",
    "w2v_model.wv.most_similar(positive=['makeshift'], topn=10), \\\n",
    "w2v_model.wv.most_similar(positive=['rigged'], topn=10), \\\n",
    "w2v_model.wv.most_similar(positive=['zion'], topn=10), \\\n",
    "w2v_model.wv.most_similar(positive=['nord'], topn=10)"
   ]
  },
  {
   "cell_type": "code",
   "execution_count": null,
   "id": "e857efba",
   "metadata": {},
   "outputs": [],
   "source": [
    "w2v_model.wv.most_similar(positive=['johnson'], topn=10), \\\n",
    "w2v_model.wv.most_similar(positive=['jinping'], topn=10), \\\n",
    "w2v_model.wv.most_similar(positive=['macron'], topn=10), \\\n",
    "w2v_model.wv.most_similar(positive=['assad'], topn=10), \\\n",
    "w2v_model.wv.most_similar(positive=['francis'], topn=10)"
   ]
  },
  {
   "cell_type": "code",
   "execution_count": null,
   "id": "cc52680c",
   "metadata": {},
   "outputs": [],
   "source": [
    "w2v_model.wv.most_similar(positive=['mcconnell', 'schumer'], topn=10), \\\n",
    "w2v_model.wv.most_similar(positive=['occupation', 'liberation'], topn=10), \\\n",
    "w2v_model.wv.most_similar(positive=['lockheed', 'sukhoi', 'dassault'], topn=10)"
   ]
  },
  {
   "cell_type": "code",
   "execution_count": null,
   "id": "3736f545",
   "metadata": {},
   "outputs": [],
   "source": [
    "w2v_model.wv.doesnt_match(['train', 'plane', 'museum', 'bus', 'car']), \\\n",
    "w2v_model.wv.doesnt_match(['italian', 'british', 'european', 'eurofighter'])"
   ]
  },
  {
   "cell_type": "code",
   "execution_count": null,
   "id": "65e74a89",
   "metadata": {},
   "outputs": [],
   "source": [
    "w2v_model.wv.most_similar(positive=['king', 'woman'], negative=['man'], topn=1), \\\n",
    "w2v_model.wv.most_similar(positive=['italy', 'paris'], negative=['rome'], topn=1), \\\n",
    "w2v_model.wv.most_similar(positive=['running', 'yesterday'], negative=['today'], topn=1)"
   ]
  },
  {
   "cell_type": "markdown",
   "id": "2a4655d8",
   "metadata": {},
   "source": [
    "Averaging the word embeddings for words contained in a document should yield a vector that approximates a word embedding that \"summarizes\" the content of the document. "
   ]
  },
  {
   "cell_type": "code",
   "execution_count": null,
   "id": "05b09cec",
   "metadata": {},
   "outputs": [],
   "source": [
    "doc_idx = 0\n",
    "doc, proc_doc = df[[doc_col, proc_doc_col]].values[doc_idx]\n",
    "w2v_doc = w2v_model.wv[proc_doc]\n",
    "w2v_model.wv.most_similar(positive=np.mean(w2v_doc, axis=0), topn=5), f\"«{doc[:1000]}…»\""
   ]
  },
  {
   "cell_type": "markdown",
   "id": "c33c2819",
   "metadata": {},
   "source": [
    "Visualize the word embeddings by reducing them to two or three dimensions."
   ]
  },
  {
   "cell_type": "code",
   "execution_count": null,
   "id": "21fbf7bf-2804-4070-a62e-48f687e185ad",
   "metadata": {},
   "outputs": [],
   "source": [
    "wv = w2v_model.wv.vectors\n",
    "tf.train.Checkpoint(embedding=tf.Variable(wv)).save(f'{W2V_MODEL_DIR}/embedding.ckpt')\n",
    "with open(f'{W2V_MODEL_DIR}/embedding.meta', 'w', encoding='utf-8') as f:\n",
    "    [f.write(word + '\\n') for word in w2v_model.wv.index_to_key]\n",
    "\n",
    "config = projector.ProjectorConfig()\n",
    "embedding = config.embeddings.add()\n",
    "embedding.tensor_name = 'embedding/.ATTRIBUTES/VARIABLE_VALUE'\n",
    "embedding.metadata_path = 'embedding.meta'\n",
    "projector.visualize_embeddings(W2V_MODEL_DIR, config)\n",
    "\n",
    "# select projector in dropdown menu\n",
    "%reload_ext tensorboard\n",
    "%tensorboard --logdir $W2V_MODEL_DIR"
   ]
  }
 ],
 "metadata": {
  "kernelspec": {
   "display_name": "Python 3 (ipykernel)",
   "language": "python",
   "name": "python3"
  },
  "language_info": {
   "codemirror_mode": {
    "name": "ipython",
    "version": 3
   },
   "file_extension": ".py",
   "mimetype": "text/x-python",
   "name": "python",
   "nbconvert_exporter": "python",
   "pygments_lexer": "ipython3",
   "version": "3.10.4"
  }
 },
 "nbformat": 4,
 "nbformat_minor": 5
}
