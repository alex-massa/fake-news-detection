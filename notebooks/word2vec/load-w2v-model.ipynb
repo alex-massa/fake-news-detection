{
 "cells": [
  {
   "cell_type": "code",
   "execution_count": null,
   "id": "a13cbcbc",
   "metadata": {},
   "outputs": [],
   "source": [
    "%run ./../data/load-dataset.ipynb"
   ]
  },
  {
   "cell_type": "code",
   "execution_count": null,
   "id": "ba665622",
   "metadata": {},
   "outputs": [],
   "source": [
    "import os\n",
    "from pathlib import Path\n",
    "from gensim.models import Word2Vec"
   ]
  },
  {
   "cell_type": "code",
   "execution_count": null,
   "id": "abb81ffd",
   "metadata": {},
   "outputs": [],
   "source": [
    "W2V_MODEL_PATH = f'{PROC_DATA_DIR}/w2v_dataset.model'\n",
    "\n",
    "MODEL_ITERS = 30\n",
    "VEC_DIMS = 300\n",
    "\n",
    "RANDOM_SEED = 0\n",
    "os.environ['PYTHONHASHSEED'] = f'{RANDOM_SEED}'"
   ]
  },
  {
   "cell_type": "code",
   "execution_count": null,
   "id": "0224b495",
   "metadata": {},
   "outputs": [],
   "source": [
    "corpus = df[proc_doc_col]\n",
    "workers = 1 if RANDOM_SEED is not None else 3\n",
    "\n",
    "if not os.path.isfile(W2V_MODEL_PATH):\n",
    "    LOGGER.info(\"Training Word2Vec model...\")\n",
    "    w2v_model = Word2Vec(sentences=corpus, min_count=1, \n",
    "                         epochs=MODEL_ITERS, vector_size=VEC_DIMS,\n",
    "                         compute_loss=True, workers=workers, seed=RANDOM_SEED,\n",
    "                         sg=0, hs=0)\n",
    "    Path(PROC_DATA_DIR).mkdir(parents=True, exist_ok=True)\n",
    "    LOGGER.info(\"Storing Word2Vec model to disk....\")\n",
    "    w2v_model.save(W2V_MODEL_PATH)\n",
    "else:\n",
    "    w2v_model = Word2Vec.load(W2V_MODEL_PATH)"
   ]
  }
 ],
 "metadata": {
  "kernelspec": {
   "display_name": "Python 3 (ipykernel)",
   "language": "python",
   "name": "python3"
  },
  "language_info": {
   "codemirror_mode": {
    "name": "ipython",
    "version": 3
   },
   "file_extension": ".py",
   "mimetype": "text/x-python",
   "name": "python",
   "nbconvert_exporter": "python",
   "pygments_lexer": "ipython3",
   "version": "3.9.8"
  }
 },
 "nbformat": 4,
 "nbformat_minor": 5
}
