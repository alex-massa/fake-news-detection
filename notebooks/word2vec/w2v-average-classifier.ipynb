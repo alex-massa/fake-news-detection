{
 "cells": [
  {
   "cell_type": "code",
   "execution_count": 1,
   "id": "e621669b",
   "metadata": {},
   "outputs": [],
   "source": [
    "%run ./../data/load-dataset.ipynb\n",
    "%run ./../homegrown/basic-neural-network.ipynb\n",
    "%run ./../word2vec/load-w2v-model.ipynb"
   ]
  },
  {
   "cell_type": "code",
   "execution_count": 2,
   "id": "cea296cb",
   "metadata": {},
   "outputs": [],
   "source": [
    "import numpy as np\n",
    "import matplotlib.pyplot as plt\n",
    "from sklearn.model_selection import train_test_split\n",
    "from sklearn.metrics import ConfusionMatrixDisplay"
   ]
  },
  {
   "cell_type": "code",
   "execution_count": 3,
   "id": "5a3633a0",
   "metadata": {},
   "outputs": [],
   "source": [
    "ITERS = 100\n",
    "\n",
    "RANDOM_SEED = 0"
   ]
  },
  {
   "cell_type": "code",
   "execution_count": 4,
   "id": "61ca052f",
   "metadata": {},
   "outputs": [],
   "source": [
    "corpus, labels = df[[proc_doc_col, label_col]].T.values\n",
    "X = np.array([np.mean(w2v_model.wv[doc], axis=0) for doc in corpus])\n",
    "y = np.array([np.eye(2)[int(label)] for label in labels])\n",
    "train_samples, test_samples, train_labels, test_labels = train_test_split(X, y, random_state=RANDOM_SEED)"
   ]
  },
  {
   "cell_type": "code",
   "execution_count": 5,
   "id": "44b78212",
   "metadata": {},
   "outputs": [
    {
     "name": "stderr",
     "output_type": "stream",
     "text": [
      "100%|████████████████████████████████████████████████████████████████████████████████| 101/101 [02:45<00:00,  1.64s/it]\n"
     ]
    },
    {
     "data": {
      "text/html": [
       "<style type=\"text/css\">\n",
       "#T_8d12e_row0_col0, #T_8d12e_row0_col1, #T_8d12e_row0_col2, #T_8d12e_row0_col3 {\n",
       "  background-color: lightcoral;\n",
       "}\n",
       "#T_8d12e_row7_col2, #T_8d12e_row7_col3, #T_8d12e_row10_col0, #T_8d12e_row10_col1 {\n",
       "  background-color: lightgreen;\n",
       "}\n",
       "</style>\n",
       "<table id=\"T_8d12e_\">\n",
       "  <thead>\n",
       "    <tr>\n",
       "      <th class=\"blank level0\" >&nbsp;</th>\n",
       "      <th class=\"col_heading level0 col0\" >Train Loss (MSE)</th>\n",
       "      <th class=\"col_heading level0 col1\" >Train Accuracy</th>\n",
       "      <th class=\"col_heading level0 col2\" >Test Loss (MSE)</th>\n",
       "      <th class=\"col_heading level0 col3\" >Test Accuracy</th>\n",
       "    </tr>\n",
       "  </thead>\n",
       "  <tbody>\n",
       "    <tr>\n",
       "      <th id=\"T_8d12e_level0_row0\" class=\"row_heading level0 row0\" >0</th>\n",
       "      <td id=\"T_8d12e_row0_col0\" class=\"data row0 col0\" >0.458301</td>\n",
       "      <td id=\"T_8d12e_row0_col1\" class=\"data row0 col1\" >0.614417</td>\n",
       "      <td id=\"T_8d12e_row0_col2\" class=\"data row0 col2\" >0.423811</td>\n",
       "      <td id=\"T_8d12e_row0_col3\" class=\"data row0 col3\" >0.661550</td>\n",
       "    </tr>\n",
       "    <tr>\n",
       "      <th id=\"T_8d12e_level0_row1\" class=\"row_heading level0 row1\" >10</th>\n",
       "      <td id=\"T_8d12e_row1_col0\" class=\"data row1 col0\" >0.368112</td>\n",
       "      <td id=\"T_8d12e_row1_col1\" class=\"data row1 col1\" >0.716950</td>\n",
       "      <td id=\"T_8d12e_row1_col2\" class=\"data row1 col2\" >0.363118</td>\n",
       "      <td id=\"T_8d12e_row1_col3\" class=\"data row1 col3\" >0.721300</td>\n",
       "    </tr>\n",
       "    <tr>\n",
       "      <th id=\"T_8d12e_level0_row2\" class=\"row_heading level0 row2\" >20</th>\n",
       "      <td id=\"T_8d12e_row2_col0\" class=\"data row2 col0\" >0.351790</td>\n",
       "      <td id=\"T_8d12e_row2_col1\" class=\"data row2 col1\" >0.734400</td>\n",
       "      <td id=\"T_8d12e_row2_col2\" class=\"data row2 col2\" >0.354207</td>\n",
       "      <td id=\"T_8d12e_row2_col3\" class=\"data row2 col3\" >0.730150</td>\n",
       "    </tr>\n",
       "    <tr>\n",
       "      <th id=\"T_8d12e_level0_row3\" class=\"row_heading level0 row3\" >30</th>\n",
       "      <td id=\"T_8d12e_row3_col0\" class=\"data row3 col0\" >0.340344</td>\n",
       "      <td id=\"T_8d12e_row3_col1\" class=\"data row3 col1\" >0.743650</td>\n",
       "      <td id=\"T_8d12e_row3_col2\" class=\"data row3 col2\" >0.348076</td>\n",
       "      <td id=\"T_8d12e_row3_col3\" class=\"data row3 col3\" >0.736100</td>\n",
       "    </tr>\n",
       "    <tr>\n",
       "      <th id=\"T_8d12e_level0_row4\" class=\"row_heading level0 row4\" >40</th>\n",
       "      <td id=\"T_8d12e_row4_col0\" class=\"data row4 col0\" >0.332132</td>\n",
       "      <td id=\"T_8d12e_row4_col1\" class=\"data row4 col1\" >0.752050</td>\n",
       "      <td id=\"T_8d12e_row4_col2\" class=\"data row4 col2\" >0.344398</td>\n",
       "      <td id=\"T_8d12e_row4_col3\" class=\"data row4 col3\" >0.737950</td>\n",
       "    </tr>\n",
       "    <tr>\n",
       "      <th id=\"T_8d12e_level0_row5\" class=\"row_heading level0 row5\" >50</th>\n",
       "      <td id=\"T_8d12e_row5_col0\" class=\"data row5 col0\" >0.326141</td>\n",
       "      <td id=\"T_8d12e_row5_col1\" class=\"data row5 col1\" >0.757233</td>\n",
       "      <td id=\"T_8d12e_row5_col2\" class=\"data row5 col2\" >0.341387</td>\n",
       "      <td id=\"T_8d12e_row5_col3\" class=\"data row5 col3\" >0.741200</td>\n",
       "    </tr>\n",
       "    <tr>\n",
       "      <th id=\"T_8d12e_level0_row6\" class=\"row_heading level0 row6\" >60</th>\n",
       "      <td id=\"T_8d12e_row6_col0\" class=\"data row6 col0\" >0.319345</td>\n",
       "      <td id=\"T_8d12e_row6_col1\" class=\"data row6 col1\" >0.763500</td>\n",
       "      <td id=\"T_8d12e_row6_col2\" class=\"data row6 col2\" >0.340581</td>\n",
       "      <td id=\"T_8d12e_row6_col3\" class=\"data row6 col3\" >0.741450</td>\n",
       "    </tr>\n",
       "    <tr>\n",
       "      <th id=\"T_8d12e_level0_row7\" class=\"row_heading level0 row7\" >70</th>\n",
       "      <td id=\"T_8d12e_row7_col0\" class=\"data row7 col0\" >0.313352</td>\n",
       "      <td id=\"T_8d12e_row7_col1\" class=\"data row7 col1\" >0.768517</td>\n",
       "      <td id=\"T_8d12e_row7_col2\" class=\"data row7 col2\" >0.338857</td>\n",
       "      <td id=\"T_8d12e_row7_col3\" class=\"data row7 col3\" >0.747200</td>\n",
       "    </tr>\n",
       "    <tr>\n",
       "      <th id=\"T_8d12e_level0_row8\" class=\"row_heading level0 row8\" >80</th>\n",
       "      <td id=\"T_8d12e_row8_col0\" class=\"data row8 col0\" >0.309322</td>\n",
       "      <td id=\"T_8d12e_row8_col1\" class=\"data row8 col1\" >0.771867</td>\n",
       "      <td id=\"T_8d12e_row8_col2\" class=\"data row8 col2\" >0.339806</td>\n",
       "      <td id=\"T_8d12e_row8_col3\" class=\"data row8 col3\" >0.744100</td>\n",
       "    </tr>\n",
       "    <tr>\n",
       "      <th id=\"T_8d12e_level0_row9\" class=\"row_heading level0 row9\" >90</th>\n",
       "      <td id=\"T_8d12e_row9_col0\" class=\"data row9 col0\" >0.304970</td>\n",
       "      <td id=\"T_8d12e_row9_col1\" class=\"data row9 col1\" >0.776850</td>\n",
       "      <td id=\"T_8d12e_row9_col2\" class=\"data row9 col2\" >0.340126</td>\n",
       "      <td id=\"T_8d12e_row9_col3\" class=\"data row9 col3\" >0.743600</td>\n",
       "    </tr>\n",
       "    <tr>\n",
       "      <th id=\"T_8d12e_level0_row10\" class=\"row_heading level0 row10\" >100</th>\n",
       "      <td id=\"T_8d12e_row10_col0\" class=\"data row10 col0\" >0.299962</td>\n",
       "      <td id=\"T_8d12e_row10_col1\" class=\"data row10 col1\" >0.782100</td>\n",
       "      <td id=\"T_8d12e_row10_col2\" class=\"data row10 col2\" >0.339956</td>\n",
       "      <td id=\"T_8d12e_row10_col3\" class=\"data row10 col3\" >0.744950</td>\n",
       "    </tr>\n",
       "  </tbody>\n",
       "</table>\n"
      ],
      "text/plain": [
       "<pandas.io.formats.style.Styler at 0x180f023c580>"
      ]
     },
     "execution_count": 5,
     "metadata": {},
     "output_type": "execute_result"
    }
   ],
   "source": [
    "hidden_layer_size = 100\n",
    "iterations = ITERS + 1\n",
    "alpha = 1e-3\n",
    "batch_size = 32  # set to 1 for stochastic gradient descent\n",
    "hid_activation = Activation.RELU\n",
    "out_activation = Activation.SIGMOID\n",
    "dropout = True\n",
    "as_probs = True\n",
    "skip_remaining = True\n",
    "yield_results = True\n",
    "silent = False\n",
    "random_seed = RANDOM_SEED\n",
    "\n",
    "model = BasicNeuralNetwork(hidden_layer_size, epochs=iterations, alpha=alpha,\n",
    "                           batch_size=batch_size, skip_remaining=skip_remaining,\n",
    "                           hid_activation=hid_activation, out_activation=out_activation, \n",
    "                           dropout=dropout, as_probs=as_probs,\n",
    "                           yield_results=yield_results, silent=silent, random_seed=random_seed)\n",
    "\n",
    "data = []\n",
    "predict_sentiment_gen = model.evaluate(train_samples, test_samples, train_labels, test_labels)\n",
    "for (train_preds, train_errors), (test_preds, test_errors) in predict_sentiment_gen:\n",
    "    train_loss = sum(train_errors) / len(train_samples)\n",
    "    train_correct = sum([np.argmax(pred) == np.argmax(label)\n",
    "                         for pred, label\n",
    "                         in zip(train_preds, train_labels)])\n",
    "    train_accuracy = train_correct / len(train_samples)\n",
    "    \n",
    "    test_loss = sum(test_errors) / len(test_samples)\n",
    "    test_correct = sum([np.argmax(pred) == np.argmax(label)\n",
    "                        for pred, label\n",
    "                        in zip(test_preds, test_labels)])\n",
    "    test_accuracy = test_correct / len(test_samples)\n",
    "    \n",
    "    data.append({'Train Predictions': train_preds, 'Train Errors': train_errors,\n",
    "                 'Train Loss (MSE)': train_loss, 'Train Accuracy': train_accuracy,\n",
    "                 'Test Predictions': test_preds, 'Test Errors': test_errors,\n",
    "                 'Test Loss (MSE)': test_loss, 'Test Accuracy': test_accuracy,\n",
    "                 'Correct (Train)': train_correct, 'Correct (Test)': test_correct})\n",
    "\n",
    "results = pd.DataFrame(data)\n",
    "results[['Train Loss (MSE)', 'Train Accuracy', 'Test Loss (MSE)', 'Test Accuracy']][::10].style \\\n",
    "            .highlight_min(subset=['Train Accuracy', 'Test Accuracy'], color='lightcoral') \\\n",
    "            .highlight_max(subset=['Train Accuracy', 'Test Accuracy'], color='lightgreen') \\\n",
    "            .highlight_min(subset=['Train Loss (MSE)', 'Test Loss (MSE)'], color='lightgreen') \\\n",
    "            .highlight_max(subset=['Train Loss (MSE)', 'Test Loss (MSE)'], color='lightcoral')"
   ]
  },
  {
   "cell_type": "code",
   "execution_count": 6,
   "id": "0fb9c90b",
   "metadata": {},
   "outputs": [
    {
     "data": {
      "text/plain": [
       "<sklearn.metrics._plot.confusion_matrix.ConfusionMatrixDisplay at 0x18020e330a0>"
      ]
     },
     "execution_count": 6,
     "metadata": {},
     "output_type": "execute_result"
    },
    {
     "data": {
      "image/png": "[encoded data removed]",
      "text/plain": [
       "<Figure size 432x288 with 2 Axes>"
      ]
     },
     "metadata": {
      "needs_background": "light"
     },
     "output_type": "display_data"
    }
   ],
   "source": [
    "normalize = 'true'\n",
    "\n",
    "true_preds, true_labels = [np.argmax(pred) for pred in test_preds], \\\n",
    "                          [np.argmax(label) for label in test_labels]\n",
    "ConfusionMatrixDisplay.from_predictions(true_labels, true_preds, normalize=normalize,\n",
    "                                        cmap=plt.cm.Blues, display_labels=('reliable', 'unreliable'))"
   ]
  }
 ],
 "metadata": {
  "kernelspec": {
   "display_name": "Python 3 (ipykernel)",
   "language": "python",
   "name": "python3"
  },
  "language_info": {
   "codemirror_mode": {
    "name": "ipython",
    "version": 3
   },
   "file_extension": ".py",
   "mimetype": "text/x-python",
   "name": "python",
   "nbconvert_exporter": "python",
   "pygments_lexer": "ipython3",
   "version": "3.9.8"
  }
 },
 "nbformat": 4,
 "nbformat_minor": 5
}
