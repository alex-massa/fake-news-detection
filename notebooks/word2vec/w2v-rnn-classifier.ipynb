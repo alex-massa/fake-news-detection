{
 "cells": [
  {
   "cell_type": "code",
   "execution_count": null,
   "id": "0812371d",
   "metadata": {},
   "outputs": [],
   "source": [
    "%run ./../data/load-tokenized-dataset.ipynb\n",
    "%run ./../utils/_callbacks.ipynb\n",
    "%run ./../word2vec/_load-w2v-model.ipynb\n",
    "%matplotlib inline"
   ]
  },
  {
   "cell_type": "code",
   "execution_count": null,
   "id": "b950f13c",
   "metadata": {},
   "outputs": [],
   "source": [
    "import numpy as np\n",
    "import tensorflow as tf\n",
    "import tensorflow_addons as tfa\n",
    "import matplotlib.pyplot as plt\n",
    "from sklearn.model_selection import train_test_split\n",
    "from sklearn.metrics import ConfusionMatrixDisplay\n",
    "from tensorflow.keras.models import Sequential\n",
    "from tensorflow.keras.layers import Input, Dense, Dropout, SpatialDropout1D, Masking, Embedding, LSTM\n",
    "from tensorflow.keras.optimizers import RMSprop\n",
    "from tensorflow.keras.preprocessing.sequence import pad_sequences"
   ]
  },
  {
   "cell_type": "code",
   "execution_count": null,
   "id": "41972b8e",
   "metadata": {},
   "outputs": [],
   "source": [
    "ITERS = 5\n",
    "\n",
    "SAMPLE_LEN = 1024\n",
    "\n",
    "TOP_WORDS = None\n",
    "dictionary.filter_extremes(no_below=1, no_above=1, keep_n=TOP_WORDS)\n",
    "\n",
    "RANDOM_SEED = 0\n",
    "tf.random.set_seed(RANDOM_SEED)\n",
    "#tf.config.experimental.enable_op_determinism()"
   ]
  },
  {
   "cell_type": "code",
   "execution_count": null,
   "id": "212e29e7",
   "metadata": {},
   "outputs": [],
   "source": [
    "w2v_weights = w2v_model.syn1neg\n",
    "key2index = w2v_model.wv.key_to_index"
   ]
  },
  {
   "cell_type": "code",
   "execution_count": null,
   "id": "fc9e4e44-40d8-42d9-baa4-17b4a493cb94",
   "metadata": {},
   "outputs": [],
   "source": [
    "corpus, labels = df[[proc_doc_col, label_col]].T.values\n",
    "X = pad_sequences([[key2index[token] for token in doc if token in key2index][:SAMPLE_LEN] for doc in corpus],\n",
    "                  maxlen=SAMPLE_LEN, padding='post', truncating='post', value=len(dictionary))\n",
    "y = labels.astype(int)\n",
    "\n",
    "X, y = list((zip(*[(sample, label) for sample, label in zip(X, y) if len(sample) > 0])))\n",
    "\n",
    "X_train, X_test, y_train, y_test = train_test_split(X, y, test_size=.25, random_state=RANDOM_SEED)\n",
    "X_train, X_val, y_train, y_val = train_test_split(X_train, y_train, test_size=.3, random_state=RANDOM_SEED)\n",
    "\n",
    "X_train, X_val, X_test = tf.constant(X_train), tf.constant(X_val), tf.constant(X_test)\n",
    "y_train, y_val, y_test = tf.constant(y_train), tf.constant(y_val), tf.constant(y_test)"
   ]
  },
  {
   "cell_type": "code",
   "execution_count": null,
   "id": "42e2c139-2639-4c13-bd20-e3d5c381ca4a",
   "metadata": {},
   "outputs": [],
   "source": [
    "model = Sequential([\n",
    "    Input(shape=(None, ), dtype=tf.int32),          \n",
    "    Masking(mask_value=len(dictionary)),\n",
    "    Embedding(input_dim=len(dictionary) + 1, output_dim=512, trainable=True,\n",
    "              weights=[np.append(w2v_weights, [tf.keras.initializers.random_uniform(seed=RANDOM_SEED)\n",
    "                                               (shape=[w2v_model.vector_size, ])], axis=0)]),\n",
    "    SpatialDropout1D(0.2),\n",
    "    LSTM(512, activation=tf.nn.tanh, recurrent_activation=tf.nn.sigmoid),\n",
    "    Dense(128, activation=tf.nn.swish),\n",
    "    Dropout(0.2),\n",
    "    Dense(1, activation=tf.nn.sigmoid)\n",
    "])\n",
    "model.summary()"
   ]
  },
  {
   "cell_type": "code",
   "execution_count": null,
   "id": "9932a4a6",
   "metadata": {
    "tags": []
   },
   "outputs": [],
   "source": [
    "model.compile(optimizer=RMSprop(1e-3), loss='binary_crossentropy', metrics=['binary_accuracy'])\n",
    "\n",
    "test_hist = KerasEpochCallback(end_func=model.evaluate, end_args=(X_test, y_test), end_kwargs={'verbose': False})\n",
    "train_hist = model.fit(X_train, y_train, validation_data=(X_val, y_val),\n",
    "                       epochs=ITERS, batch_size=16, shuffle=True, callbacks=[test_hist])\n",
    "\n",
    "train_metrics = np.array(list(zip(train_hist.history['loss'], train_hist.history['binary_accuracy'])))\n",
    "val_metrics = np.array(list(zip(train_hist.history['val_loss'], train_hist.history['val_binary_accuracy'])))\n",
    "test_metrics = np.array(test_hist.end_results)\n",
    "\n",
    "results = [{\"Training Loss\": train_loss, \"Training Accuracy\": train_acc,\n",
    "            \"Validation Loss\": val_loss, \"Validation Accuracy\": val_acc,\n",
    "            \"Test Loss\": test_loss, \"Test Accuracy\": test_acc} \n",
    "           for (train_loss, train_acc), (val_loss, val_acc), (test_loss, test_acc) \n",
    "           in zip(train_metrics, val_metrics, test_metrics)]\n",
    "\n",
    "results_df = pd.DataFrame(results)\n",
    "results_df.index += 1\n",
    "results_df.style.highlight_min(subset=[\"Training Accuracy\", \"Validation Accuracy\", \"Test Accuracy\"], color='lightcoral') \\\n",
    "                .highlight_max(subset=[\"Training Accuracy\", \"Validation Accuracy\", \"Test Accuracy\"], color='lightgreen') \\\n",
    "                .highlight_min(subset=[\"Training Loss\", \"Validation Loss\", \"Test Loss\"], color='lightgreen') \\\n",
    "                .highlight_max(subset=[\"Training Loss\", \"Validation Loss\", \"Test Loss\"], color='lightcoral')"
   ]
  },
  {
   "cell_type": "code",
   "execution_count": null,
   "id": "5ab3e8c2",
   "metadata": {
    "tags": []
   },
   "outputs": [],
   "source": [
    "ax = plt.gca()\n",
    "ax.plot(np.arange(0, ITERS), train_metrics.T[0], marker='o', c='#1f77b4', label=\"Training\")\n",
    "ax.plot(np.arange(0, ITERS), val_metrics.T[0], marker='o', c='#d62728', label=\"Validation\")\n",
    "ax.plot(np.arange(0, ITERS), test_metrics.T[0], marker='o', c='#2ca02c', label=\"Test\")\n",
    "ax.legend()\n",
    "plt.xticks(np.arange(0, ITERS), np.arange(1, ITERS + 1))\n",
    "plt.title(\"Loss\")\n",
    "plt.tight_layout()"
   ]
  },
  {
   "cell_type": "code",
   "execution_count": null,
   "id": "7507e221",
   "metadata": {},
   "outputs": [],
   "source": [
    "ax = plt.gca()\n",
    "ax.plot(np.arange(0, ITERS), train_metrics.T[1], marker='o', c='#1f77b4', label=\"Training\")\n",
    "ax.plot(np.arange(0, ITERS), val_metrics.T[1], marker='o', c='#d62728', label=\"Validation\")\n",
    "ax.plot(np.arange(0, ITERS), test_metrics.T[1], marker='o', c='#2ca02c', label=\"Test\")\n",
    "ax.legend()\n",
    "plt.xticks(np.arange(0, ITERS), np.arange(1, ITERS + 1))\n",
    "plt.title(\"Accuracy\")\n",
    "plt.tight_layout()"
   ]
  },
  {
   "cell_type": "code",
   "execution_count": null,
   "id": "b757c19f",
   "metadata": {},
   "outputs": [],
   "source": [
    "true_preds = model.predict(X_test).flatten()\n",
    "y_preds = true_preds.round()\n",
    "ConfusionMatrixDisplay.from_predictions(y_preds, y_test, normalize='true', colorbar=False,\n",
    "                                        cmap=plt.cm.Blues, display_labels=(\"reliable\", \"unreliable\"))"
   ]
  }
 ],
 "metadata": {
  "kernelspec": {
   "display_name": "Python 3 (ipykernel)",
   "language": "python",
   "name": "python3"
  },
  "language_info": {
   "codemirror_mode": {
    "name": "ipython",
    "version": 3
   },
   "file_extension": ".py",
   "mimetype": "text/x-python",
   "name": "python",
   "nbconvert_exporter": "python",
   "pygments_lexer": "ipython3",
   "version": "3.10.4"
  }
 },
 "nbformat": 4,
 "nbformat_minor": 5
}
