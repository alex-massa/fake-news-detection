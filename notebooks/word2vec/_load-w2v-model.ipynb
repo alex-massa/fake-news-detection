{
 "cells": [
  {
   "cell_type": "code",
   "execution_count": null,
   "id": "59241a2b",
   "metadata": {},
   "outputs": [],
   "source": [
    "%run ./../various/_epoch-callback.ipynb"
   ]
  },
  {
   "cell_type": "code",
   "execution_count": null,
   "id": "ba665622",
   "metadata": {},
   "outputs": [],
   "source": [
    "import os\n",
    "from pathlib import Path\n",
    "from tqdm import tqdm\n",
    "from gensim.models.word2vec import Word2Vec"
   ]
  },
  {
   "cell_type": "code",
   "execution_count": null,
   "id": "abb81ffd",
   "metadata": {},
   "outputs": [],
   "source": [
    "W2V_MODEL_DIR = f'{PROC_DATA_DIR}/w2v'\n",
    "W2V_MODEL_PATH = f'{W2V_MODEL_DIR}/w2v_model.model'\n",
    "\n",
    "WV_DIM = 300\n",
    "MODEL_ITERS = 30"
   ]
  },
  {
   "cell_type": "code",
   "execution_count": null,
   "id": "9877ef70",
   "metadata": {},
   "outputs": [],
   "source": [
    "if RANDOM_SEED is not None:\n",
    "    os.environ['PYTHONHASHSEED'] = str(RANDOM_SEED)"
   ]
  },
  {
   "cell_type": "code",
   "execution_count": null,
   "id": "0224b495",
   "metadata": {},
   "outputs": [],
   "source": [
    "corpus = df[proc_doc_col].tolist()\n",
    "workers = 1 if RANDOM_SEED is not None else 3\n",
    "\n",
    "if not Path(W2V_MODEL_PATH).is_file():\n",
    "    logger.info(\"Training Word2Vec model...\")\n",
    "    with tqdm(total=MODEL_ITERS, disable=SILENT) as pbar:\n",
    "        w2v_model = Word2Vec(min_count=1, epochs=MODEL_ITERS, vector_size=WV_DIM, \n",
    "                             workers=workers, seed=RANDOM_SEED)\n",
    "        wf = {dictionary[idx]: dictionary.dfs[idx] for idx in dictionary}\n",
    "        w2v_model.build_vocab_from_freq(wf, corpus_count=len(corpus))\n",
    "        #w2v_model.build_vocab(corpus)\n",
    "\n",
    "        pbar_updater = GensimEpochCallback(end_func=pbar.update)\n",
    "        loss_tracker = GensimEpochCallback(end_func=w2v_model.get_latest_training_loss)\n",
    "\n",
    "        w2v_model.train(corpus, total_examples=w2v_model.corpus_count, \n",
    "                        epochs=w2v_model.epochs, compute_loss=True,\n",
    "                        callbacks=[pbar_updater, loss_tracker])\n",
    "\n",
    "    logger.debug(\"Logging training loss for each iteration\")\n",
    "    losses = loss_tracker.end_results\n",
    "    prev_loss = 0\n",
    "    for i, loss in enumerate(losses):\n",
    "        logger.debug(f\"{i + 1}: {loss - prev_loss}\")\n",
    "        prev_loss = loss\n",
    "\n",
    "    Path(W2V_MODEL_DIR).mkdir(parents=True, exist_ok=True)\n",
    "    logger.info(\"Storing Word2Vec model to disk...\")\n",
    "    w2v_model.save(W2V_MODEL_PATH)\n",
    "else:\n",
    "    w2v_model = Word2Vec.load(W2V_MODEL_PATH)"
   ]
  },
  {
   "cell_type": "code",
   "execution_count": null,
   "id": "a66de69f",
   "metadata": {},
   "outputs": [],
   "source": [
    "import numpy as np\n",
    "np.savetxt(f'{W2V_MODEL_DIR}/w2v_wv.tsv', w2v_model.wv.vectors, delimiter='\\t')\n",
    "with open(f'{W2V_MODEL_DIR}/w2v_wv.meta', 'w', encoding='utf-8') as f:\n",
    "    [f.write(_ + '\\n') for _ in w2v_model.wv.index_to_key]"
   ]
  }
 ],
 "metadata": {
  "kernelspec": {
   "display_name": "Python 3 (ipykernel)",
   "language": "python",
   "name": "python3"
  },
  "language_info": {
   "codemirror_mode": {
    "name": "ipython",
    "version": 3
   },
   "file_extension": ".py",
   "mimetype": "text/x-python",
   "name": "python",
   "nbconvert_exporter": "python",
   "pygments_lexer": "ipython3",
   "version": "3.10.4"
  }
 },
 "nbformat": 4,
 "nbformat_minor": 5
}
